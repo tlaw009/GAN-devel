{
 "cells": [
  {
   "cell_type": "code",
   "execution_count": 1,
   "id": "95e6681e",
   "metadata": {},
   "outputs": [],
   "source": [
    "import glob\n",
    "import imageio\n",
    "import matplotlib.pyplot as plt\n",
    "import numpy as np\n",
    "import os\n",
    "import PIL\n",
    "from tensorflow.keras import layers\n",
    "import time\n",
    "from tensorflow.keras import Model\n",
    "import tensorflow as tf\n",
    "import tensorflow_addons as tfa\n",
    "\n",
    "from IPython import display"
   ]
  },
  {
   "cell_type": "markdown",
   "id": "952c85b1",
   "metadata": {},
   "source": [
    "## Attention Layer"
   ]
  },
  {
   "cell_type": "markdown",
   "id": "eef0b29b",
   "metadata": {},
   "source": [
    "### Ref Code"
   ]
  },
  {
   "cell_type": "markdown",
   "id": "86b049be",
   "metadata": {},
   "source": [
    "#### Compact v1 format"
   ]
  },
  {
   "cell_type": "code",
   "execution_count": 3,
   "id": "f09910ad",
   "metadata": {},
   "outputs": [],
   "source": [
    "def contract_inner(x, y):\n",
    "#   \"\"\"tensordot(x, y, 1).\"\"\"\n",
    "  x_chars = list(string.ascii_lowercase[:len(x.shape)])\n",
    "  y_chars = list(string.ascii_uppercase[:len(y.shape)])\n",
    "  assert len(x_chars) == len(x.shape) and len(y_chars) == len(y.shape)\n",
    "  y_chars[0] = x_chars[-1]  # first axis of y and last of x get summed\n",
    "  out_chars = x_chars[:-1] + y_chars[1:]\n",
    "  return _einsum(x_chars, y_chars, out_chars, x, y)\n"
   ]
  },
  {
   "cell_type": "markdown",
   "id": "f92d5b17",
   "metadata": {},
   "source": [
    "##### Replace with tf.tensordot"
   ]
  },
  {
   "cell_type": "markdown",
   "id": "c6ad1db7",
   "metadata": {},
   "source": [
    "#### Testing tf.tensorfot io behavior"
   ]
  },
  {
   "cell_type": "code",
   "execution_count": 9,
   "id": "4c12ca9c",
   "metadata": {},
   "outputs": [
    {
     "name": "stdout",
     "output_type": "stream",
     "text": [
      "(2, 32, 32, 3) (3, 3)\n"
     ]
    }
   ],
   "source": [
    "x = tf.constant(2, shape=(2,32,32,3))\n",
    "w = tf.constant(1, shape=(3,3))\n",
    "print(x.shape, w.shape)"
   ]
  },
  {
   "cell_type": "code",
   "execution_count": 10,
   "id": "d7b2c801",
   "metadata": {},
   "outputs": [
    {
     "ename": "InvalidArgumentError",
     "evalue": "Matrix size-incompatible: In[0]: [3072,2], In[1]: [3,3] [Op:MatMul]",
     "output_type": "error",
     "traceback": [
      "\u001b[0;31m---------------------------------------------------------------------------\u001b[0m",
      "\u001b[0;31mInvalidArgumentError\u001b[0m                      Traceback (most recent call last)",
      "Input \u001b[0;32mIn [10]\u001b[0m, in \u001b[0;36m<cell line: 1>\u001b[0;34m()\u001b[0m\n\u001b[0;32m----> 1\u001b[0m y \u001b[38;5;241m=\u001b[39m \u001b[43mtf\u001b[49m\u001b[38;5;241;43m.\u001b[39;49m\u001b[43mtensordot\u001b[49m\u001b[43m(\u001b[49m\u001b[43mx\u001b[49m\u001b[43m,\u001b[49m\u001b[43m \u001b[49m\u001b[43mw\u001b[49m\u001b[43m,\u001b[49m\u001b[43m \u001b[49m\u001b[43m[\u001b[49m\u001b[43m[\u001b[49m\u001b[38;5;241;43m0\u001b[39;49m\u001b[43m]\u001b[49m\u001b[43m,\u001b[49m\u001b[43m[\u001b[49m\u001b[38;5;241;43m-\u001b[39;49m\u001b[38;5;241;43m1\u001b[39;49m\u001b[43m]\u001b[49m\u001b[43m]\u001b[49m\u001b[43m)\u001b[49m\n",
      "File \u001b[0;32m~/anaconda3/envs/gan/lib/python3.8/site-packages/tensorflow/python/util/traceback_utils.py:153\u001b[0m, in \u001b[0;36mfilter_traceback.<locals>.error_handler\u001b[0;34m(*args, **kwargs)\u001b[0m\n\u001b[1;32m    151\u001b[0m \u001b[38;5;28;01mexcept\u001b[39;00m \u001b[38;5;167;01mException\u001b[39;00m \u001b[38;5;28;01mas\u001b[39;00m e:\n\u001b[1;32m    152\u001b[0m   filtered_tb \u001b[38;5;241m=\u001b[39m _process_traceback_frames(e\u001b[38;5;241m.\u001b[39m__traceback__)\n\u001b[0;32m--> 153\u001b[0m   \u001b[38;5;28;01mraise\u001b[39;00m e\u001b[38;5;241m.\u001b[39mwith_traceback(filtered_tb) \u001b[38;5;28;01mfrom\u001b[39;00m \u001b[38;5;28mNone\u001b[39m\n\u001b[1;32m    154\u001b[0m \u001b[38;5;28;01mfinally\u001b[39;00m:\n\u001b[1;32m    155\u001b[0m   \u001b[38;5;28;01mdel\u001b[39;00m filtered_tb\n",
      "File \u001b[0;32m~/anaconda3/envs/gan/lib/python3.8/site-packages/tensorflow/python/framework/ops.py:7164\u001b[0m, in \u001b[0;36mraise_from_not_ok_status\u001b[0;34m(e, name)\u001b[0m\n\u001b[1;32m   7162\u001b[0m \u001b[38;5;28;01mdef\u001b[39;00m \u001b[38;5;21mraise_from_not_ok_status\u001b[39m(e, name):\n\u001b[1;32m   7163\u001b[0m   e\u001b[38;5;241m.\u001b[39mmessage \u001b[38;5;241m+\u001b[39m\u001b[38;5;241m=\u001b[39m (\u001b[38;5;124m\"\u001b[39m\u001b[38;5;124m name: \u001b[39m\u001b[38;5;124m\"\u001b[39m \u001b[38;5;241m+\u001b[39m name \u001b[38;5;28;01mif\u001b[39;00m name \u001b[38;5;129;01mis\u001b[39;00m \u001b[38;5;129;01mnot\u001b[39;00m \u001b[38;5;28;01mNone\u001b[39;00m \u001b[38;5;28;01melse\u001b[39;00m \u001b[38;5;124m\"\u001b[39m\u001b[38;5;124m\"\u001b[39m)\n\u001b[0;32m-> 7164\u001b[0m   \u001b[38;5;28;01mraise\u001b[39;00m core\u001b[38;5;241m.\u001b[39m_status_to_exception(e) \u001b[38;5;28;01mfrom\u001b[39;00m \u001b[38;5;28mNone\u001b[39m\n",
      "\u001b[0;31mInvalidArgumentError\u001b[0m: Matrix size-incompatible: In[0]: [3072,2], In[1]: [3,3] [Op:MatMul]"
     ]
    }
   ],
   "source": [
    "y = tf.tensordot(x, w, [[0],[-1]])"
   ]
  },
  {
   "cell_type": "code",
   "execution_count": null,
   "id": "1b5ca7f6",
   "metadata": {},
   "outputs": [],
   "source": [
    "def nin(x, *, name, num_units, init_scale=1.):\n",
    "  with tf.variable_scope(name):\n",
    "    in_dim = int(x.shape[-1])\n",
    "    W = tf.get_variable('W', shape=[in_dim, num_units], initializer=default_init(scale=init_scale), dtype=DEFAULT_DTYPE)\n",
    "    b = tf.get_variable('b', shape=[num_units], initializer=tf.constant_initializer(0.), dtype=DEFAULT_DTYPE)\n",
    "    y = contract_inner(x, W) + b\n",
    "    assert y.shape == x.shape[:-1] + [num_units]\n",
    "    return y\n"
   ]
  },
  {
   "cell_type": "code",
   "execution_count": 2,
   "id": "b646913a",
   "metadata": {},
   "outputs": [],
   "source": [
    "def attn_block(x, *, name, temb):\n",
    "  B, H, W, C = x.shape\n",
    "  with tf.variable_scope(name):\n",
    "    h = normalize(x, temb=temb, name='norm')\n",
    "    q = nin(h, name='q', num_units=C)\n",
    "    k = nin(h, name='k', num_units=C)\n",
    "    v = nin(h, name='v', num_units=C)\n",
    "\n",
    "    w = tf.einsum('bhwc,bHWc->bhwHW', q, k) * (int(C) ** (-0.5))\n",
    "    w = tf.reshape(w, [B, H, W, H * W])\n",
    "    w = tf.nn.softmax(w, -1)\n",
    "    w = tf.reshape(w, [B, H, W, H, W])\n",
    "\n",
    "    h = tf.einsum('bhwHW,bHWc->bhwc', w, v)\n",
    "    h = nn.nin(h, name='proj_out', num_units=C, init_scale=0.)\n",
    "\n",
    "    assert h.shape == x.shape\n",
    "    print(tf.get_default_graph().get_name_scope(), x.shape)\n",
    "    return x + h"
   ]
  },
  {
   "cell_type": "code",
   "execution_count": null,
   "id": "de5222b9",
   "metadata": {},
   "outputs": [],
   "source": []
  }
 ],
 "metadata": {
  "kernelspec": {
   "display_name": "Python 3 (ipykernel)",
   "language": "python",
   "name": "python3"
  },
  "language_info": {
   "codemirror_mode": {
    "name": "ipython",
    "version": 3
   },
   "file_extension": ".py",
   "mimetype": "text/x-python",
   "name": "python",
   "nbconvert_exporter": "python",
   "pygments_lexer": "ipython3",
   "version": "3.8.13"
  }
 },
 "nbformat": 4,
 "nbformat_minor": 5
}
