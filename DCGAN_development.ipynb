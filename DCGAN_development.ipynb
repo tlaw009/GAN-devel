{
 "cells": [
  {
   "cell_type": "markdown",
   "metadata": {},
   "source": [
    "### Dependencies"
   ]
  },
  {
   "cell_type": "code",
   "execution_count": 1,
   "metadata": {
    "scrolled": false
   },
   "outputs": [
    {
     "name": "stdout",
     "output_type": "stream",
     "text": [
      "Requirement already satisfied: matplotlib in /Users/anthonylaw/anaconda3/envs/gan/lib/python3.8/site-packages (3.5.3)\n",
      "Requirement already satisfied: tensorflow in /Users/anthonylaw/anaconda3/envs/gan/lib/python3.8/site-packages (2.9.1)\n",
      "Requirement already satisfied: tensorflow_addons in /Users/anthonylaw/anaconda3/envs/gan/lib/python3.8/site-packages (0.17.1)\n",
      "Requirement already satisfied: tensorflow_datasets in /Users/anthonylaw/anaconda3/envs/gan/lib/python3.8/site-packages (4.6.0)\n",
      "Requirement already satisfied: imageio in /Users/anthonylaw/anaconda3/envs/gan/lib/python3.8/site-packages (2.21.1)\n",
      "Requirement already satisfied: pillow>=6.2.0 in /Users/anthonylaw/anaconda3/envs/gan/lib/python3.8/site-packages (from matplotlib) (9.2.0)\n",
      "Requirement already satisfied: numpy>=1.17 in /Users/anthonylaw/anaconda3/envs/gan/lib/python3.8/site-packages (from matplotlib) (1.23.2)\n",
      "Requirement already satisfied: pyparsing>=2.2.1 in /Users/anthonylaw/anaconda3/envs/gan/lib/python3.8/site-packages (from matplotlib) (3.0.9)\n",
      "Requirement already satisfied: python-dateutil>=2.7 in /Users/anthonylaw/anaconda3/envs/gan/lib/python3.8/site-packages (from matplotlib) (2.8.2)\n",
      "Requirement already satisfied: fonttools>=4.22.0 in /Users/anthonylaw/anaconda3/envs/gan/lib/python3.8/site-packages (from matplotlib) (4.36.0)\n",
      "Requirement already satisfied: kiwisolver>=1.0.1 in /Users/anthonylaw/anaconda3/envs/gan/lib/python3.8/site-packages (from matplotlib) (1.4.4)\n",
      "Requirement already satisfied: cycler>=0.10 in /Users/anthonylaw/anaconda3/envs/gan/lib/python3.8/site-packages (from matplotlib) (0.11.0)\n",
      "Requirement already satisfied: packaging>=20.0 in /Users/anthonylaw/anaconda3/envs/gan/lib/python3.8/site-packages (from matplotlib) (21.3)\n",
      "Requirement already satisfied: wrapt>=1.11.0 in /Users/anthonylaw/anaconda3/envs/gan/lib/python3.8/site-packages (from tensorflow) (1.14.1)\n",
      "Requirement already satisfied: protobuf<3.20,>=3.9.2 in /Users/anthonylaw/anaconda3/envs/gan/lib/python3.8/site-packages (from tensorflow) (3.19.4)\n",
      "Requirement already satisfied: termcolor>=1.1.0 in /Users/anthonylaw/anaconda3/envs/gan/lib/python3.8/site-packages (from tensorflow) (1.1.0)\n",
      "Requirement already satisfied: setuptools in /Users/anthonylaw/anaconda3/envs/gan/lib/python3.8/site-packages (from tensorflow) (61.2.0)\n",
      "Requirement already satisfied: h5py>=2.9.0 in /Users/anthonylaw/anaconda3/envs/gan/lib/python3.8/site-packages (from tensorflow) (3.7.0)\n",
      "Requirement already satisfied: keras<2.10.0,>=2.9.0rc0 in /Users/anthonylaw/anaconda3/envs/gan/lib/python3.8/site-packages (from tensorflow) (2.9.0)\n",
      "Requirement already satisfied: gast<=0.4.0,>=0.2.1 in /Users/anthonylaw/anaconda3/envs/gan/lib/python3.8/site-packages (from tensorflow) (0.4.0)\n",
      "Requirement already satisfied: six>=1.12.0 in /Users/anthonylaw/anaconda3/envs/gan/lib/python3.8/site-packages (from tensorflow) (1.16.0)\n",
      "Requirement already satisfied: keras-preprocessing>=1.1.1 in /Users/anthonylaw/anaconda3/envs/gan/lib/python3.8/site-packages (from tensorflow) (1.1.2)\n",
      "Requirement already satisfied: astunparse>=1.6.0 in /Users/anthonylaw/anaconda3/envs/gan/lib/python3.8/site-packages (from tensorflow) (1.6.3)\n",
      "Requirement already satisfied: tensorflow-io-gcs-filesystem>=0.23.1 in /Users/anthonylaw/anaconda3/envs/gan/lib/python3.8/site-packages (from tensorflow) (0.26.0)\n",
      "Requirement already satisfied: typing-extensions>=3.6.6 in /Users/anthonylaw/anaconda3/envs/gan/lib/python3.8/site-packages (from tensorflow) (4.3.0)\n",
      "Requirement already satisfied: tensorboard<2.10,>=2.9 in /Users/anthonylaw/anaconda3/envs/gan/lib/python3.8/site-packages (from tensorflow) (2.9.1)\n",
      "Requirement already satisfied: absl-py>=1.0.0 in /Users/anthonylaw/anaconda3/envs/gan/lib/python3.8/site-packages (from tensorflow) (1.2.0)\n",
      "Requirement already satisfied: flatbuffers<2,>=1.12 in /Users/anthonylaw/anaconda3/envs/gan/lib/python3.8/site-packages (from tensorflow) (1.12)\n",
      "Requirement already satisfied: tensorflow-estimator<2.10.0,>=2.9.0rc0 in /Users/anthonylaw/anaconda3/envs/gan/lib/python3.8/site-packages (from tensorflow) (2.9.0)\n",
      "Requirement already satisfied: opt-einsum>=2.3.2 in /Users/anthonylaw/anaconda3/envs/gan/lib/python3.8/site-packages (from tensorflow) (3.3.0)\n",
      "Requirement already satisfied: libclang>=13.0.0 in /Users/anthonylaw/anaconda3/envs/gan/lib/python3.8/site-packages (from tensorflow) (14.0.6)\n",
      "Requirement already satisfied: grpcio<2.0,>=1.24.3 in /Users/anthonylaw/anaconda3/envs/gan/lib/python3.8/site-packages (from tensorflow) (1.47.0)\n",
      "Requirement already satisfied: google-pasta>=0.1.1 in /Users/anthonylaw/anaconda3/envs/gan/lib/python3.8/site-packages (from tensorflow) (0.2.0)\n",
      "Requirement already satisfied: typeguard>=2.7 in /Users/anthonylaw/anaconda3/envs/gan/lib/python3.8/site-packages (from tensorflow_addons) (2.13.3)\n",
      "Requirement already satisfied: toml in /Users/anthonylaw/anaconda3/envs/gan/lib/python3.8/site-packages (from tensorflow_datasets) (0.10.2)\n",
      "Requirement already satisfied: etils[epath] in /Users/anthonylaw/anaconda3/envs/gan/lib/python3.8/site-packages (from tensorflow_datasets) (0.7.1)\n",
      "Requirement already satisfied: tqdm in /Users/anthonylaw/anaconda3/envs/gan/lib/python3.8/site-packages (from tensorflow_datasets) (4.64.0)\n",
      "Requirement already satisfied: importlib-resources in /Users/anthonylaw/anaconda3/envs/gan/lib/python3.8/site-packages (from tensorflow_datasets) (5.9.0)\n",
      "Requirement already satisfied: tensorflow-metadata in /Users/anthonylaw/anaconda3/envs/gan/lib/python3.8/site-packages (from tensorflow_datasets) (1.9.0)\n",
      "Requirement already satisfied: dill in /Users/anthonylaw/anaconda3/envs/gan/lib/python3.8/site-packages (from tensorflow_datasets) (0.3.5.1)\n",
      "Requirement already satisfied: promise in /Users/anthonylaw/anaconda3/envs/gan/lib/python3.8/site-packages (from tensorflow_datasets) (2.3)\n",
      "Requirement already satisfied: requests>=2.19.0 in /Users/anthonylaw/anaconda3/envs/gan/lib/python3.8/site-packages (from tensorflow_datasets) (2.28.1)\n",
      "Requirement already satisfied: wheel<1.0,>=0.23.0 in /Users/anthonylaw/anaconda3/envs/gan/lib/python3.8/site-packages (from astunparse>=1.6.0->tensorflow) (0.37.1)\n",
      "Requirement already satisfied: certifi>=2017.4.17 in /Users/anthonylaw/anaconda3/envs/gan/lib/python3.8/site-packages (from requests>=2.19.0->tensorflow_datasets) (2022.6.15)\n",
      "Requirement already satisfied: urllib3<1.27,>=1.21.1 in /Users/anthonylaw/anaconda3/envs/gan/lib/python3.8/site-packages (from requests>=2.19.0->tensorflow_datasets) (1.26.11)\n",
      "Requirement already satisfied: idna<4,>=2.5 in /Users/anthonylaw/anaconda3/envs/gan/lib/python3.8/site-packages (from requests>=2.19.0->tensorflow_datasets) (3.3)\n",
      "Requirement already satisfied: charset-normalizer<3,>=2 in /Users/anthonylaw/anaconda3/envs/gan/lib/python3.8/site-packages (from requests>=2.19.0->tensorflow_datasets) (2.1.1)\n",
      "Requirement already satisfied: tensorboard-plugin-wit>=1.6.0 in /Users/anthonylaw/anaconda3/envs/gan/lib/python3.8/site-packages (from tensorboard<2.10,>=2.9->tensorflow) (1.8.1)\n",
      "Requirement already satisfied: google-auth-oauthlib<0.5,>=0.4.1 in /Users/anthonylaw/anaconda3/envs/gan/lib/python3.8/site-packages (from tensorboard<2.10,>=2.9->tensorflow) (0.4.6)\n",
      "Requirement already satisfied: tensorboard-data-server<0.7.0,>=0.6.0 in /Users/anthonylaw/anaconda3/envs/gan/lib/python3.8/site-packages (from tensorboard<2.10,>=2.9->tensorflow) (0.6.1)\n",
      "Requirement already satisfied: werkzeug>=1.0.1 in /Users/anthonylaw/anaconda3/envs/gan/lib/python3.8/site-packages (from tensorboard<2.10,>=2.9->tensorflow) (2.2.2)\n",
      "Requirement already satisfied: markdown>=2.6.8 in /Users/anthonylaw/anaconda3/envs/gan/lib/python3.8/site-packages (from tensorboard<2.10,>=2.9->tensorflow) (3.4.1)\n",
      "Requirement already satisfied: google-auth<3,>=1.6.3 in /Users/anthonylaw/anaconda3/envs/gan/lib/python3.8/site-packages (from tensorboard<2.10,>=2.9->tensorflow) (2.11.0)\n",
      "Requirement already satisfied: zipp in /Users/anthonylaw/anaconda3/envs/gan/lib/python3.8/site-packages (from etils[epath]->tensorflow_datasets) (3.8.1)\n",
      "Requirement already satisfied: googleapis-common-protos<2,>=1.52.0 in /Users/anthonylaw/anaconda3/envs/gan/lib/python3.8/site-packages (from tensorflow-metadata->tensorflow_datasets) (1.56.4)\n"
     ]
    },
    {
     "name": "stdout",
     "output_type": "stream",
     "text": [
      "Requirement already satisfied: pyasn1-modules>=0.2.1 in /Users/anthonylaw/anaconda3/envs/gan/lib/python3.8/site-packages (from google-auth<3,>=1.6.3->tensorboard<2.10,>=2.9->tensorflow) (0.2.8)\n",
      "Requirement already satisfied: cachetools<6.0,>=2.0.0 in /Users/anthonylaw/anaconda3/envs/gan/lib/python3.8/site-packages (from google-auth<3,>=1.6.3->tensorboard<2.10,>=2.9->tensorflow) (5.2.0)\n",
      "Requirement already satisfied: rsa<5,>=3.1.4 in /Users/anthonylaw/anaconda3/envs/gan/lib/python3.8/site-packages (from google-auth<3,>=1.6.3->tensorboard<2.10,>=2.9->tensorflow) (4.9)\n",
      "Requirement already satisfied: requests-oauthlib>=0.7.0 in /Users/anthonylaw/anaconda3/envs/gan/lib/python3.8/site-packages (from google-auth-oauthlib<0.5,>=0.4.1->tensorboard<2.10,>=2.9->tensorflow) (1.3.1)\n",
      "Requirement already satisfied: importlib-metadata>=4.4 in /Users/anthonylaw/anaconda3/envs/gan/lib/python3.8/site-packages (from markdown>=2.6.8->tensorboard<2.10,>=2.9->tensorflow) (4.12.0)\n",
      "Requirement already satisfied: MarkupSafe>=2.1.1 in /Users/anthonylaw/anaconda3/envs/gan/lib/python3.8/site-packages (from werkzeug>=1.0.1->tensorboard<2.10,>=2.9->tensorflow) (2.1.1)\n",
      "Requirement already satisfied: pyasn1<0.5.0,>=0.4.6 in /Users/anthonylaw/anaconda3/envs/gan/lib/python3.8/site-packages (from pyasn1-modules>=0.2.1->google-auth<3,>=1.6.3->tensorboard<2.10,>=2.9->tensorflow) (0.4.8)\n",
      "Requirement already satisfied: oauthlib>=3.0.0 in /Users/anthonylaw/anaconda3/envs/gan/lib/python3.8/site-packages (from requests-oauthlib>=0.7.0->google-auth-oauthlib<0.5,>=0.4.1->tensorboard<2.10,>=2.9->tensorflow) (3.2.0)\n"
     ]
    }
   ],
   "source": [
    "!pip install matplotlib tensorflow tensorflow_addons tensorflow_datasets imageio"
   ]
  },
  {
   "cell_type": "markdown",
   "metadata": {},
   "source": [
    "### Setup"
   ]
  },
  {
   "cell_type": "code",
   "execution_count": 2,
   "metadata": {},
   "outputs": [],
   "source": [
    "import glob\n",
    "import imageio\n",
    "import matplotlib.pyplot as plt\n",
    "import numpy as np\n",
    "import os\n",
    "import PIL\n",
    "from tensorflow.keras import layers\n",
    "import time\n",
    "from tensorflow.keras import Model\n",
    "import tensorflow as tf\n",
    "\n",
    "from IPython import display"
   ]
  },
  {
   "cell_type": "markdown",
   "metadata": {},
   "source": [
    "### Dataset"
   ]
  },
  {
   "cell_type": "code",
   "execution_count": 97,
   "metadata": {},
   "outputs": [
    {
     "name": "stdout",
     "output_type": "stream",
     "text": [
      "(60000, 32, 32, 1)\n"
     ]
    },
    {
     "data": {
      "text/plain": [
       "<matplotlib.image.AxesImage at 0x7f9e5b363460>"
      ]
     },
     "execution_count": 97,
     "metadata": {},
     "output_type": "execute_result"
    },
    {
     "data": {
      "image/png": "[encoded data removed]",
      "text/plain": [
       "<Figure size 640x480 with 1 Axes>"
      ]
     },
     "metadata": {},
     "output_type": "display_data"
    }
   ],
   "source": [
    "(train_images, train_labels), (_, _) = tf.keras.datasets.mnist.load_data()\n",
    "# train_images = tf.image.resize(train_images, (32,32)) # if we want to resize \n",
    "train_images = tf.expand_dims(train_images, -1)\n",
    "train_images = tf.image.resize(train_images, (32,32))\n",
    "print(train_images.shape)\n",
    "plt.imshow(train_images[6, :, :, 0], cmap='gray')"
   ]
  },
  {
   "cell_type": "markdown",
   "metadata": {},
   "source": [
    "#### Note: "
   ]
  },
  {
   "cell_type": "markdown",
   "metadata": {},
   "source": [
    "Non-grayscale image should be normalized to [-1,1]"
   ]
  },
  {
   "cell_type": "code",
   "execution_count": 98,
   "metadata": {},
   "outputs": [],
   "source": [
    "BUFFER_SIZE = 60000\n",
    "BATCH_SIZE = 256"
   ]
  },
  {
   "cell_type": "code",
   "execution_count": 99,
   "metadata": {
    "scrolled": true
   },
   "outputs": [],
   "source": [
    "train_dataset = tf.data.Dataset.from_tensor_slices(train_images).shuffle(BUFFER_SIZE).batch(BATCH_SIZE)"
   ]
  },
  {
   "cell_type": "markdown",
   "metadata": {},
   "source": [
    "### Generator network"
   ]
  },
  {
   "cell_type": "markdown",
   "metadata": {},
   "source": [
    "#### Note:"
   ]
  },
  {
   "cell_type": "markdown",
   "metadata": {},
   "source": [
    "Modify the network size for deployment"
   ]
  },
  {
   "cell_type": "code",
   "execution_count": 106,
   "metadata": {},
   "outputs": [],
   "source": [
    "class Generator(Model):\n",
    "\n",
    "    def __init__(self, noise_dim, image_shape, num_channel):\n",
    "        super().__init__()\n",
    "        \n",
    "        assert len(image_shape) == 2\n",
    "        assert image_shape[0]%8 == 0\n",
    "        assert image_shape[1]%8 == 0\n",
    "        \n",
    "        self.noise_dim = noise_dim\n",
    "        self.image_shape = image_shape\n",
    "        self.num_channel = num_channel\n",
    "        self.kernel_size = int(min(max(min(image_shape[0]/8.0-3.0, image_shape[1]/8.0-3.0), 5.0), 11.0))\n",
    "\n",
    "        self.lr_d = layers.ReLU()\n",
    "        self.lr_c1 = layers.ReLU()\n",
    "        self.lr_c2 = layers.ReLU()\n",
    "        self.lr_c3 = layers.ReLU()\n",
    "        \n",
    "        self.init_dense = layers.Dense(image_shape[0]/8.0*image_shape[1]/8.0*64,\n",
    "                               use_bias=False, input_shape=(self.noise_dim,))\n",
    "        \n",
    "        self.init_reshape = layers.Reshape((int(image_shape[0]/8.0), int(image_shape[1]/8.0), 64))\n",
    "        \n",
    "        self.conv2dT1 = layers.Conv2DTranspose(32, (self.kernel_size, self.kernel_size),\n",
    "                                               strides=(1, 1), padding='same', use_bias=False)\n",
    "        self.conv2dT2 = layers.Conv2DTranspose(16, (self.kernel_size, self.kernel_size),\n",
    "                                               strides=(2, 2), padding='same', use_bias=False)\n",
    "        self.conv2dT3 = layers.Conv2DTranspose(8, (self.kernel_size, self.kernel_size),\n",
    "                                               strides=(2, 2), padding='same', use_bias=False)\n",
    "        self.conv2dTactv = layers.Conv2DTranspose(self.num_channel, (self.kernel_size, self.kernel_size),\n",
    "                                               strides=(2, 2), padding='same', use_bias=False, activation='tanh')\n",
    "\n",
    "    def call(self, noise_vec):\n",
    "\n",
    "        init_vec = tf.squeeze(self.lr_d(self.init_dense(noise_vec)))\n",
    "        \n",
    "#         print(init_vec.shape)\n",
    "        \n",
    "        reshaped = self.init_reshape(init_vec)\n",
    "        \n",
    "#         print(reshaped.shape)\n",
    "        \n",
    "        convt1 = self.lr_c1(self.conv2dT1(reshaped))\n",
    "\n",
    "#         print(convt1.shape)\n",
    "        \n",
    "        convt2 = self.lr_c2(self.conv2dT2(convt1))\n",
    "        \n",
    "#         print(convt2.shape)\n",
    "                         \n",
    "        convt3 = self.lr_c3(self.conv2dT3(convt2))\n",
    "        \n",
    "#         print(convt3.shape)\n",
    "            \n",
    "        out = self.conv2dTactv(convt3)\n",
    "        \n",
    "#         print(out.shape)\n",
    "\n",
    "        return out"
   ]
  },
  {
   "cell_type": "markdown",
   "metadata": {},
   "source": [
    "#### Testing"
   ]
  },
  {
   "cell_type": "code",
   "execution_count": 107,
   "metadata": {},
   "outputs": [],
   "source": [
    "g1 = Generator(10, (32, 32), 3)"
   ]
  },
  {
   "cell_type": "code",
   "execution_count": 108,
   "metadata": {},
   "outputs": [
    {
     "data": {
      "text/plain": [
       "5"
      ]
     },
     "execution_count": 108,
     "metadata": {},
     "output_type": "execute_result"
    }
   ],
   "source": [
    "g1.kernel_size"
   ]
  },
  {
   "cell_type": "code",
   "execution_count": 109,
   "metadata": {},
   "outputs": [
    {
     "name": "stdout",
     "output_type": "stream",
     "text": [
      "(5, 10)\n",
      "(5, 32, 32, 3)\n"
     ]
    }
   ],
   "source": [
    "noise_input = tf.random.normal((5, 10))\n",
    "print(noise_input.shape)\n",
    "pics1 = g1(tf.expand_dims(noise_input, 0))\n",
    "print(pics1.shape)\n",
    "# plt.imshow(pics1[-1, :, :, :], cmap='gray')"
   ]
  },
  {
   "cell_type": "code",
   "execution_count": 110,
   "metadata": {},
   "outputs": [
    {
     "name": "stdout",
     "output_type": "stream",
     "text": [
      "Model: \"generator_30\"\n",
      "_________________________________________________________________\n",
      " Layer (type)                Output Shape              Param #   \n",
      "=================================================================\n",
      " re_lu (ReLU)                multiple                  0         \n",
      "                                                                 \n",
      " re_lu_1 (ReLU)              multiple                  0         \n",
      "                                                                 \n",
      " re_lu_2 (ReLU)              multiple                  0         \n",
      "                                                                 \n",
      " re_lu_3 (ReLU)              multiple                  0         \n",
      "                                                                 \n",
      " dense_58 (Dense)            multiple                  10240     \n",
      "                                                                 \n",
      " reshape_30 (Reshape)        multiple                  0         \n",
      "                                                                 \n",
      " conv2d_transpose_120 (Conv2  multiple                 51200     \n",
      " DTranspose)                                                     \n",
      "                                                                 \n",
      " conv2d_transpose_121 (Conv2  multiple                 12800     \n",
      " DTranspose)                                                     \n",
      "                                                                 \n",
      " conv2d_transpose_122 (Conv2  multiple                 3200      \n",
      " DTranspose)                                                     \n",
      "                                                                 \n",
      " conv2d_transpose_123 (Conv2  multiple                 600       \n",
      " DTranspose)                                                     \n",
      "                                                                 \n",
      "=================================================================\n",
      "Total params: 78,040\n",
      "Trainable params: 78,040\n",
      "Non-trainable params: 0\n",
      "_________________________________________________________________\n"
     ]
    }
   ],
   "source": [
    "g1.summary()"
   ]
  },
  {
   "cell_type": "markdown",
   "metadata": {},
   "source": [
    "### Discriminator"
   ]
  },
  {
   "cell_type": "code",
   "execution_count": 196,
   "metadata": {},
   "outputs": [],
   "source": [
    "class Discriminator(Model):\n",
    "\n",
    "    def __init__(self, image_shape, num_channel):\n",
    "        super().__init__()\n",
    "        \n",
    "        assert len(image_shape) == 2\n",
    "        assert image_shape[0]%8 == 0\n",
    "        assert image_shape[1]%8 == 0\n",
    "        \n",
    "        self.image_shape = image_shape\n",
    "        self.num_channel = num_channel\n",
    "        self.kernel_size = int(min(max(min(image_shape[0]/8.0-3.0, image_shape[1]/8.0-3.0), 5.0), 11.0))\n",
    "\n",
    "        self.lr_c1 = layers.LeakyReLU()\n",
    "        self.lr_c2 = layers.LeakyReLU()\n",
    "        self.lr_c3 = layers.LeakyReLU()\n",
    "        self.flatten = layers.Flatten()\n",
    "        \n",
    "        self.conv2d1 = layers.Conv2D(16, (self.kernel_size, self.kernel_size),\n",
    "                                        strides=(2, 2), padding='same',\n",
    "                                        input_shape=(None, self.image_shape[0],\n",
    "                                        self.image_shape[1], self.num_channel))\n",
    "        self.conv2d2 = layers.Conv2D(32, (self.kernel_size, self.kernel_size),\n",
    "                                               strides=(2, 2), padding='same')\n",
    "        self.conv2d3 = layers.Conv2D(64, (self.kernel_size, self.kernel_size),\n",
    "                                               strides=(2, 2), padding='same')\n",
    "        self.dense_actv = layers.Dense(16,\n",
    "#                                       )\n",
    "                                       activation=\"relu\")\n",
    "        \n",
    "    def call(self, img_input):\n",
    "        \n",
    "        conv1 = self.lr_c1(self.conv2d1(img_input))\n",
    "        \n",
    "#         print(conv1.shape)\n",
    "        \n",
    "        conv2 = self.lr_c2(self.conv2d2(conv1))\n",
    "        \n",
    "#         print(conv2.shape)\n",
    "                         \n",
    "        conv3 = self.lr_c3(self.conv2d3(conv2))\n",
    "        \n",
    "#         print(conv3.shape)\n",
    "        \n",
    "        flat = self.flatten(conv3)\n",
    "        \n",
    "#         print(flat.shape)\n",
    "        \n",
    "        out = tf.squeeze(self.dense_actv(flat))\n",
    "        \n",
    "#         print(out.shape)\n",
    "\n",
    "        return out"
   ]
  },
  {
   "cell_type": "markdown",
   "metadata": {},
   "source": [
    "#### Testing"
   ]
  },
  {
   "cell_type": "code",
   "execution_count": 197,
   "metadata": {},
   "outputs": [
    {
     "data": {
      "text/plain": [
       "5"
      ]
     },
     "execution_count": 197,
     "metadata": {},
     "output_type": "execute_result"
    }
   ],
   "source": [
    "d1 = Discriminator((32,32), 3)\n",
    "g2 = Generator(10, (32,32), 3)\n",
    "d1.kernel_size"
   ]
  },
  {
   "cell_type": "code",
   "execution_count": 198,
   "metadata": {},
   "outputs": [
    {
     "name": "stdout",
     "output_type": "stream",
     "text": [
      "(5, 32, 32, 1)\n"
     ]
    }
   ],
   "source": [
    "noise_input = tf.random.normal((5, 10))\n",
    "pics2 = g1(tf.expand_dims(noise_input, 0))\n",
    "# plt.imshow(pics2[-1, :, :, 0], cmap='gray')\n",
    "print(pics2.shape)"
   ]
  },
  {
   "cell_type": "code",
   "execution_count": 199,
   "metadata": {},
   "outputs": [
    {
     "data": {
      "text/plain": [
       "<tf.Tensor: shape=(5, 16), dtype=float32, numpy=\n",
       "array([[0.00000000e+00, 0.00000000e+00, 0.00000000e+00, 2.03308315e-04,\n",
       "        2.75322178e-04, 8.43335001e-04, 1.64440600e-04, 5.17988752e-04,\n",
       "        0.00000000e+00, 3.10381729e-05, 0.00000000e+00, 0.00000000e+00,\n",
       "        2.95469625e-04, 0.00000000e+00, 0.00000000e+00, 0.00000000e+00],\n",
       "       [0.00000000e+00, 2.67269905e-04, 0.00000000e+00, 0.00000000e+00,\n",
       "        2.19586829e-04, 0.00000000e+00, 2.34760737e-04, 3.86910135e-04,\n",
       "        0.00000000e+00, 2.67366326e-04, 0.00000000e+00, 0.00000000e+00,\n",
       "        2.77092768e-04, 0.00000000e+00, 0.00000000e+00, 4.84769116e-05],\n",
       "       [0.00000000e+00, 6.45680353e-04, 0.00000000e+00, 1.07352249e-03,\n",
       "        5.41112095e-04, 0.00000000e+00, 1.46461040e-04, 0.00000000e+00,\n",
       "        1.31542838e-04, 1.05469383e-03, 0.00000000e+00, 0.00000000e+00,\n",
       "        8.19663925e-04, 0.00000000e+00, 6.17938815e-04, 0.00000000e+00],\n",
       "       [0.00000000e+00, 8.33364538e-05, 1.17837451e-04, 2.64599017e-04,\n",
       "        2.70097051e-04, 1.43590587e-04, 2.55110295e-04, 3.37879959e-04,\n",
       "        0.00000000e+00, 3.48566216e-04, 0.00000000e+00, 0.00000000e+00,\n",
       "        1.10840454e-04, 0.00000000e+00, 1.13446906e-04, 0.00000000e+00],\n",
       "       [0.00000000e+00, 2.20576854e-04, 0.00000000e+00, 1.28532673e-04,\n",
       "        0.00000000e+00, 0.00000000e+00, 0.00000000e+00, 0.00000000e+00,\n",
       "        1.19110788e-04, 6.88748900e-04, 0.00000000e+00, 0.00000000e+00,\n",
       "        6.48897025e-04, 0.00000000e+00, 0.00000000e+00, 2.39242567e-04]],\n",
       "      dtype=float32)>"
      ]
     },
     "execution_count": 199,
     "metadata": {},
     "output_type": "execute_result"
    }
   ],
   "source": [
    "deci = d1(pics2)\n",
    "deci"
   ]
  },
  {
   "cell_type": "code",
   "execution_count": 200,
   "metadata": {},
   "outputs": [
    {
     "name": "stdout",
     "output_type": "stream",
     "text": [
      "Model: \"discriminator_59\"\n",
      "_________________________________________________________________\n",
      " Layer (type)                Output Shape              Param #   \n",
      "=================================================================\n",
      " leaky_re_lu_297 (LeakyReLU)  multiple                 0         \n",
      "                                                                 \n",
      " leaky_re_lu_298 (LeakyReLU)  multiple                 0         \n",
      "                                                                 \n",
      " leaky_re_lu_299 (LeakyReLU)  multiple                 0         \n",
      "                                                                 \n",
      " flatten_59 (Flatten)        multiple                  0         \n",
      "                                                                 \n",
      " conv2d_177 (Conv2D)         multiple                  416       \n",
      "                                                                 \n",
      " conv2d_178 (Conv2D)         multiple                  12832     \n",
      "                                                                 \n",
      " conv2d_179 (Conv2D)         multiple                  51264     \n",
      "                                                                 \n",
      " dense_121 (Dense)           multiple                  16400     \n",
      "                                                                 \n",
      "=================================================================\n",
      "Total params: 80,912\n",
      "Trainable params: 80,912\n",
      "Non-trainable params: 0\n",
      "_________________________________________________________________\n"
     ]
    }
   ],
   "source": [
    "d1.summary()"
   ]
  },
  {
   "cell_type": "markdown",
   "metadata": {},
   "source": [
    "### DCGAN"
   ]
  },
  {
   "cell_type": "code",
   "execution_count": 418,
   "metadata": {},
   "outputs": [],
   "source": [
    "EPSILON = 1e-16\n",
    "\n",
    "class DCGAN:\n",
    "    \n",
    "    def __init__(self, dataset, image_shape, num_channel, noise_latent_dim,\n",
    "                 buffer_size=60000, batch_size=256, lr=3e-4, gp_lam = 10.0):\n",
    "        assert len(image_shape) == 2\n",
    "        assert image_shape[0]%8 == 0\n",
    "        assert image_shape[1]%8 == 0\n",
    "        assert len(dataset.shape) == 4\n",
    "        self.image_shape = image_shape\n",
    "        self.num_channel = num_channel\n",
    "        self.noise_latent_dim = noise_latent_dim\n",
    "        self.buffer_cap, self.batch_size, self.gp_lam = buffer_size, batch_size, gp_lam\n",
    "        self.num_img_prog_monit = 16\n",
    "        \n",
    "        self.dataset = tf.data.Dataset.from_tensor_slices(tf.image.resize(dataset,\n",
    "                                                                          self.image_shape)).shuffle(self.buffer_cap).batch(self.batch_size)\n",
    "        # NOTE: Dataset must be processed differently for different source and applications\n",
    "        \n",
    "        self.g = Generator(self.noise_latent_dim, self.image_shape, self.num_channel)\n",
    "        self.d = Discriminator(self.image_shape, self.num_channel)\n",
    "        \n",
    "        self.g_opt = tf.keras.optimizers.Adam(lr)\n",
    "        self.d_opt = tf.keras.optimizers.Adam(lr)\n",
    "        \n",
    "        self.g_seed = tf.random.normal((self.num_img_prog_monit, self.noise_latent_dim))\n",
    "\n",
    "    def cramer_loss(self, d_x_data, d_g_z_1, d_g_z_2, x_it):\n",
    "        \n",
    "        crit_r = tf.math.add(tf.math.sqrt(tf.reduce_sum(tf.math.add(d_x_data, -d_g_z_2)**2, axis = 1)+EPSILON),\n",
    "                   -tf.math.sqrt(tf.reduce_sum(d_x_data**2, axis = 1)+EPSILON))\n",
    "        crit_g_1 = tf.math.add(tf.math.sqrt(tf.reduce_sum(tf.math.add(d_g_z_1, -d_g_z_2)**2, axis = 1)+EPSILON),\n",
    "                   -tf.math.sqrt(tf.reduce_sum(d_g_z_1**2, axis = 1)+EPSILON))\n",
    "        \n",
    "        L_srg = tf.math.add(crit_r, -crit_g_1)\n",
    "        \n",
    "        with tf.GradientTape() as t_gp:\n",
    "            t_gp.watch(x_it)\n",
    "            d_it = self.d(x_it)\n",
    "            crit_it = tf.math.add(tf.math.sqrt(tf.reduce_sum(tf.math.add(d_it, -d_g_z_2)**2, axis = 1)+EPSILON),\n",
    "                   -tf.math.sqrt(tf.reduce_sum(d_it**2, axis = 1)+EPSILON))\n",
    "            \n",
    "        gp_grad = t_gp.gradient(crit_it, x_it)\n",
    "        l2n_gp = tf.math.sqrt(tf.reduce_sum(gp_grad**2, axis = [1,2,3])+EPSILON)\n",
    "        \n",
    "        # d_loss\n",
    "        L_d = -L_srg + (self.gp_lam*((l2n_gp-1.0)**2))\n",
    "\n",
    "        l2nrg1 = tf.math.sqrt(tf.reduce_sum(tf.math.add(d_x_data, -d_g_z_1)**2, axis = 1)+EPSILON)\n",
    "        l2nrg2 = tf.math.sqrt(tf.reduce_sum(tf.math.add(d_x_data, -d_g_z_2)**2, axis = 1)+EPSILON)\n",
    "        l2ng12 = tf.math.sqrt(tf.reduce_sum(tf.math.add(d_g_z_1, -d_g_z_2)**2, axis = 1)+EPSILON)\n",
    "\n",
    "        # g_loss\n",
    "        L_g = (l2nrg1 + l2nrg2 - l2ng12)\n",
    "\n",
    "        return L_g, L_d\n",
    "        \n",
    "    \n",
    "    @tf.function\n",
    "    def update(self, imgs):\n",
    "        noise_input1 = tf.random.normal((imgs.shape[0], self.noise_latent_dim))\n",
    "        noise_input2 = tf.random.normal((imgs.shape[0], self.noise_latent_dim))\n",
    "        \n",
    "        with tf.GradientTape() as g_tape, tf.GradientTape() as d_tape:\n",
    "            g_z_1 = self.g(noise_input1)\n",
    "            g_z_2 = self.g(noise_input2)\n",
    "            \n",
    "            d_x_data = self.d(imgs)\n",
    "            d_g_z_1 = self.d(g_z_1)\n",
    "            d_g_z_2 = self.d(g_z_2)\n",
    "            \n",
    "            epsi = tf.random.uniform([imgs.shape[0], 1, 1, 1], 0.0, 1.0)\n",
    "            x_it = tf.math.add(epsi*imgs, (1.0-epsi)*g_z_1)\n",
    "            g_loss, d_loss = self.cramer_loss(d_x_data, d_g_z_1, d_g_z_2, x_it)\n",
    "            \n",
    "        grad_g = g_tape.gradient(g_loss, self.g.trainable_variables)\n",
    "        grad_d = d_tape.gradient(d_loss, self.d.trainable_variables)\n",
    "        \n",
    "        self.g_opt.apply_gradients(zip(grad_g, self.g.trainable_variables))\n",
    "        self.d_opt.apply_gradients(zip(grad_d, self.d.trainable_variables))\n",
    "        return g_loss, d_loss\n",
    "        \n",
    "    def train(self, epochs=50):\n",
    "        for epo in range(epochs):\n",
    "            for img_b in self.dataset:\n",
    "                g_l, d_l = self.update(img_b)\n",
    "                print(\"Generator Loss: \", tf.reduce_mean(g_l), \", Discriminator Loss: \",  tf.reduce_mean(d_l))\n",
    "            \n",
    "            self.monitor_progress(epo)\n",
    "            \n",
    "    def monitor_progress(self, epo):\n",
    "        pics = self.g(self.g_seed)\n",
    "        \n",
    "        fig = plt.figure(figsize=(4,4))\n",
    "        for i in range(pics.shape[0]):\n",
    "            plt.subplot(4,4,i+1)\n",
    "            plt.imshow(pics[i,:,:,0]*127.5+127.5,cmap='gray')\n",
    "            plt.axis('off')\n",
    "            \n",
    "        plt.savefig('/Users/anthonylaw/Desktop/Hustle/GAN-devel/imgs/image_{:04d}.png'.format(epo))\n",
    "#         plt.savefig('/home/tony/TO_BE_REMOVED/imgs/image_{:04d}.png'.format(epo))\n",
    "        # NEEDS to be changed for machines\n",
    "        \n",
    "        plt.close('all')\n",
    "        "
   ]
  },
  {
   "cell_type": "markdown",
   "metadata": {},
   "source": [
    "#### Testing"
   ]
  },
  {
   "cell_type": "code",
   "execution_count": 419,
   "metadata": {},
   "outputs": [],
   "source": [
    "(train_images, train_labels), (_, _) = tf.keras.datasets.mnist.load_data()\n",
    "train_images = tf.expand_dims(train_images, -1)"
   ]
  },
  {
   "cell_type": "code",
   "execution_count": 420,
   "metadata": {},
   "outputs": [],
   "source": [
    "dcgan1 = DCGAN(train_images, (32,32), 1, 100)\n",
    "d1 = Discriminator((32,32), 1)\n",
    "g1 = Generator(10, (32,32), 1)"
   ]
  },
  {
   "cell_type": "code",
   "execution_count": 421,
   "metadata": {
    "scrolled": false
   },
   "outputs": [],
   "source": [
    "noise_input1 = tf.random.normal((256, 10))\n",
    "noise_input2 = tf.random.normal((256, 10))\n",
    "noise_input3 = tf.random.normal((256, 10))\n",
    "pics3 = g1(tf.expand_dims(noise_input1, 0))\n",
    "pics4 = g1(tf.expand_dims(noise_input2, 0))\n",
    "pics5 = g1(tf.expand_dims(noise_input3, 0))\n",
    "d_pics3 = d1(pics3)\n",
    "d_pics4 = d1(pics4)\n",
    "d_pics5 = d1(pics5)"
   ]
  },
  {
   "cell_type": "code",
   "execution_count": 422,
   "metadata": {
    "scrolled": false
   },
   "outputs": [
    {
     "name": "stdout",
     "output_type": "stream",
     "text": [
      "Generator Loss:  tf.Tensor(23.470701, shape=(), dtype=float32) , Discriminator Loss:  tf.Tensor(9.996649, shape=(), dtype=float32)\n",
      "Generator Loss:  tf.Tensor(18.870422, shape=(), dtype=float32) , Discriminator Loss:  tf.Tensor(9.97958, shape=(), dtype=float32)\n",
      "Generator Loss:  tf.Tensor(13.590427, shape=(), dtype=float32) , Discriminator Loss:  tf.Tensor(9.975534, shape=(), dtype=float32)\n",
      "Generator Loss:  tf.Tensor(10.111435, shape=(), dtype=float32) , Discriminator Loss:  tf.Tensor(9.923632, shape=(), dtype=float32)\n",
      "Generator Loss:  tf.Tensor(8.526406, shape=(), dtype=float32) , Discriminator Loss:  tf.Tensor(9.886454, shape=(), dtype=float32)\n",
      "Generator Loss:  tf.Tensor(7.339521, shape=(), dtype=float32) , Discriminator Loss:  tf.Tensor(9.857141, shape=(), dtype=float32)\n",
      "Generator Loss:  tf.Tensor(4.6010294, shape=(), dtype=float32) , Discriminator Loss:  tf.Tensor(9.753372, shape=(), dtype=float32)\n",
      "Generator Loss:  tf.Tensor(3.4411967, shape=(), dtype=float32) , Discriminator Loss:  tf.Tensor(9.750103, shape=(), dtype=float32)\n",
      "Generator Loss:  tf.Tensor(2.451623, shape=(), dtype=float32) , Discriminator Loss:  tf.Tensor(9.709393, shape=(), dtype=float32)\n",
      "Generator Loss:  tf.Tensor(1.0964639, shape=(), dtype=float32) , Discriminator Loss:  tf.Tensor(9.74797, shape=(), dtype=float32)\n",
      "Generator Loss:  tf.Tensor(0.5871899, shape=(), dtype=float32) , Discriminator Loss:  tf.Tensor(9.773523, shape=(), dtype=float32)\n",
      "Generator Loss:  tf.Tensor(0.43823555, shape=(), dtype=float32) , Discriminator Loss:  tf.Tensor(9.75288, shape=(), dtype=float32)\n",
      "Generator Loss:  tf.Tensor(0.24435928, shape=(), dtype=float32) , Discriminator Loss:  tf.Tensor(9.785038, shape=(), dtype=float32)\n",
      "Generator Loss:  tf.Tensor(0.22433627, shape=(), dtype=float32) , Discriminator Loss:  tf.Tensor(9.787001, shape=(), dtype=float32)\n",
      "Generator Loss:  tf.Tensor(0.2728095, shape=(), dtype=float32) , Discriminator Loss:  tf.Tensor(9.770372, shape=(), dtype=float32)\n",
      "Generator Loss:  tf.Tensor(0.2666214, shape=(), dtype=float32) , Discriminator Loss:  tf.Tensor(9.794029, shape=(), dtype=float32)\n",
      "Generator Loss:  tf.Tensor(0.22691926, shape=(), dtype=float32) , Discriminator Loss:  tf.Tensor(9.75428, shape=(), dtype=float32)\n",
      "Generator Loss:  tf.Tensor(0.22895525, shape=(), dtype=float32) , Discriminator Loss:  tf.Tensor(9.767601, shape=(), dtype=float32)\n",
      "Generator Loss:  tf.Tensor(0.24755731, shape=(), dtype=float32) , Discriminator Loss:  tf.Tensor(9.753128, shape=(), dtype=float32)\n",
      "Generator Loss:  tf.Tensor(0.25912827, shape=(), dtype=float32) , Discriminator Loss:  tf.Tensor(9.708156, shape=(), dtype=float32)\n",
      "Generator Loss:  tf.Tensor(0.3158304, shape=(), dtype=float32) , Discriminator Loss:  tf.Tensor(9.722269, shape=(), dtype=float32)\n",
      "Generator Loss:  tf.Tensor(0.29983994, shape=(), dtype=float32) , Discriminator Loss:  tf.Tensor(9.692532, shape=(), dtype=float32)\n",
      "Generator Loss:  tf.Tensor(0.32312623, shape=(), dtype=float32) , Discriminator Loss:  tf.Tensor(9.655197, shape=(), dtype=float32)\n",
      "Generator Loss:  tf.Tensor(0.34822404, shape=(), dtype=float32) , Discriminator Loss:  tf.Tensor(9.651775, shape=(), dtype=float32)\n",
      "Generator Loss:  tf.Tensor(0.3751477, shape=(), dtype=float32) , Discriminator Loss:  tf.Tensor(9.624851, shape=(), dtype=float32)\n",
      "Generator Loss:  tf.Tensor(0.40353578, shape=(), dtype=float32) , Discriminator Loss:  tf.Tensor(9.572767, shape=(), dtype=float32)\n",
      "Generator Loss:  tf.Tensor(0.4342358, shape=(), dtype=float32) , Discriminator Loss:  tf.Tensor(9.565763, shape=(), dtype=float32)\n",
      "Generator Loss:  tf.Tensor(0.4655796, shape=(), dtype=float32) , Discriminator Loss:  tf.Tensor(9.534421, shape=(), dtype=float32)\n",
      "Generator Loss:  tf.Tensor(0.49855685, shape=(), dtype=float32) , Discriminator Loss:  tf.Tensor(9.471404, shape=(), dtype=float32)\n",
      "Generator Loss:  tf.Tensor(0.5336957, shape=(), dtype=float32) , Discriminator Loss:  tf.Tensor(9.362089, shape=(), dtype=float32)\n",
      "Generator Loss:  tf.Tensor(0.5679038, shape=(), dtype=float32) , Discriminator Loss:  tf.Tensor(9.4320965, shape=(), dtype=float32)\n",
      "Generator Loss:  tf.Tensor(0.6047264, shape=(), dtype=float32) , Discriminator Loss:  tf.Tensor(9.377699, shape=(), dtype=float32)\n",
      "Generator Loss:  tf.Tensor(0.64199334, shape=(), dtype=float32) , Discriminator Loss:  tf.Tensor(9.310729, shape=(), dtype=float32)\n",
      "Generator Loss:  tf.Tensor(0.6768826, shape=(), dtype=float32) , Discriminator Loss:  tf.Tensor(9.323117, shape=(), dtype=float32)\n",
      "Generator Loss:  tf.Tensor(0.71235853, shape=(), dtype=float32) , Discriminator Loss:  tf.Tensor(9.260669, shape=(), dtype=float32)\n",
      "Generator Loss:  tf.Tensor(0.7436942, shape=(), dtype=float32) , Discriminator Loss:  tf.Tensor(9.217387, shape=(), dtype=float32)\n",
      "Generator Loss:  tf.Tensor(0.77447647, shape=(), dtype=float32) , Discriminator Loss:  tf.Tensor(9.171196, shape=(), dtype=float32)\n",
      "Generator Loss:  tf.Tensor(0.7990339, shape=(), dtype=float32) , Discriminator Loss:  tf.Tensor(9.200966, shape=(), dtype=float32)\n",
      "Generator Loss:  tf.Tensor(0.8232698, shape=(), dtype=float32) , Discriminator Loss:  tf.Tensor(9.132263, shape=(), dtype=float32)\n",
      "Generator Loss:  tf.Tensor(0.8407912, shape=(), dtype=float32) , Discriminator Loss:  tf.Tensor(9.134996, shape=(), dtype=float32)\n",
      "Generator Loss:  tf.Tensor(0.84890485, shape=(), dtype=float32) , Discriminator Loss:  tf.Tensor(9.151095, shape=(), dtype=float32)\n",
      "Generator Loss:  tf.Tensor(0.8582003, shape=(), dtype=float32) , Discriminator Loss:  tf.Tensor(9.092427, shape=(), dtype=float32)\n",
      "Generator Loss:  tf.Tensor(0.862067, shape=(), dtype=float32) , Discriminator Loss:  tf.Tensor(9.137934, shape=(), dtype=float32)\n",
      "Generator Loss:  tf.Tensor(0.8687153, shape=(), dtype=float32) , Discriminator Loss:  tf.Tensor(9.009859, shape=(), dtype=float32)\n",
      "Generator Loss:  tf.Tensor(0.8645344, shape=(), dtype=float32) , Discriminator Loss:  tf.Tensor(9.135466, shape=(), dtype=float32)\n",
      "Generator Loss:  tf.Tensor(0.87595415, shape=(), dtype=float32) , Discriminator Loss:  tf.Tensor(9.087946, shape=(), dtype=float32)\n",
      "Generator Loss:  tf.Tensor(0.88822156, shape=(), dtype=float32) , Discriminator Loss:  tf.Tensor(9.070814, shape=(), dtype=float32)\n",
      "Generator Loss:  tf.Tensor(0.902768, shape=(), dtype=float32) , Discriminator Loss:  tf.Tensor(9.058922, shape=(), dtype=float32)\n",
      "Generator Loss:  tf.Tensor(0.95590246, shape=(), dtype=float32) , Discriminator Loss:  tf.Tensor(9.015476, shape=(), dtype=float32)\n",
      "Generator Loss:  tf.Tensor(1.0366046, shape=(), dtype=float32) , Discriminator Loss:  tf.Tensor(8.927929, shape=(), dtype=float32)\n",
      "Generator Loss:  tf.Tensor(1.16734, shape=(), dtype=float32) , Discriminator Loss:  tf.Tensor(8.813704, shape=(), dtype=float32)\n",
      "Generator Loss:  tf.Tensor(1.3649313, shape=(), dtype=float32) , Discriminator Loss:  tf.Tensor(8.615466, shape=(), dtype=float32)\n",
      "Generator Loss:  tf.Tensor(1.6517049, shape=(), dtype=float32) , Discriminator Loss:  tf.Tensor(8.26409, shape=(), dtype=float32)\n",
      "Generator Loss:  tf.Tensor(2.0591245, shape=(), dtype=float32) , Discriminator Loss:  tf.Tensor(7.7860327, shape=(), dtype=float32)\n",
      "Generator Loss:  tf.Tensor(2.6020288, shape=(), dtype=float32) , Discriminator Loss:  tf.Tensor(7.3036976, shape=(), dtype=float32)\n",
      "Generator Loss:  tf.Tensor(3.3279953, shape=(), dtype=float32) , Discriminator Loss:  tf.Tensor(6.5864506, shape=(), dtype=float32)\n",
      "Generator Loss:  tf.Tensor(4.4938188, shape=(), dtype=float32) , Discriminator Loss:  tf.Tensor(5.563818, shape=(), dtype=float32)\n",
      "Generator Loss:  tf.Tensor(4.668801, shape=(), dtype=float32) , Discriminator Loss:  tf.Tensor(5.1306715, shape=(), dtype=float32)\n",
      "Generator Loss:  tf.Tensor(4.9032855, shape=(), dtype=float32) , Discriminator Loss:  tf.Tensor(4.865574, shape=(), dtype=float32)\n",
      "Generator Loss:  tf.Tensor(5.4193864, shape=(), dtype=float32) , Discriminator Loss:  tf.Tensor(4.134598, shape=(), dtype=float32)\n",
      "Generator Loss:  tf.Tensor(6.1536345, shape=(), dtype=float32) , Discriminator Loss:  tf.Tensor(3.438816, shape=(), dtype=float32)\n",
      "Generator Loss:  tf.Tensor(7.052438, shape=(), dtype=float32) , Discriminator Loss:  tf.Tensor(2.659433, shape=(), dtype=float32)\n",
      "Generator Loss:  tf.Tensor(8.146003, shape=(), dtype=float32) , Discriminator Loss:  tf.Tensor(1.3493967, shape=(), dtype=float32)\n"
     ]
    },
    {
     "name": "stdout",
     "output_type": "stream",
     "text": [
      "Generator Loss:  tf.Tensor(9.496759, shape=(), dtype=float32) , Discriminator Loss:  tf.Tensor(-0.25217298, shape=(), dtype=float32)\n",
      "Generator Loss:  tf.Tensor(10.761937, shape=(), dtype=float32) , Discriminator Loss:  tf.Tensor(-1.7246964, shape=(), dtype=float32)\n",
      "Generator Loss:  tf.Tensor(12.355995, shape=(), dtype=float32) , Discriminator Loss:  tf.Tensor(-2.6886337, shape=(), dtype=float32)\n",
      "Generator Loss:  tf.Tensor(13.223896, shape=(), dtype=float32) , Discriminator Loss:  tf.Tensor(-3.9232416, shape=(), dtype=float32)\n",
      "Generator Loss:  tf.Tensor(14.640501, shape=(), dtype=float32) , Discriminator Loss:  tf.Tensor(-4.8274627, shape=(), dtype=float32)\n",
      "Generator Loss:  tf.Tensor(15.681966, shape=(), dtype=float32) , Discriminator Loss:  tf.Tensor(-5.9438014, shape=(), dtype=float32)\n",
      "Generator Loss:  tf.Tensor(17.519495, shape=(), dtype=float32) , Discriminator Loss:  tf.Tensor(-6.440108, shape=(), dtype=float32)\n",
      "Generator Loss:  tf.Tensor(17.744982, shape=(), dtype=float32) , Discriminator Loss:  tf.Tensor(-6.7537646, shape=(), dtype=float32)\n",
      "Generator Loss:  tf.Tensor(19.08525, shape=(), dtype=float32) , Discriminator Loss:  tf.Tensor(-7.9495254, shape=(), dtype=float32)\n",
      "Generator Loss:  tf.Tensor(19.83479, shape=(), dtype=float32) , Discriminator Loss:  tf.Tensor(-6.3881207, shape=(), dtype=float32)\n",
      "Generator Loss:  tf.Tensor(20.114973, shape=(), dtype=float32) , Discriminator Loss:  tf.Tensor(-6.759411, shape=(), dtype=float32)\n",
      "Generator Loss:  tf.Tensor(20.794006, shape=(), dtype=float32) , Discriminator Loss:  tf.Tensor(-4.641477, shape=(), dtype=float32)\n",
      "Generator Loss:  tf.Tensor(20.739342, shape=(), dtype=float32) , Discriminator Loss:  tf.Tensor(-8.286277, shape=(), dtype=float32)\n",
      "Generator Loss:  tf.Tensor(20.706554, shape=(), dtype=float32) , Discriminator Loss:  tf.Tensor(-8.141092, shape=(), dtype=float32)\n",
      "Generator Loss:  tf.Tensor(21.034056, shape=(), dtype=float32) , Discriminator Loss:  tf.Tensor(-5.606245, shape=(), dtype=float32)\n",
      "Generator Loss:  tf.Tensor(21.640034, shape=(), dtype=float32) , Discriminator Loss:  tf.Tensor(-6.0498285, shape=(), dtype=float32)\n",
      "Generator Loss:  tf.Tensor(22.91334, shape=(), dtype=float32) , Discriminator Loss:  tf.Tensor(-5.0447636, shape=(), dtype=float32)\n",
      "Generator Loss:  tf.Tensor(21.541716, shape=(), dtype=float32) , Discriminator Loss:  tf.Tensor(-0.99854946, shape=(), dtype=float32)\n",
      "Generator Loss:  tf.Tensor(20.63839, shape=(), dtype=float32) , Discriminator Loss:  tf.Tensor(-5.6075125, shape=(), dtype=float32)\n",
      "Generator Loss:  tf.Tensor(20.311953, shape=(), dtype=float32) , Discriminator Loss:  tf.Tensor(-5.301917, shape=(), dtype=float32)\n",
      "Generator Loss:  tf.Tensor(20.241861, shape=(), dtype=float32) , Discriminator Loss:  tf.Tensor(-8.569426, shape=(), dtype=float32)\n",
      "Generator Loss:  tf.Tensor(20.459885, shape=(), dtype=float32) , Discriminator Loss:  tf.Tensor(-5.661832, shape=(), dtype=float32)\n",
      "Generator Loss:  tf.Tensor(21.091751, shape=(), dtype=float32) , Discriminator Loss:  tf.Tensor(-5.780099, shape=(), dtype=float32)\n",
      "Generator Loss:  tf.Tensor(21.975998, shape=(), dtype=float32) , Discriminator Loss:  tf.Tensor(-11.413752, shape=(), dtype=float32)\n",
      "Generator Loss:  tf.Tensor(23.09034, shape=(), dtype=float32) , Discriminator Loss:  tf.Tensor(-12.657805, shape=(), dtype=float32)\n",
      "Generator Loss:  tf.Tensor(24.584835, shape=(), dtype=float32) , Discriminator Loss:  tf.Tensor(-3.6522558, shape=(), dtype=float32)\n",
      "Generator Loss:  tf.Tensor(26.298439, shape=(), dtype=float32) , Discriminator Loss:  tf.Tensor(-9.749181, shape=(), dtype=float32)\n",
      "Generator Loss:  tf.Tensor(28.036724, shape=(), dtype=float32) , Discriminator Loss:  tf.Tensor(-11.20583, shape=(), dtype=float32)\n",
      "Generator Loss:  tf.Tensor(30.66051, shape=(), dtype=float32) , Discriminator Loss:  tf.Tensor(-19.181463, shape=(), dtype=float32)\n",
      "Generator Loss:  tf.Tensor(33.97953, shape=(), dtype=float32) , Discriminator Loss:  tf.Tensor(-17.20973, shape=(), dtype=float32)\n",
      "Generator Loss:  tf.Tensor(38.14572, shape=(), dtype=float32) , Discriminator Loss:  tf.Tensor(-16.09418, shape=(), dtype=float32)\n",
      "Generator Loss:  tf.Tensor(42.671448, shape=(), dtype=float32) , Discriminator Loss:  tf.Tensor(-25.402805, shape=(), dtype=float32)\n",
      "Generator Loss:  tf.Tensor(48.762447, shape=(), dtype=float32) , Discriminator Loss:  tf.Tensor(-23.104221, shape=(), dtype=float32)\n",
      "Generator Loss:  tf.Tensor(55.020756, shape=(), dtype=float32) , Discriminator Loss:  tf.Tensor(-24.852642, shape=(), dtype=float32)\n",
      "Generator Loss:  tf.Tensor(61.646584, shape=(), dtype=float32) , Discriminator Loss:  tf.Tensor(-33.551468, shape=(), dtype=float32)\n",
      "Generator Loss:  tf.Tensor(67.09567, shape=(), dtype=float32) , Discriminator Loss:  tf.Tensor(-36.126274, shape=(), dtype=float32)\n",
      "Generator Loss:  tf.Tensor(73.51858, shape=(), dtype=float32) , Discriminator Loss:  tf.Tensor(-46.61013, shape=(), dtype=float32)\n",
      "Generator Loss:  tf.Tensor(80.16764, shape=(), dtype=float32) , Discriminator Loss:  tf.Tensor(-48.880898, shape=(), dtype=float32)\n",
      "Generator Loss:  tf.Tensor(86.29456, shape=(), dtype=float32) , Discriminator Loss:  tf.Tensor(-60.3246, shape=(), dtype=float32)\n",
      "Generator Loss:  tf.Tensor(94.19044, shape=(), dtype=float32) , Discriminator Loss:  tf.Tensor(-71.067825, shape=(), dtype=float32)\n",
      "Generator Loss:  tf.Tensor(101.91321, shape=(), dtype=float32) , Discriminator Loss:  tf.Tensor(-74.41719, shape=(), dtype=float32)\n",
      "Generator Loss:  tf.Tensor(109.382835, shape=(), dtype=float32) , Discriminator Loss:  tf.Tensor(-82.55589, shape=(), dtype=float32)\n",
      "Generator Loss:  tf.Tensor(115.862816, shape=(), dtype=float32) , Discriminator Loss:  tf.Tensor(-72.83077, shape=(), dtype=float32)\n",
      "Generator Loss:  tf.Tensor(120.68638, shape=(), dtype=float32) , Discriminator Loss:  tf.Tensor(-74.40321, shape=(), dtype=float32)\n",
      "Generator Loss:  tf.Tensor(126.88253, shape=(), dtype=float32) , Discriminator Loss:  tf.Tensor(-69.4975, shape=(), dtype=float32)\n",
      "Generator Loss:  tf.Tensor(128.72296, shape=(), dtype=float32) , Discriminator Loss:  tf.Tensor(-55.427155, shape=(), dtype=float32)\n",
      "Generator Loss:  tf.Tensor(132.27557, shape=(), dtype=float32) , Discriminator Loss:  tf.Tensor(-69.63363, shape=(), dtype=float32)\n",
      "Generator Loss:  tf.Tensor(131.44568, shape=(), dtype=float32) , Discriminator Loss:  tf.Tensor(-71.82974, shape=(), dtype=float32)\n",
      "Generator Loss:  tf.Tensor(127.956726, shape=(), dtype=float32) , Discriminator Loss:  tf.Tensor(-89.40389, shape=(), dtype=float32)\n",
      "Generator Loss:  tf.Tensor(128.53693, shape=(), dtype=float32) , Discriminator Loss:  tf.Tensor(-84.38057, shape=(), dtype=float32)\n",
      "Generator Loss:  tf.Tensor(128.50275, shape=(), dtype=float32) , Discriminator Loss:  tf.Tensor(-58.802544, shape=(), dtype=float32)\n",
      "Generator Loss:  tf.Tensor(130.88945, shape=(), dtype=float32) , Discriminator Loss:  tf.Tensor(-59.509598, shape=(), dtype=float32)\n",
      "Generator Loss:  tf.Tensor(132.81494, shape=(), dtype=float32) , Discriminator Loss:  tf.Tensor(-24.7165, shape=(), dtype=float32)\n",
      "Generator Loss:  tf.Tensor(134.98846, shape=(), dtype=float32) , Discriminator Loss:  tf.Tensor(-22.144735, shape=(), dtype=float32)\n",
      "Generator Loss:  tf.Tensor(134.65422, shape=(), dtype=float32) , Discriminator Loss:  tf.Tensor(-72.34779, shape=(), dtype=float32)\n",
      "Generator Loss:  tf.Tensor(134.93282, shape=(), dtype=float32) , Discriminator Loss:  tf.Tensor(-67.07044, shape=(), dtype=float32)\n",
      "Generator Loss:  tf.Tensor(136.92592, shape=(), dtype=float32) , Discriminator Loss:  tf.Tensor(-66.26245, shape=(), dtype=float32)\n",
      "Generator Loss:  tf.Tensor(137.02573, shape=(), dtype=float32) , Discriminator Loss:  tf.Tensor(-105.86484, shape=(), dtype=float32)\n",
      "Generator Loss:  tf.Tensor(139.43411, shape=(), dtype=float32) , Discriminator Loss:  tf.Tensor(-94.835945, shape=(), dtype=float32)\n",
      "Generator Loss:  tf.Tensor(142.97693, shape=(), dtype=float32) , Discriminator Loss:  tf.Tensor(-92.43288, shape=(), dtype=float32)\n",
      "Generator Loss:  tf.Tensor(146.94427, shape=(), dtype=float32) , Discriminator Loss:  tf.Tensor(-105.91652, shape=(), dtype=float32)\n",
      "Generator Loss:  tf.Tensor(152.5172, shape=(), dtype=float32) , Discriminator Loss:  tf.Tensor(-107.62576, shape=(), dtype=float32)\n"
     ]
    },
    {
     "name": "stdout",
     "output_type": "stream",
     "text": [
      "Generator Loss:  tf.Tensor(157.94167, shape=(), dtype=float32) , Discriminator Loss:  tf.Tensor(-111.573746, shape=(), dtype=float32)\n",
      "Generator Loss:  tf.Tensor(165.56006, shape=(), dtype=float32) , Discriminator Loss:  tf.Tensor(-107.488144, shape=(), dtype=float32)\n",
      "Generator Loss:  tf.Tensor(174.68246, shape=(), dtype=float32) , Discriminator Loss:  tf.Tensor(-155.71011, shape=(), dtype=float32)\n",
      "Generator Loss:  tf.Tensor(183.72069, shape=(), dtype=float32) , Discriminator Loss:  tf.Tensor(-157.80272, shape=(), dtype=float32)\n",
      "Generator Loss:  tf.Tensor(194.23047, shape=(), dtype=float32) , Discriminator Loss:  tf.Tensor(-150.66296, shape=(), dtype=float32)\n",
      "Generator Loss:  tf.Tensor(204.11919, shape=(), dtype=float32) , Discriminator Loss:  tf.Tensor(-162.07004, shape=(), dtype=float32)\n",
      "Generator Loss:  tf.Tensor(214.3354, shape=(), dtype=float32) , Discriminator Loss:  tf.Tensor(-174.3628, shape=(), dtype=float32)\n",
      "Generator Loss:  tf.Tensor(226.1831, shape=(), dtype=float32) , Discriminator Loss:  tf.Tensor(-167.11722, shape=(), dtype=float32)\n",
      "Generator Loss:  tf.Tensor(238.10608, shape=(), dtype=float32) , Discriminator Loss:  tf.Tensor(-195.56479, shape=(), dtype=float32)\n",
      "Generator Loss:  tf.Tensor(251.24222, shape=(), dtype=float32) , Discriminator Loss:  tf.Tensor(-137.12326, shape=(), dtype=float32)\n",
      "Generator Loss:  tf.Tensor(266.06738, shape=(), dtype=float32) , Discriminator Loss:  tf.Tensor(-204.58282, shape=(), dtype=float32)\n",
      "Generator Loss:  tf.Tensor(273.67593, shape=(), dtype=float32) , Discriminator Loss:  tf.Tensor(-190.42618, shape=(), dtype=float32)\n",
      "Generator Loss:  tf.Tensor(284.5689, shape=(), dtype=float32) , Discriminator Loss:  tf.Tensor(-249.17715, shape=(), dtype=float32)\n",
      "Generator Loss:  tf.Tensor(297.53748, shape=(), dtype=float32) , Discriminator Loss:  tf.Tensor(-261.17734, shape=(), dtype=float32)\n",
      "Generator Loss:  tf.Tensor(311.97058, shape=(), dtype=float32) , Discriminator Loss:  tf.Tensor(-258.14636, shape=(), dtype=float32)\n",
      "Generator Loss:  tf.Tensor(329.02216, shape=(), dtype=float32) , Discriminator Loss:  tf.Tensor(-273.33026, shape=(), dtype=float32)\n",
      "Generator Loss:  tf.Tensor(346.96503, shape=(), dtype=float32) , Discriminator Loss:  tf.Tensor(-282.16827, shape=(), dtype=float32)\n",
      "Generator Loss:  tf.Tensor(365.48035, shape=(), dtype=float32) , Discriminator Loss:  tf.Tensor(-308.51648, shape=(), dtype=float32)\n",
      "Generator Loss:  tf.Tensor(386.73694, shape=(), dtype=float32) , Discriminator Loss:  tf.Tensor(-330.68884, shape=(), dtype=float32)\n",
      "Generator Loss:  tf.Tensor(408.4706, shape=(), dtype=float32) , Discriminator Loss:  tf.Tensor(-355.26126, shape=(), dtype=float32)\n",
      "Generator Loss:  tf.Tensor(431.95624, shape=(), dtype=float32) , Discriminator Loss:  tf.Tensor(-359.65576, shape=(), dtype=float32)\n",
      "Generator Loss:  tf.Tensor(457.50565, shape=(), dtype=float32) , Discriminator Loss:  tf.Tensor(-382.79034, shape=(), dtype=float32)\n",
      "Generator Loss:  tf.Tensor(485.18008, shape=(), dtype=float32) , Discriminator Loss:  tf.Tensor(-369.38083, shape=(), dtype=float32)\n",
      "Generator Loss:  tf.Tensor(514.21094, shape=(), dtype=float32) , Discriminator Loss:  tf.Tensor(-373.8968, shape=(), dtype=float32)\n",
      "Generator Loss:  tf.Tensor(545.34326, shape=(), dtype=float32) , Discriminator Loss:  tf.Tensor(-371.07068, shape=(), dtype=float32)\n",
      "Generator Loss:  tf.Tensor(568.88, shape=(), dtype=float32) , Discriminator Loss:  tf.Tensor(-452.344, shape=(), dtype=float32)\n",
      "Generator Loss:  tf.Tensor(595.16455, shape=(), dtype=float32) , Discriminator Loss:  tf.Tensor(-440.29456, shape=(), dtype=float32)\n",
      "Generator Loss:  tf.Tensor(623.0079, shape=(), dtype=float32) , Discriminator Loss:  tf.Tensor(-479.05835, shape=(), dtype=float32)\n",
      "Generator Loss:  tf.Tensor(652.9722, shape=(), dtype=float32) , Discriminator Loss:  tf.Tensor(-537.2807, shape=(), dtype=float32)\n",
      "Generator Loss:  tf.Tensor(685.33826, shape=(), dtype=float32) , Discriminator Loss:  tf.Tensor(-542.8187, shape=(), dtype=float32)\n",
      "Generator Loss:  tf.Tensor(713.19214, shape=(), dtype=float32) , Discriminator Loss:  tf.Tensor(-442.4838, shape=(), dtype=float32)\n",
      "Generator Loss:  tf.Tensor(745.1729, shape=(), dtype=float32) , Discriminator Loss:  tf.Tensor(-474.12872, shape=(), dtype=float32)\n",
      "Generator Loss:  tf.Tensor(776.9769, shape=(), dtype=float32) , Discriminator Loss:  tf.Tensor(-513.6686, shape=(), dtype=float32)\n",
      "Generator Loss:  tf.Tensor(810.42053, shape=(), dtype=float32) , Discriminator Loss:  tf.Tensor(-563.3702, shape=(), dtype=float32)\n",
      "Generator Loss:  tf.Tensor(835.067, shape=(), dtype=float32) , Discriminator Loss:  tf.Tensor(-552.699, shape=(), dtype=float32)\n",
      "Generator Loss:  tf.Tensor(861.65027, shape=(), dtype=float32) , Discriminator Loss:  tf.Tensor(-445.60336, shape=(), dtype=float32)\n",
      "Generator Loss:  tf.Tensor(890.93665, shape=(), dtype=float32) , Discriminator Loss:  tf.Tensor(-486.6911, shape=(), dtype=float32)\n",
      "Generator Loss:  tf.Tensor(920.9823, shape=(), dtype=float32) , Discriminator Loss:  tf.Tensor(-550.85583, shape=(), dtype=float32)\n",
      "Generator Loss:  tf.Tensor(947.2727, shape=(), dtype=float32) , Discriminator Loss:  tf.Tensor(-674.11444, shape=(), dtype=float32)\n",
      "Generator Loss:  tf.Tensor(970.9612, shape=(), dtype=float32) , Discriminator Loss:  tf.Tensor(-662.08435, shape=(), dtype=float32)\n",
      "Generator Loss:  tf.Tensor(991.55035, shape=(), dtype=float32) , Discriminator Loss:  tf.Tensor(-668.1124, shape=(), dtype=float32)\n",
      "Generator Loss:  tf.Tensor(1024.7012, shape=(), dtype=float32) , Discriminator Loss:  tf.Tensor(-733.4949, shape=(), dtype=float32)\n",
      "Generator Loss:  tf.Tensor(1051.2891, shape=(), dtype=float32) , Discriminator Loss:  tf.Tensor(-786.4022, shape=(), dtype=float32)\n",
      "Generator Loss:  tf.Tensor(1080.842, shape=(), dtype=float32) , Discriminator Loss:  tf.Tensor(-824.7134, shape=(), dtype=float32)\n",
      "Generator Loss:  tf.Tensor(1114.2314, shape=(), dtype=float32) , Discriminator Loss:  tf.Tensor(-932.00146, shape=(), dtype=float32)\n",
      "Generator Loss:  tf.Tensor(1153.8257, shape=(), dtype=float32) , Discriminator Loss:  tf.Tensor(-919.2345, shape=(), dtype=float32)\n",
      "Generator Loss:  tf.Tensor(1197.2097, shape=(), dtype=float32) , Discriminator Loss:  tf.Tensor(-867.1226, shape=(), dtype=float32)\n",
      "Generator Loss:  tf.Tensor(1238.0872, shape=(), dtype=float32) , Discriminator Loss:  tf.Tensor(-854.84326, shape=(), dtype=float32)\n",
      "Generator Loss:  tf.Tensor(1287.9735, shape=(), dtype=float32) , Discriminator Loss:  tf.Tensor(-1032.1467, shape=(), dtype=float32)\n",
      "Generator Loss:  tf.Tensor(1336.0066, shape=(), dtype=float32) , Discriminator Loss:  tf.Tensor(-934.6893, shape=(), dtype=float32)\n",
      "Generator Loss:  tf.Tensor(1386.2435, shape=(), dtype=float32) , Discriminator Loss:  tf.Tensor(-1104.7495, shape=(), dtype=float32)\n",
      "Generator Loss:  tf.Tensor(1439.5797, shape=(), dtype=float32) , Discriminator Loss:  tf.Tensor(-1102.9078, shape=(), dtype=float32)\n",
      "Generator Loss:  tf.Tensor(1497.4946, shape=(), dtype=float32) , Discriminator Loss:  tf.Tensor(-1167.6572, shape=(), dtype=float32)\n",
      "Generator Loss:  tf.Tensor(1557.5846, shape=(), dtype=float32) , Discriminator Loss:  tf.Tensor(-1137.3491, shape=(), dtype=float32)\n",
      "Generator Loss:  tf.Tensor(1617.7373, shape=(), dtype=float32) , Discriminator Loss:  tf.Tensor(-1198.758, shape=(), dtype=float32)\n",
      "Generator Loss:  tf.Tensor(1680.7041, shape=(), dtype=float32) , Discriminator Loss:  tf.Tensor(-1044.4403, shape=(), dtype=float32)\n",
      "Generator Loss:  tf.Tensor(1730.5082, shape=(), dtype=float32) , Discriminator Loss:  tf.Tensor(-933.8196, shape=(), dtype=float32)\n",
      "Generator Loss:  tf.Tensor(1794.5891, shape=(), dtype=float32) , Discriminator Loss:  tf.Tensor(-1478.896, shape=(), dtype=float32)\n",
      "Generator Loss:  tf.Tensor(1847.9354, shape=(), dtype=float32) , Discriminator Loss:  tf.Tensor(-1152.297, shape=(), dtype=float32)\n",
      "Generator Loss:  tf.Tensor(1903.283, shape=(), dtype=float32) , Discriminator Loss:  tf.Tensor(-1521.5898, shape=(), dtype=float32)\n",
      "Generator Loss:  tf.Tensor(1967.3018, shape=(), dtype=float32) , Discriminator Loss:  tf.Tensor(-1630.5134, shape=(), dtype=float32)\n",
      "Generator Loss:  tf.Tensor(2039.3163, shape=(), dtype=float32) , Discriminator Loss:  tf.Tensor(-1443.8293, shape=(), dtype=float32)\n"
     ]
    },
    {
     "name": "stdout",
     "output_type": "stream",
     "text": [
      "Generator Loss:  tf.Tensor(2114.9424, shape=(), dtype=float32) , Discriminator Loss:  tf.Tensor(-1533.4758, shape=(), dtype=float32)\n",
      "Generator Loss:  tf.Tensor(2177.8955, shape=(), dtype=float32) , Discriminator Loss:  tf.Tensor(-1059.3663, shape=(), dtype=float32)\n",
      "Generator Loss:  tf.Tensor(2252.0374, shape=(), dtype=float32) , Discriminator Loss:  tf.Tensor(-1442.0222, shape=(), dtype=float32)\n",
      "Generator Loss:  tf.Tensor(2309.0732, shape=(), dtype=float32) , Discriminator Loss:  tf.Tensor(-1562.6724, shape=(), dtype=float32)\n",
      "Generator Loss:  tf.Tensor(2364.3938, shape=(), dtype=float32) , Discriminator Loss:  tf.Tensor(-1936.5146, shape=(), dtype=float32)\n",
      "Generator Loss:  tf.Tensor(2429.508, shape=(), dtype=float32) , Discriminator Loss:  tf.Tensor(-1393.4663, shape=(), dtype=float32)\n",
      "Generator Loss:  tf.Tensor(2494.9578, shape=(), dtype=float32) , Discriminator Loss:  tf.Tensor(-1864.859, shape=(), dtype=float32)\n",
      "Generator Loss:  tf.Tensor(2564.5044, shape=(), dtype=float32) , Discriminator Loss:  tf.Tensor(-1578.4636, shape=(), dtype=float32)\n",
      "Generator Loss:  tf.Tensor(2633.2915, shape=(), dtype=float32) , Discriminator Loss:  tf.Tensor(-1760.7886, shape=(), dtype=float32)\n",
      "Generator Loss:  tf.Tensor(2691.0342, shape=(), dtype=float32) , Discriminator Loss:  tf.Tensor(-1488.7279, shape=(), dtype=float32)\n",
      "Generator Loss:  tf.Tensor(2753.3784, shape=(), dtype=float32) , Discriminator Loss:  tf.Tensor(-2041.5735, shape=(), dtype=float32)\n",
      "Generator Loss:  tf.Tensor(2815.8386, shape=(), dtype=float32) , Discriminator Loss:  tf.Tensor(-1757.1962, shape=(), dtype=float32)\n",
      "Generator Loss:  tf.Tensor(2876.472, shape=(), dtype=float32) , Discriminator Loss:  tf.Tensor(-2094.4468, shape=(), dtype=float32)\n",
      "Generator Loss:  tf.Tensor(2944.5962, shape=(), dtype=float32) , Discriminator Loss:  tf.Tensor(-1933.2285, shape=(), dtype=float32)\n",
      "Generator Loss:  tf.Tensor(3015.853, shape=(), dtype=float32) , Discriminator Loss:  tf.Tensor(-1996.7073, shape=(), dtype=float32)\n",
      "Generator Loss:  tf.Tensor(3072.5454, shape=(), dtype=float32) , Discriminator Loss:  tf.Tensor(-1898.5688, shape=(), dtype=float32)\n",
      "Generator Loss:  tf.Tensor(3149.9863, shape=(), dtype=float32) , Discriminator Loss:  tf.Tensor(-2258.812, shape=(), dtype=float32)\n",
      "Generator Loss:  tf.Tensor(3211.278, shape=(), dtype=float32) , Discriminator Loss:  tf.Tensor(-2139.2903, shape=(), dtype=float32)\n",
      "Generator Loss:  tf.Tensor(3282.3198, shape=(), dtype=float32) , Discriminator Loss:  tf.Tensor(-2258.8096, shape=(), dtype=float32)\n",
      "Generator Loss:  tf.Tensor(3361.961, shape=(), dtype=float32) , Discriminator Loss:  tf.Tensor(-2062.8752, shape=(), dtype=float32)\n",
      "Generator Loss:  tf.Tensor(3447.8677, shape=(), dtype=float32) , Discriminator Loss:  tf.Tensor(-2470.2898, shape=(), dtype=float32)\n",
      "Generator Loss:  tf.Tensor(3526.8096, shape=(), dtype=float32) , Discriminator Loss:  tf.Tensor(-1802.9022, shape=(), dtype=float32)\n",
      "Generator Loss:  tf.Tensor(3598.4783, shape=(), dtype=float32) , Discriminator Loss:  tf.Tensor(-1964.2621, shape=(), dtype=float32)\n",
      "Generator Loss:  tf.Tensor(3664.8687, shape=(), dtype=float32) , Discriminator Loss:  tf.Tensor(-2246.9111, shape=(), dtype=float32)\n",
      "Generator Loss:  tf.Tensor(3720.4084, shape=(), dtype=float32) , Discriminator Loss:  tf.Tensor(-2076.8352, shape=(), dtype=float32)\n",
      "Generator Loss:  tf.Tensor(3776.7078, shape=(), dtype=float32) , Discriminator Loss:  tf.Tensor(-2789.899, shape=(), dtype=float32)\n",
      "Generator Loss:  tf.Tensor(3845.711, shape=(), dtype=float32) , Discriminator Loss:  tf.Tensor(-2779.345, shape=(), dtype=float32)\n",
      "Generator Loss:  tf.Tensor(3925.5154, shape=(), dtype=float32) , Discriminator Loss:  tf.Tensor(-2449.3455, shape=(), dtype=float32)\n",
      "Generator Loss:  tf.Tensor(4004.0986, shape=(), dtype=float32) , Discriminator Loss:  tf.Tensor(-2148.4077, shape=(), dtype=float32)\n",
      "Generator Loss:  tf.Tensor(4063.5894, shape=(), dtype=float32) , Discriminator Loss:  tf.Tensor(-2144.3508, shape=(), dtype=float32)\n",
      "Generator Loss:  tf.Tensor(4118.1333, shape=(), dtype=float32) , Discriminator Loss:  tf.Tensor(-2137.0713, shape=(), dtype=float32)\n",
      "Generator Loss:  tf.Tensor(4166.2485, shape=(), dtype=float32) , Discriminator Loss:  tf.Tensor(-2615.872, shape=(), dtype=float32)\n",
      "Generator Loss:  tf.Tensor(4211.522, shape=(), dtype=float32) , Discriminator Loss:  tf.Tensor(-3151.2554, shape=(), dtype=float32)\n",
      "Generator Loss:  tf.Tensor(4272.73, shape=(), dtype=float32) , Discriminator Loss:  tf.Tensor(-2175.3755, shape=(), dtype=float32)\n",
      "Generator Loss:  tf.Tensor(4336.4775, shape=(), dtype=float32) , Discriminator Loss:  tf.Tensor(-2559.8298, shape=(), dtype=float32)\n",
      "Generator Loss:  tf.Tensor(4376.9854, shape=(), dtype=float32) , Discriminator Loss:  tf.Tensor(-2094.5303, shape=(), dtype=float32)\n",
      "Generator Loss:  tf.Tensor(4437.6055, shape=(), dtype=float32) , Discriminator Loss:  tf.Tensor(-2676.7322, shape=(), dtype=float32)\n",
      "Generator Loss:  tf.Tensor(4478.5347, shape=(), dtype=float32) , Discriminator Loss:  tf.Tensor(-3279.6377, shape=(), dtype=float32)\n",
      "Generator Loss:  tf.Tensor(4529.142, shape=(), dtype=float32) , Discriminator Loss:  tf.Tensor(-2826.2656, shape=(), dtype=float32)\n",
      "Generator Loss:  tf.Tensor(4584.4473, shape=(), dtype=float32) , Discriminator Loss:  tf.Tensor(-3260.2998, shape=(), dtype=float32)\n",
      "Generator Loss:  tf.Tensor(4658.387, shape=(), dtype=float32) , Discriminator Loss:  tf.Tensor(-3188.019, shape=(), dtype=float32)\n",
      "Generator Loss:  tf.Tensor(4749.978, shape=(), dtype=float32) , Discriminator Loss:  tf.Tensor(-3370.3323, shape=(), dtype=float32)\n",
      "Generator Loss:  tf.Tensor(4845.1274, shape=(), dtype=float32) , Discriminator Loss:  tf.Tensor(-2775.4187, shape=(), dtype=float32)\n",
      "Generator Loss:  tf.Tensor(4926.1826, shape=(), dtype=float32) , Discriminator Loss:  tf.Tensor(-2544.2534, shape=(), dtype=float32)\n",
      "Generator Loss:  tf.Tensor(4992.1035, shape=(), dtype=float32) , Discriminator Loss:  tf.Tensor(-2784.4082, shape=(), dtype=float32)\n",
      "Generator Loss:  tf.Tensor(5043.2207, shape=(), dtype=float32) , Discriminator Loss:  tf.Tensor(-2911.0217, shape=(), dtype=float32)\n",
      "Generator Loss:  tf.Tensor(5116.0273, shape=(), dtype=float32) , Discriminator Loss:  tf.Tensor(-3364.9375, shape=(), dtype=float32)\n",
      "Generator Loss:  tf.Tensor(5184.8594, shape=(), dtype=float32) , Discriminator Loss:  tf.Tensor(-3259.6907, shape=(), dtype=float32)\n",
      "Generator Loss:  tf.Tensor(5244.6245, shape=(), dtype=float32) , Discriminator Loss:  tf.Tensor(-2886.3938, shape=(), dtype=float32)\n",
      "Generator Loss:  tf.Tensor(5295.6274, shape=(), dtype=float32) , Discriminator Loss:  tf.Tensor(-3494.1125, shape=(), dtype=float32)\n",
      "Generator Loss:  tf.Tensor(5322.532, shape=(), dtype=float32) , Discriminator Loss:  tf.Tensor(-3712.0789, shape=(), dtype=float32)\n",
      "Generator Loss:  tf.Tensor(5367.302, shape=(), dtype=float32) , Discriminator Loss:  tf.Tensor(-3038.5664, shape=(), dtype=float32)\n",
      "Generator Loss:  tf.Tensor(5423.299, shape=(), dtype=float32) , Discriminator Loss:  tf.Tensor(-2744.2522, shape=(), dtype=float32)\n",
      "Generator Loss:  tf.Tensor(5540.3228, shape=(), dtype=float32) , Discriminator Loss:  tf.Tensor(-2882.665, shape=(), dtype=float32)\n",
      "Generator Loss:  tf.Tensor(5587.6562, shape=(), dtype=float32) , Discriminator Loss:  tf.Tensor(-2262.5107, shape=(), dtype=float32)\n",
      "Generator Loss:  tf.Tensor(5622.368, shape=(), dtype=float32) , Discriminator Loss:  tf.Tensor(-2715.6104, shape=(), dtype=float32)\n",
      "Generator Loss:  tf.Tensor(5585.823, shape=(), dtype=float32) , Discriminator Loss:  tf.Tensor(-2915.975, shape=(), dtype=float32)\n",
      "Generator Loss:  tf.Tensor(5597.0747, shape=(), dtype=float32) , Discriminator Loss:  tf.Tensor(-2973.4705, shape=(), dtype=float32)\n",
      "Generator Loss:  tf.Tensor(5649.9087, shape=(), dtype=float32) , Discriminator Loss:  tf.Tensor(-2997.9138, shape=(), dtype=float32)\n",
      "Generator Loss:  tf.Tensor(5731.905, shape=(), dtype=float32) , Discriminator Loss:  tf.Tensor(-2694.9624, shape=(), dtype=float32)\n",
      "Generator Loss:  tf.Tensor(5744.625, shape=(), dtype=float32) , Discriminator Loss:  tf.Tensor(-2294.0042, shape=(), dtype=float32)\n",
      "Generator Loss:  tf.Tensor(5714.3506, shape=(), dtype=float32) , Discriminator Loss:  tf.Tensor(-2554.2153, shape=(), dtype=float32)\n"
     ]
    },
    {
     "name": "stdout",
     "output_type": "stream",
     "text": [
      "Generator Loss:  tf.Tensor(5626.6177, shape=(), dtype=float32) , Discriminator Loss:  tf.Tensor(-3147.6953, shape=(), dtype=float32)\n",
      "Generator Loss:  tf.Tensor(5601.41, shape=(), dtype=float32) , Discriminator Loss:  tf.Tensor(-3629.3271, shape=(), dtype=float32)\n",
      "Generator Loss:  tf.Tensor(5622.868, shape=(), dtype=float32) , Discriminator Loss:  tf.Tensor(-2787.2012, shape=(), dtype=float32)\n",
      "Generator Loss:  tf.Tensor(5688.8633, shape=(), dtype=float32) , Discriminator Loss:  tf.Tensor(-3296.2075, shape=(), dtype=float32)\n",
      "Generator Loss:  tf.Tensor(5705.8604, shape=(), dtype=float32) , Discriminator Loss:  tf.Tensor(-2398.6855, shape=(), dtype=float32)\n",
      "Generator Loss:  tf.Tensor(5681.4863, shape=(), dtype=float32) , Discriminator Loss:  tf.Tensor(-2890.5903, shape=(), dtype=float32)\n",
      "Generator Loss:  tf.Tensor(5643.4233, shape=(), dtype=float32) , Discriminator Loss:  tf.Tensor(-3554.3354, shape=(), dtype=float32)\n",
      "Generator Loss:  tf.Tensor(5651.3286, shape=(), dtype=float32) , Discriminator Loss:  tf.Tensor(-2526.96, shape=(), dtype=float32)\n",
      "Generator Loss:  tf.Tensor(5697.673, shape=(), dtype=float32) , Discriminator Loss:  tf.Tensor(-4092.8987, shape=(), dtype=float32)\n",
      "Generator Loss:  tf.Tensor(5764.905, shape=(), dtype=float32) , Discriminator Loss:  tf.Tensor(-3218.8994, shape=(), dtype=float32)\n",
      "Generator Loss:  tf.Tensor(5781.857, shape=(), dtype=float32) , Discriminator Loss:  tf.Tensor(-2730.3237, shape=(), dtype=float32)\n",
      "Generator Loss:  tf.Tensor(5767.7227, shape=(), dtype=float32) , Discriminator Loss:  tf.Tensor(-3000.6165, shape=(), dtype=float32)\n",
      "Generator Loss:  tf.Tensor(5730.6836, shape=(), dtype=float32) , Discriminator Loss:  tf.Tensor(-3416.6155, shape=(), dtype=float32)\n",
      "Generator Loss:  tf.Tensor(5742.707, shape=(), dtype=float32) , Discriminator Loss:  tf.Tensor(-3112.9097, shape=(), dtype=float32)\n",
      "Generator Loss:  tf.Tensor(5787.7886, shape=(), dtype=float32) , Discriminator Loss:  tf.Tensor(-3086.0535, shape=(), dtype=float32)\n",
      "Generator Loss:  tf.Tensor(5848.812, shape=(), dtype=float32) , Discriminator Loss:  tf.Tensor(-3209.4844, shape=(), dtype=float32)\n",
      "Generator Loss:  tf.Tensor(5863.0454, shape=(), dtype=float32) , Discriminator Loss:  tf.Tensor(-3075.4595, shape=(), dtype=float32)\n",
      "Generator Loss:  tf.Tensor(5867.531, shape=(), dtype=float32) , Discriminator Loss:  tf.Tensor(-2904.9307, shape=(), dtype=float32)\n",
      "Generator Loss:  tf.Tensor(5843.472, shape=(), dtype=float32) , Discriminator Loss:  tf.Tensor(-3840.9492, shape=(), dtype=float32)\n",
      "Generator Loss:  tf.Tensor(5834.288, shape=(), dtype=float32) , Discriminator Loss:  tf.Tensor(-3665.344, shape=(), dtype=float32)\n",
      "Generator Loss:  tf.Tensor(5876.1714, shape=(), dtype=float32) , Discriminator Loss:  tf.Tensor(-3674.4634, shape=(), dtype=float32)\n",
      "Generator Loss:  tf.Tensor(5961.6606, shape=(), dtype=float32) , Discriminator Loss:  tf.Tensor(-3589.942, shape=(), dtype=float32)\n",
      "Generator Loss:  tf.Tensor(6043.4077, shape=(), dtype=float32) , Discriminator Loss:  tf.Tensor(-3249.274, shape=(), dtype=float32)\n",
      "Generator Loss:  tf.Tensor(6074.787, shape=(), dtype=float32) , Discriminator Loss:  tf.Tensor(-3189.671, shape=(), dtype=float32)\n",
      "Generator Loss:  tf.Tensor(6052.089, shape=(), dtype=float32) , Discriminator Loss:  tf.Tensor(-3955.7112, shape=(), dtype=float32)\n",
      "Generator Loss:  tf.Tensor(6022.333, shape=(), dtype=float32) , Discriminator Loss:  tf.Tensor(-4221.8076, shape=(), dtype=float32)\n",
      "Generator Loss:  tf.Tensor(6063.892, shape=(), dtype=float32) , Discriminator Loss:  tf.Tensor(-3967.0066, shape=(), dtype=float32)\n",
      "Generator Loss:  tf.Tensor(6140.72, shape=(), dtype=float32) , Discriminator Loss:  tf.Tensor(-3498.8223, shape=(), dtype=float32)\n",
      "Generator Loss:  tf.Tensor(6243.218, shape=(), dtype=float32) , Discriminator Loss:  tf.Tensor(-3416.0283, shape=(), dtype=float32)\n",
      "Generator Loss:  tf.Tensor(6304.6255, shape=(), dtype=float32) , Discriminator Loss:  tf.Tensor(-3179.9346, shape=(), dtype=float32)\n",
      "Generator Loss:  tf.Tensor(6290.201, shape=(), dtype=float32) , Discriminator Loss:  tf.Tensor(-3974.691, shape=(), dtype=float32)\n",
      "Generator Loss:  tf.Tensor(6254.529, shape=(), dtype=float32) , Discriminator Loss:  tf.Tensor(-4425.0503, shape=(), dtype=float32)\n",
      "Generator Loss:  tf.Tensor(6299.257, shape=(), dtype=float32) , Discriminator Loss:  tf.Tensor(-4376.2954, shape=(), dtype=float32)\n",
      "Generator Loss:  tf.Tensor(6391.7944, shape=(), dtype=float32) , Discriminator Loss:  tf.Tensor(-3851.2769, shape=(), dtype=float32)\n",
      "Generator Loss:  tf.Tensor(6526.718, shape=(), dtype=float32) , Discriminator Loss:  tf.Tensor(-3755.8057, shape=(), dtype=float32)\n",
      "Generator Loss:  tf.Tensor(6619.1943, shape=(), dtype=float32) , Discriminator Loss:  tf.Tensor(-3524.719, shape=(), dtype=float32)\n",
      "Generator Loss:  tf.Tensor(6614.2637, shape=(), dtype=float32) , Discriminator Loss:  tf.Tensor(-3800.5479, shape=(), dtype=float32)\n",
      "Generator Loss:  tf.Tensor(6568.7417, shape=(), dtype=float32) , Discriminator Loss:  tf.Tensor(-4575.0435, shape=(), dtype=float32)\n",
      "Generator Loss:  tf.Tensor(6576.932, shape=(), dtype=float32) , Discriminator Loss:  tf.Tensor(-4563.878, shape=(), dtype=float32)\n",
      "Generator Loss:  tf.Tensor(6661.0015, shape=(), dtype=float32) , Discriminator Loss:  tf.Tensor(-4454.918, shape=(), dtype=float32)\n",
      "Generator Loss:  tf.Tensor(6806.157, shape=(), dtype=float32) , Discriminator Loss:  tf.Tensor(-4399.9395, shape=(), dtype=float32)\n",
      "Generator Loss:  tf.Tensor(6979.0615, shape=(), dtype=float32) , Discriminator Loss:  tf.Tensor(-3935.7288, shape=(), dtype=float32)\n",
      "Generator Loss:  tf.Tensor(7066.899, shape=(), dtype=float32) , Discriminator Loss:  tf.Tensor(-3569.5256, shape=(), dtype=float32)\n",
      "Generator Loss:  tf.Tensor(7077.0137, shape=(), dtype=float32) , Discriminator Loss:  tf.Tensor(-3986.9717, shape=(), dtype=float32)\n",
      "Generator Loss:  tf.Tensor(7054.0264, shape=(), dtype=float32) , Discriminator Loss:  tf.Tensor(-4529.4414, shape=(), dtype=float32)\n",
      "Generator Loss:  tf.Tensor(7089.244, shape=(), dtype=float32) , Discriminator Loss:  tf.Tensor(-4524.375, shape=(), dtype=float32)\n",
      "Generator Loss:  tf.Tensor(7177.412, shape=(), dtype=float32) , Discriminator Loss:  tf.Tensor(-4634.4854, shape=(), dtype=float32)\n",
      "Generator Loss:  tf.Tensor(7314.9736, shape=(), dtype=float32) , Discriminator Loss:  tf.Tensor(-4347.1484, shape=(), dtype=float32)\n",
      "Generator Loss:  tf.Tensor(7400.363, shape=(), dtype=float32) , Discriminator Loss:  tf.Tensor(-4851.4844, shape=(), dtype=float32)\n",
      "Generator Loss:  tf.Tensor(7461.4385, shape=(), dtype=float32) , Discriminator Loss:  tf.Tensor(-3806.126, shape=(), dtype=float32)\n",
      "Generator Loss:  tf.Tensor(7519.0146, shape=(), dtype=float32) , Discriminator Loss:  tf.Tensor(-4119.367, shape=(), dtype=float32)\n",
      "Generator Loss:  tf.Tensor(7553.3887, shape=(), dtype=float32) , Discriminator Loss:  tf.Tensor(-4535.629, shape=(), dtype=float32)\n",
      "Generator Loss:  tf.Tensor(7591.579, shape=(), dtype=float32) , Discriminator Loss:  tf.Tensor(-4274.4644, shape=(), dtype=float32)\n",
      "Generator Loss:  tf.Tensor(7640.2783, shape=(), dtype=float32) , Discriminator Loss:  tf.Tensor(-4551.251, shape=(), dtype=float32)\n",
      "Generator Loss:  tf.Tensor(7686.75, shape=(), dtype=float32) , Discriminator Loss:  tf.Tensor(-4958.97, shape=(), dtype=float32)\n",
      "Generator Loss:  tf.Tensor(7719.608, shape=(), dtype=float32) , Discriminator Loss:  tf.Tensor(-4982.25, shape=(), dtype=float32)\n",
      "Generator Loss:  tf.Tensor(7762.7563, shape=(), dtype=float32) , Discriminator Loss:  tf.Tensor(-4948.6846, shape=(), dtype=float32)\n",
      "Generator Loss:  tf.Tensor(7831.0225, shape=(), dtype=float32) , Discriminator Loss:  tf.Tensor(-5173.294, shape=(), dtype=float32)\n",
      "Generator Loss:  tf.Tensor(7911.9185, shape=(), dtype=float32) , Discriminator Loss:  tf.Tensor(-4680.9824, shape=(), dtype=float32)\n",
      "Generator Loss:  tf.Tensor(8023.983, shape=(), dtype=float32) , Discriminator Loss:  tf.Tensor(-4292.3296, shape=(), dtype=float32)\n",
      "Generator Loss:  tf.Tensor(8094.9985, shape=(), dtype=float32) , Discriminator Loss:  tf.Tensor(-5222.6855, shape=(), dtype=float32)\n",
      "Generator Loss:  tf.Tensor(8111.4355, shape=(), dtype=float32) , Discriminator Loss:  tf.Tensor(-4748.7373, shape=(), dtype=float32)\n"
     ]
    },
    {
     "name": "stdout",
     "output_type": "stream",
     "text": [
      "Generator Loss:  tf.Tensor(8099.802, shape=(), dtype=float32) , Discriminator Loss:  tf.Tensor(-5314.875, shape=(), dtype=float32)\n",
      "Generator Loss:  tf.Tensor(8187.788, shape=(), dtype=float32) , Discriminator Loss:  tf.Tensor(-5140.219, shape=(), dtype=float32)\n",
      "Generator Loss:  tf.Tensor(8313.512, shape=(), dtype=float32) , Discriminator Loss:  tf.Tensor(-5267.4814, shape=(), dtype=float32)\n",
      "Generator Loss:  tf.Tensor(8419.41, shape=(), dtype=float32) , Discriminator Loss:  tf.Tensor(-4731.91, shape=(), dtype=float32)\n",
      "Generator Loss:  tf.Tensor(8484.598, shape=(), dtype=float32) , Discriminator Loss:  tf.Tensor(-5137.982, shape=(), dtype=float32)\n",
      "Generator Loss:  tf.Tensor(8515.738, shape=(), dtype=float32) , Discriminator Loss:  tf.Tensor(-5688.8447, shape=(), dtype=float32)\n",
      "Generator Loss:  tf.Tensor(8565.021, shape=(), dtype=float32) , Discriminator Loss:  tf.Tensor(-5739.459, shape=(), dtype=float32)\n",
      "Generator Loss:  tf.Tensor(8658.326, shape=(), dtype=float32) , Discriminator Loss:  tf.Tensor(-4929.765, shape=(), dtype=float32)\n",
      "Generator Loss:  tf.Tensor(8779.315, shape=(), dtype=float32) , Discriminator Loss:  tf.Tensor(-5531.008, shape=(), dtype=float32)\n",
      "Generator Loss:  tf.Tensor(8860.496, shape=(), dtype=float32) , Discriminator Loss:  tf.Tensor(-5399.164, shape=(), dtype=float32)\n",
      "Generator Loss:  tf.Tensor(8922.494, shape=(), dtype=float32) , Discriminator Loss:  tf.Tensor(-5190.6475, shape=(), dtype=float32)\n",
      "Generator Loss:  tf.Tensor(8967.822, shape=(), dtype=float32) , Discriminator Loss:  tf.Tensor(-5109.077, shape=(), dtype=float32)\n",
      "Generator Loss:  tf.Tensor(9062.566, shape=(), dtype=float32) , Discriminator Loss:  tf.Tensor(-5535.7295, shape=(), dtype=float32)\n",
      "Generator Loss:  tf.Tensor(9190.707, shape=(), dtype=float32) , Discriminator Loss:  tf.Tensor(-6236.8726, shape=(), dtype=float32)\n",
      "Generator Loss:  tf.Tensor(9250.676, shape=(), dtype=float32) , Discriminator Loss:  tf.Tensor(-6298.5605, shape=(), dtype=float32)\n",
      "Generator Loss:  tf.Tensor(9326.145, shape=(), dtype=float32) , Discriminator Loss:  tf.Tensor(-5690.2207, shape=(), dtype=float32)\n",
      "Generator Loss:  tf.Tensor(9433.303, shape=(), dtype=float32) , Discriminator Loss:  tf.Tensor(-6238.962, shape=(), dtype=float32)\n",
      "Generator Loss:  tf.Tensor(9558.708, shape=(), dtype=float32) , Discriminator Loss:  tf.Tensor(-5962.3613, shape=(), dtype=float32)\n",
      "Generator Loss:  tf.Tensor(9656.428, shape=(), dtype=float32) , Discriminator Loss:  tf.Tensor(-6093.127, shape=(), dtype=float32)\n",
      "Generator Loss:  tf.Tensor(9783.916, shape=(), dtype=float32) , Discriminator Loss:  tf.Tensor(-5402.93, shape=(), dtype=float32)\n",
      "Generator Loss:  tf.Tensor(9852.162, shape=(), dtype=float32) , Discriminator Loss:  tf.Tensor(-5530.3887, shape=(), dtype=float32)\n",
      "Generator Loss:  tf.Tensor(9916.803, shape=(), dtype=float32) , Discriminator Loss:  tf.Tensor(-6466.159, shape=(), dtype=float32)\n",
      "Generator Loss:  tf.Tensor(9981.043, shape=(), dtype=float32) , Discriminator Loss:  tf.Tensor(-6001.4062, shape=(), dtype=float32)\n",
      "Generator Loss:  tf.Tensor(10117.034, shape=(), dtype=float32) , Discriminator Loss:  tf.Tensor(-6087.43, shape=(), dtype=float32)\n",
      "Generator Loss:  tf.Tensor(10255.537, shape=(), dtype=float32) , Discriminator Loss:  tf.Tensor(-6053.767, shape=(), dtype=float32)\n",
      "Generator Loss:  tf.Tensor(10338.288, shape=(), dtype=float32) , Discriminator Loss:  tf.Tensor(-5681.338, shape=(), dtype=float32)\n",
      "Generator Loss:  tf.Tensor(10333.389, shape=(), dtype=float32) , Discriminator Loss:  tf.Tensor(-6712.966, shape=(), dtype=float32)\n",
      "Generator Loss:  tf.Tensor(10387.258, shape=(), dtype=float32) , Discriminator Loss:  tf.Tensor(-7306.5376, shape=(), dtype=float32)\n",
      "Generator Loss:  tf.Tensor(10494.094, shape=(), dtype=float32) , Discriminator Loss:  tf.Tensor(-7138.282, shape=(), dtype=float32)\n",
      "Generator Loss:  tf.Tensor(10642.111, shape=(), dtype=float32) , Discriminator Loss:  tf.Tensor(-6330.9893, shape=(), dtype=float32)\n",
      "Generator Loss:  tf.Tensor(10777.256, shape=(), dtype=float32) , Discriminator Loss:  tf.Tensor(-5827.648, shape=(), dtype=float32)\n",
      "Generator Loss:  tf.Tensor(10880.759, shape=(), dtype=float32) , Discriminator Loss:  tf.Tensor(-6210.7827, shape=(), dtype=float32)\n",
      "Generator Loss:  tf.Tensor(10956.216, shape=(), dtype=float32) , Discriminator Loss:  tf.Tensor(-6513.649, shape=(), dtype=float32)\n",
      "Generator Loss:  tf.Tensor(11005.111, shape=(), dtype=float32) , Discriminator Loss:  tf.Tensor(-6952.4453, shape=(), dtype=float32)\n",
      "Generator Loss:  tf.Tensor(11094.655, shape=(), dtype=float32) , Discriminator Loss:  tf.Tensor(-6905.2764, shape=(), dtype=float32)\n",
      "Generator Loss:  tf.Tensor(11226.742, shape=(), dtype=float32) , Discriminator Loss:  tf.Tensor(-7545.424, shape=(), dtype=float32)\n",
      "Generator Loss:  tf.Tensor(11352.561, shape=(), dtype=float32) , Discriminator Loss:  tf.Tensor(-7352.4004, shape=(), dtype=float32)\n",
      "Generator Loss:  tf.Tensor(11475.685, shape=(), dtype=float32) , Discriminator Loss:  tf.Tensor(-7467.724, shape=(), dtype=float32)\n",
      "Generator Loss:  tf.Tensor(11638.464, shape=(), dtype=float32) , Discriminator Loss:  tf.Tensor(-6847.375, shape=(), dtype=float32)\n",
      "Generator Loss:  tf.Tensor(11719.811, shape=(), dtype=float32) , Discriminator Loss:  tf.Tensor(-7489.611, shape=(), dtype=float32)\n",
      "Generator Loss:  tf.Tensor(11795.677, shape=(), dtype=float32) , Discriminator Loss:  tf.Tensor(-7746.7554, shape=(), dtype=float32)\n",
      "Generator Loss:  tf.Tensor(11984.195, shape=(), dtype=float32) , Discriminator Loss:  tf.Tensor(-8149.6055, shape=(), dtype=float32)\n",
      "Generator Loss:  tf.Tensor(12167.038, shape=(), dtype=float32) , Discriminator Loss:  tf.Tensor(-6898.5874, shape=(), dtype=float32)\n",
      "Generator Loss:  tf.Tensor(12347.586, shape=(), dtype=float32) , Discriminator Loss:  tf.Tensor(-7453.1123, shape=(), dtype=float32)\n",
      "Generator Loss:  tf.Tensor(12406.802, shape=(), dtype=float32) , Discriminator Loss:  tf.Tensor(-8524.551, shape=(), dtype=float32)\n",
      "Generator Loss:  tf.Tensor(12516.175, shape=(), dtype=float32) , Discriminator Loss:  tf.Tensor(-7431.7363, shape=(), dtype=float32)\n",
      "Generator Loss:  tf.Tensor(12700.076, shape=(), dtype=float32) , Discriminator Loss:  tf.Tensor(-6803.44, shape=(), dtype=float32)\n",
      "Generator Loss:  tf.Tensor(12865.572, shape=(), dtype=float32) , Discriminator Loss:  tf.Tensor(-6923.5986, shape=(), dtype=float32)\n",
      "Generator Loss:  tf.Tensor(12940.762, shape=(), dtype=float32) , Discriminator Loss:  tf.Tensor(-7142.1665, shape=(), dtype=float32)\n",
      "Generator Loss:  tf.Tensor(12995.87, shape=(), dtype=float32) , Discriminator Loss:  tf.Tensor(-8758.281, shape=(), dtype=float32)\n",
      "Generator Loss:  tf.Tensor(13126.505, shape=(), dtype=float32) , Discriminator Loss:  tf.Tensor(-8779.893, shape=(), dtype=float32)\n",
      "Generator Loss:  tf.Tensor(13338.528, shape=(), dtype=float32) , Discriminator Loss:  tf.Tensor(-8378.998, shape=(), dtype=float32)\n",
      "Generator Loss:  tf.Tensor(13506.411, shape=(), dtype=float32) , Discriminator Loss:  tf.Tensor(-8239.674, shape=(), dtype=float32)\n",
      "Generator Loss:  tf.Tensor(13521.796, shape=(), dtype=float32) , Discriminator Loss:  tf.Tensor(-8056.2783, shape=(), dtype=float32)\n",
      "Generator Loss:  tf.Tensor(13623.896, shape=(), dtype=float32) , Discriminator Loss:  tf.Tensor(-8004.6777, shape=(), dtype=float32)\n",
      "Generator Loss:  tf.Tensor(13770.219, shape=(), dtype=float32) , Discriminator Loss:  tf.Tensor(-9313.382, shape=(), dtype=float32)\n",
      "Generator Loss:  tf.Tensor(13999.458, shape=(), dtype=float32) , Discriminator Loss:  tf.Tensor(-7967.16, shape=(), dtype=float32)\n",
      "Generator Loss:  tf.Tensor(14120.598, shape=(), dtype=float32) , Discriminator Loss:  tf.Tensor(-8542.531, shape=(), dtype=float32)\n",
      "Generator Loss:  tf.Tensor(14217.326, shape=(), dtype=float32) , Discriminator Loss:  tf.Tensor(-8858.083, shape=(), dtype=float32)\n",
      "Generator Loss:  tf.Tensor(14282.492, shape=(), dtype=float32) , Discriminator Loss:  tf.Tensor(-9125.537, shape=(), dtype=float32)\n",
      "Generator Loss:  tf.Tensor(14492.721, shape=(), dtype=float32) , Discriminator Loss:  tf.Tensor(-9423.407, shape=(), dtype=float32)\n",
      "Generator Loss:  tf.Tensor(14695.443, shape=(), dtype=float32) , Discriminator Loss:  tf.Tensor(-7780.2617, shape=(), dtype=float32)\n",
      "Generator Loss:  tf.Tensor(14873.808, shape=(), dtype=float32) , Discriminator Loss:  tf.Tensor(-9139.768, shape=(), dtype=float32)\n"
     ]
    },
    {
     "name": "stdout",
     "output_type": "stream",
     "text": [
      "Generator Loss:  tf.Tensor(14983.3125, shape=(), dtype=float32) , Discriminator Loss:  tf.Tensor(-9416.023, shape=(), dtype=float32)\n",
      "Generator Loss:  tf.Tensor(15098.0, shape=(), dtype=float32) , Discriminator Loss:  tf.Tensor(-9853.268, shape=(), dtype=float32)\n",
      "Generator Loss:  tf.Tensor(15300.721, shape=(), dtype=float32) , Discriminator Loss:  tf.Tensor(-11108.475, shape=(), dtype=float32)\n",
      "Generator Loss:  tf.Tensor(15534.808, shape=(), dtype=float32) , Discriminator Loss:  tf.Tensor(-8594.204, shape=(), dtype=float32)\n",
      "Generator Loss:  tf.Tensor(15732.918, shape=(), dtype=float32) , Discriminator Loss:  tf.Tensor(-10862.41, shape=(), dtype=float32)\n",
      "Generator Loss:  tf.Tensor(15921.43, shape=(), dtype=float32) , Discriminator Loss:  tf.Tensor(-8736.645, shape=(), dtype=float32)\n",
      "Generator Loss:  tf.Tensor(16075.26, shape=(), dtype=float32) , Discriminator Loss:  tf.Tensor(-9566.092, shape=(), dtype=float32)\n",
      "Generator Loss:  tf.Tensor(16250.765, shape=(), dtype=float32) , Discriminator Loss:  tf.Tensor(-9406.328, shape=(), dtype=float32)\n",
      "Generator Loss:  tf.Tensor(16446.047, shape=(), dtype=float32) , Discriminator Loss:  tf.Tensor(-9768.166, shape=(), dtype=float32)\n",
      "Generator Loss:  tf.Tensor(16603.572, shape=(), dtype=float32) , Discriminator Loss:  tf.Tensor(-9080.859, shape=(), dtype=float32)\n",
      "Generator Loss:  tf.Tensor(16725.52, shape=(), dtype=float32) , Discriminator Loss:  tf.Tensor(-8878.188, shape=(), dtype=float32)\n",
      "Generator Loss:  tf.Tensor(16842.553, shape=(), dtype=float32) , Discriminator Loss:  tf.Tensor(-9267.365, shape=(), dtype=float32)\n",
      "Generator Loss:  tf.Tensor(16987.379, shape=(), dtype=float32) , Discriminator Loss:  tf.Tensor(-10629.739, shape=(), dtype=float32)\n",
      "Generator Loss:  tf.Tensor(17101.457, shape=(), dtype=float32) , Discriminator Loss:  tf.Tensor(-10459.863, shape=(), dtype=float32)\n",
      "Generator Loss:  tf.Tensor(17218.188, shape=(), dtype=float32) , Discriminator Loss:  tf.Tensor(-9834.375, shape=(), dtype=float32)\n",
      "Generator Loss:  tf.Tensor(17347.898, shape=(), dtype=float32) , Discriminator Loss:  tf.Tensor(-11085.244, shape=(), dtype=float32)\n",
      "Generator Loss:  tf.Tensor(17489.166, shape=(), dtype=float32) , Discriminator Loss:  tf.Tensor(-10025.207, shape=(), dtype=float32)\n",
      "Generator Loss:  tf.Tensor(17610.527, shape=(), dtype=float32) , Discriminator Loss:  tf.Tensor(-10587.683, shape=(), dtype=float32)\n",
      "Generator Loss:  tf.Tensor(17749.68, shape=(), dtype=float32) , Discriminator Loss:  tf.Tensor(-10972.573, shape=(), dtype=float32)\n",
      "Generator Loss:  tf.Tensor(17874.178, shape=(), dtype=float32) , Discriminator Loss:  tf.Tensor(-10885.492, shape=(), dtype=float32)\n",
      "Generator Loss:  tf.Tensor(17991.635, shape=(), dtype=float32) , Discriminator Loss:  tf.Tensor(-11522.356, shape=(), dtype=float32)\n",
      "Generator Loss:  tf.Tensor(18167.723, shape=(), dtype=float32) , Discriminator Loss:  tf.Tensor(-11312.048, shape=(), dtype=float32)\n",
      "Generator Loss:  tf.Tensor(18391.54, shape=(), dtype=float32) , Discriminator Loss:  tf.Tensor(-12548.477, shape=(), dtype=float32)\n",
      "Generator Loss:  tf.Tensor(18583.588, shape=(), dtype=float32) , Discriminator Loss:  tf.Tensor(-11833.27, shape=(), dtype=float32)\n",
      "Generator Loss:  tf.Tensor(18802.602, shape=(), dtype=float32) , Discriminator Loss:  tf.Tensor(-13276.988, shape=(), dtype=float32)\n",
      "Generator Loss:  tf.Tensor(18989.328, shape=(), dtype=float32) , Discriminator Loss:  tf.Tensor(-11926.072, shape=(), dtype=float32)\n",
      "Generator Loss:  tf.Tensor(19313.422, shape=(), dtype=float32) , Discriminator Loss:  tf.Tensor(-12641.848, shape=(), dtype=float32)\n",
      "Generator Loss:  tf.Tensor(19586.438, shape=(), dtype=float32) , Discriminator Loss:  tf.Tensor(-14441.293, shape=(), dtype=float32)\n",
      "Generator Loss:  tf.Tensor(19900.252, shape=(), dtype=float32) , Discriminator Loss:  tf.Tensor(-12978.131, shape=(), dtype=float32)\n",
      "Generator Loss:  tf.Tensor(20162.135, shape=(), dtype=float32) , Discriminator Loss:  tf.Tensor(-13497.878, shape=(), dtype=float32)\n",
      "Generator Loss:  tf.Tensor(20514.004, shape=(), dtype=float32) , Discriminator Loss:  tf.Tensor(-12574.381, shape=(), dtype=float32)\n",
      "Generator Loss:  tf.Tensor(20857.74, shape=(), dtype=float32) , Discriminator Loss:  tf.Tensor(-12848.654, shape=(), dtype=float32)\n",
      "Generator Loss:  tf.Tensor(21149.676, shape=(), dtype=float32) , Discriminator Loss:  tf.Tensor(-13913.398, shape=(), dtype=float32)\n",
      "Generator Loss:  tf.Tensor(21468.64, shape=(), dtype=float32) , Discriminator Loss:  tf.Tensor(-13173.666, shape=(), dtype=float32)\n",
      "Generator Loss:  tf.Tensor(21771.742, shape=(), dtype=float32) , Discriminator Loss:  tf.Tensor(-13259.013, shape=(), dtype=float32)\n",
      "Generator Loss:  tf.Tensor(22023.082, shape=(), dtype=float32) , Discriminator Loss:  tf.Tensor(-13784.695, shape=(), dtype=float32)\n",
      "Generator Loss:  tf.Tensor(22308.172, shape=(), dtype=float32) , Discriminator Loss:  tf.Tensor(-13803.498, shape=(), dtype=float32)\n",
      "Generator Loss:  tf.Tensor(22639.787, shape=(), dtype=float32) , Discriminator Loss:  tf.Tensor(-14306.748, shape=(), dtype=float32)\n",
      "Generator Loss:  tf.Tensor(22874.252, shape=(), dtype=float32) , Discriminator Loss:  tf.Tensor(-14292.48, shape=(), dtype=float32)\n",
      "Generator Loss:  tf.Tensor(23022.406, shape=(), dtype=float32) , Discriminator Loss:  tf.Tensor(-13823.052, shape=(), dtype=float32)\n",
      "Generator Loss:  tf.Tensor(23402.11, shape=(), dtype=float32) , Discriminator Loss:  tf.Tensor(-14999.609, shape=(), dtype=float32)\n",
      "Generator Loss:  tf.Tensor(23685.54, shape=(), dtype=float32) , Discriminator Loss:  tf.Tensor(-13948.944, shape=(), dtype=float32)\n",
      "Generator Loss:  tf.Tensor(23933.152, shape=(), dtype=float32) , Discriminator Loss:  tf.Tensor(-13377.264, shape=(), dtype=float32)\n",
      "Generator Loss:  tf.Tensor(23882.746, shape=(), dtype=float32) , Discriminator Loss:  tf.Tensor(-12997.433, shape=(), dtype=float32)\n",
      "Generator Loss:  tf.Tensor(24328.902, shape=(), dtype=float32) , Discriminator Loss:  tf.Tensor(-15661.104, shape=(), dtype=float32)\n",
      "Generator Loss:  tf.Tensor(24553.826, shape=(), dtype=float32) , Discriminator Loss:  tf.Tensor(-15685.426, shape=(), dtype=float32)\n",
      "Generator Loss:  tf.Tensor(24827.574, shape=(), dtype=float32) , Discriminator Loss:  tf.Tensor(-15892.752, shape=(), dtype=float32)\n",
      "Generator Loss:  tf.Tensor(24682.596, shape=(), dtype=float32) , Discriminator Loss:  tf.Tensor(-11816.428, shape=(), dtype=float32)\n",
      "Generator Loss:  tf.Tensor(25236.191, shape=(), dtype=float32) , Discriminator Loss:  tf.Tensor(-16181.148, shape=(), dtype=float32)\n",
      "Generator Loss:  tf.Tensor(25373.064, shape=(), dtype=float32) , Discriminator Loss:  tf.Tensor(-15214.797, shape=(), dtype=float32)\n",
      "Generator Loss:  tf.Tensor(25655.148, shape=(), dtype=float32) , Discriminator Loss:  tf.Tensor(-17428.266, shape=(), dtype=float32)\n",
      "Generator Loss:  tf.Tensor(25927.098, shape=(), dtype=float32) , Discriminator Loss:  tf.Tensor(-15693.854, shape=(), dtype=float32)\n",
      "Generator Loss:  tf.Tensor(25794.604, shape=(), dtype=float32) , Discriminator Loss:  tf.Tensor(-13306.686, shape=(), dtype=float32)\n",
      "Generator Loss:  tf.Tensor(26401.324, shape=(), dtype=float32) , Discriminator Loss:  tf.Tensor(-16031.231, shape=(), dtype=float32)\n",
      "Generator Loss:  tf.Tensor(26567.438, shape=(), dtype=float32) , Discriminator Loss:  tf.Tensor(-16898.979, shape=(), dtype=float32)\n",
      "Generator Loss:  tf.Tensor(26793.459, shape=(), dtype=float32) , Discriminator Loss:  tf.Tensor(-16549.656, shape=(), dtype=float32)\n",
      "Generator Loss:  tf.Tensor(27078.385, shape=(), dtype=float32) , Discriminator Loss:  tf.Tensor(-18339.33, shape=(), dtype=float32)\n",
      "Generator Loss:  tf.Tensor(27040.5, shape=(), dtype=float32) , Discriminator Loss:  tf.Tensor(-14247.36, shape=(), dtype=float32)\n",
      "Generator Loss:  tf.Tensor(27508.797, shape=(), dtype=float32) , Discriminator Loss:  tf.Tensor(-14876.502, shape=(), dtype=float32)\n",
      "Generator Loss:  tf.Tensor(27836.223, shape=(), dtype=float32) , Discriminator Loss:  tf.Tensor(-18059.945, shape=(), dtype=float32)\n",
      "Generator Loss:  tf.Tensor(28072.934, shape=(), dtype=float32) , Discriminator Loss:  tf.Tensor(-16663.098, shape=(), dtype=float32)\n",
      "Generator Loss:  tf.Tensor(28309.691, shape=(), dtype=float32) , Discriminator Loss:  tf.Tensor(-18030.742, shape=(), dtype=float32)\n"
     ]
    },
    {
     "name": "stdout",
     "output_type": "stream",
     "text": [
      "Generator Loss:  tf.Tensor(28442.027, shape=(), dtype=float32) , Discriminator Loss:  tf.Tensor(-17363.053, shape=(), dtype=float32)\n",
      "Generator Loss:  tf.Tensor(28556.29, shape=(), dtype=float32) , Discriminator Loss:  tf.Tensor(-16875.768, shape=(), dtype=float32)\n",
      "Generator Loss:  tf.Tensor(28961.465, shape=(), dtype=float32) , Discriminator Loss:  tf.Tensor(-17100.62, shape=(), dtype=float32)\n",
      "Generator Loss:  tf.Tensor(29218.318, shape=(), dtype=float32) , Discriminator Loss:  tf.Tensor(-17212.117, shape=(), dtype=float32)\n",
      "Generator Loss:  tf.Tensor(29473.242, shape=(), dtype=float32) , Discriminator Loss:  tf.Tensor(-17652.135, shape=(), dtype=float32)\n",
      "Generator Loss:  tf.Tensor(29646.59, shape=(), dtype=float32) , Discriminator Loss:  tf.Tensor(-17633.648, shape=(), dtype=float32)\n",
      "Generator Loss:  tf.Tensor(29628.047, shape=(), dtype=float32) , Discriminator Loss:  tf.Tensor(-17177.32, shape=(), dtype=float32)\n",
      "Generator Loss:  tf.Tensor(29919.566, shape=(), dtype=float32) , Discriminator Loss:  tf.Tensor(-17332.934, shape=(), dtype=float32)\n",
      "Generator Loss:  tf.Tensor(30279.02, shape=(), dtype=float32) , Discriminator Loss:  tf.Tensor(-18478.275, shape=(), dtype=float32)\n",
      "Generator Loss:  tf.Tensor(30507.66, shape=(), dtype=float32) , Discriminator Loss:  tf.Tensor(-19932.62, shape=(), dtype=float32)\n",
      "Generator Loss:  tf.Tensor(30553.326, shape=(), dtype=float32) , Discriminator Loss:  tf.Tensor(-18576.752, shape=(), dtype=float32)\n",
      "Generator Loss:  tf.Tensor(30634.516, shape=(), dtype=float32) , Discriminator Loss:  tf.Tensor(-17197.86, shape=(), dtype=float32)\n",
      "Generator Loss:  tf.Tensor(30989.023, shape=(), dtype=float32) , Discriminator Loss:  tf.Tensor(-18047.365, shape=(), dtype=float32)\n",
      "Generator Loss:  tf.Tensor(31306.754, shape=(), dtype=float32) , Discriminator Loss:  tf.Tensor(-19649.617, shape=(), dtype=float32)\n",
      "Generator Loss:  tf.Tensor(31556.105, shape=(), dtype=float32) , Discriminator Loss:  tf.Tensor(-21418.738, shape=(), dtype=float32)\n",
      "Generator Loss:  tf.Tensor(31830.516, shape=(), dtype=float32) , Discriminator Loss:  tf.Tensor(-20952.031, shape=(), dtype=float32)\n",
      "Generator Loss:  tf.Tensor(31574.523, shape=(), dtype=float32) , Discriminator Loss:  tf.Tensor(-18258.383, shape=(), dtype=float32)\n",
      "Generator Loss:  tf.Tensor(32232.262, shape=(), dtype=float32) , Discriminator Loss:  tf.Tensor(-20781.822, shape=(), dtype=float32)\n"
     ]
    },
    {
     "ename": "KeyboardInterrupt",
     "evalue": "",
     "output_type": "error",
     "traceback": [
      "\u001b[0;31m---------------------------------------------------------------------------\u001b[0m",
      "\u001b[0;31mKeyboardInterrupt\u001b[0m                         Traceback (most recent call last)",
      "Input \u001b[0;32mIn [422]\u001b[0m, in \u001b[0;36m<cell line: 1>\u001b[0;34m()\u001b[0m\n\u001b[0;32m----> 1\u001b[0m \u001b[43mdcgan1\u001b[49m\u001b[38;5;241;43m.\u001b[39;49m\u001b[43mtrain\u001b[49m\u001b[43m(\u001b[49m\u001b[38;5;241;43m1000\u001b[39;49m\u001b[43m)\u001b[49m\n",
      "Input \u001b[0;32mIn [418]\u001b[0m, in \u001b[0;36mDCGAN.train\u001b[0;34m(self, epochs)\u001b[0m\n\u001b[1;32m     85\u001b[0m \u001b[38;5;28;01mfor\u001b[39;00m epo \u001b[38;5;129;01min\u001b[39;00m \u001b[38;5;28mrange\u001b[39m(epochs):\n\u001b[1;32m     86\u001b[0m     \u001b[38;5;28;01mfor\u001b[39;00m img_b \u001b[38;5;129;01min\u001b[39;00m \u001b[38;5;28mself\u001b[39m\u001b[38;5;241m.\u001b[39mdataset:\n\u001b[0;32m---> 87\u001b[0m         g_l, d_l \u001b[38;5;241m=\u001b[39m \u001b[38;5;28;43mself\u001b[39;49m\u001b[38;5;241;43m.\u001b[39;49m\u001b[43mupdate\u001b[49m\u001b[43m(\u001b[49m\u001b[43mimg_b\u001b[49m\u001b[43m)\u001b[49m\n\u001b[1;32m     88\u001b[0m         \u001b[38;5;28mprint\u001b[39m(\u001b[38;5;124m\"\u001b[39m\u001b[38;5;124mGenerator Loss: \u001b[39m\u001b[38;5;124m\"\u001b[39m, tf\u001b[38;5;241m.\u001b[39mreduce_mean(g_l), \u001b[38;5;124m\"\u001b[39m\u001b[38;5;124m, Discriminator Loss: \u001b[39m\u001b[38;5;124m\"\u001b[39m,  tf\u001b[38;5;241m.\u001b[39mreduce_mean(d_l))\n\u001b[1;32m     90\u001b[0m     \u001b[38;5;28mself\u001b[39m\u001b[38;5;241m.\u001b[39mmonitor_progress(epo)\n",
      "File \u001b[0;32m~/anaconda3/envs/gan/lib/python3.8/site-packages/tensorflow/python/util/traceback_utils.py:150\u001b[0m, in \u001b[0;36mfilter_traceback.<locals>.error_handler\u001b[0;34m(*args, **kwargs)\u001b[0m\n\u001b[1;32m    148\u001b[0m filtered_tb \u001b[38;5;241m=\u001b[39m \u001b[38;5;28;01mNone\u001b[39;00m\n\u001b[1;32m    149\u001b[0m \u001b[38;5;28;01mtry\u001b[39;00m:\n\u001b[0;32m--> 150\u001b[0m   \u001b[38;5;28;01mreturn\u001b[39;00m \u001b[43mfn\u001b[49m\u001b[43m(\u001b[49m\u001b[38;5;241;43m*\u001b[39;49m\u001b[43margs\u001b[49m\u001b[43m,\u001b[49m\u001b[43m \u001b[49m\u001b[38;5;241;43m*\u001b[39;49m\u001b[38;5;241;43m*\u001b[39;49m\u001b[43mkwargs\u001b[49m\u001b[43m)\u001b[49m\n\u001b[1;32m    151\u001b[0m \u001b[38;5;28;01mexcept\u001b[39;00m \u001b[38;5;167;01mException\u001b[39;00m \u001b[38;5;28;01mas\u001b[39;00m e:\n\u001b[1;32m    152\u001b[0m   filtered_tb \u001b[38;5;241m=\u001b[39m _process_traceback_frames(e\u001b[38;5;241m.\u001b[39m__traceback__)\n",
      "File \u001b[0;32m~/anaconda3/envs/gan/lib/python3.8/site-packages/tensorflow/python/eager/def_function.py:915\u001b[0m, in \u001b[0;36mFunction.__call__\u001b[0;34m(self, *args, **kwds)\u001b[0m\n\u001b[1;32m    912\u001b[0m compiler \u001b[38;5;241m=\u001b[39m \u001b[38;5;124m\"\u001b[39m\u001b[38;5;124mxla\u001b[39m\u001b[38;5;124m\"\u001b[39m \u001b[38;5;28;01mif\u001b[39;00m \u001b[38;5;28mself\u001b[39m\u001b[38;5;241m.\u001b[39m_jit_compile \u001b[38;5;28;01melse\u001b[39;00m \u001b[38;5;124m\"\u001b[39m\u001b[38;5;124mnonXla\u001b[39m\u001b[38;5;124m\"\u001b[39m\n\u001b[1;32m    914\u001b[0m \u001b[38;5;28;01mwith\u001b[39;00m OptionalXlaContext(\u001b[38;5;28mself\u001b[39m\u001b[38;5;241m.\u001b[39m_jit_compile):\n\u001b[0;32m--> 915\u001b[0m   result \u001b[38;5;241m=\u001b[39m \u001b[38;5;28;43mself\u001b[39;49m\u001b[38;5;241;43m.\u001b[39;49m\u001b[43m_call\u001b[49m\u001b[43m(\u001b[49m\u001b[38;5;241;43m*\u001b[39;49m\u001b[43margs\u001b[49m\u001b[43m,\u001b[49m\u001b[43m \u001b[49m\u001b[38;5;241;43m*\u001b[39;49m\u001b[38;5;241;43m*\u001b[39;49m\u001b[43mkwds\u001b[49m\u001b[43m)\u001b[49m\n\u001b[1;32m    917\u001b[0m new_tracing_count \u001b[38;5;241m=\u001b[39m \u001b[38;5;28mself\u001b[39m\u001b[38;5;241m.\u001b[39mexperimental_get_tracing_count()\n\u001b[1;32m    918\u001b[0m without_tracing \u001b[38;5;241m=\u001b[39m (tracing_count \u001b[38;5;241m==\u001b[39m new_tracing_count)\n",
      "File \u001b[0;32m~/anaconda3/envs/gan/lib/python3.8/site-packages/tensorflow/python/eager/def_function.py:947\u001b[0m, in \u001b[0;36mFunction._call\u001b[0;34m(self, *args, **kwds)\u001b[0m\n\u001b[1;32m    944\u001b[0m   \u001b[38;5;28mself\u001b[39m\u001b[38;5;241m.\u001b[39m_lock\u001b[38;5;241m.\u001b[39mrelease()\n\u001b[1;32m    945\u001b[0m   \u001b[38;5;66;03m# In this case we have created variables on the first call, so we run the\u001b[39;00m\n\u001b[1;32m    946\u001b[0m   \u001b[38;5;66;03m# defunned version which is guaranteed to never create variables.\u001b[39;00m\n\u001b[0;32m--> 947\u001b[0m   \u001b[38;5;28;01mreturn\u001b[39;00m \u001b[38;5;28;43mself\u001b[39;49m\u001b[38;5;241;43m.\u001b[39;49m\u001b[43m_stateless_fn\u001b[49m\u001b[43m(\u001b[49m\u001b[38;5;241;43m*\u001b[39;49m\u001b[43margs\u001b[49m\u001b[43m,\u001b[49m\u001b[43m \u001b[49m\u001b[38;5;241;43m*\u001b[39;49m\u001b[38;5;241;43m*\u001b[39;49m\u001b[43mkwds\u001b[49m\u001b[43m)\u001b[49m  \u001b[38;5;66;03m# pylint: disable=not-callable\u001b[39;00m\n\u001b[1;32m    948\u001b[0m \u001b[38;5;28;01melif\u001b[39;00m \u001b[38;5;28mself\u001b[39m\u001b[38;5;241m.\u001b[39m_stateful_fn \u001b[38;5;129;01mis\u001b[39;00m \u001b[38;5;129;01mnot\u001b[39;00m \u001b[38;5;28;01mNone\u001b[39;00m:\n\u001b[1;32m    949\u001b[0m   \u001b[38;5;66;03m# Release the lock early so that multiple threads can perform the call\u001b[39;00m\n\u001b[1;32m    950\u001b[0m   \u001b[38;5;66;03m# in parallel.\u001b[39;00m\n\u001b[1;32m    951\u001b[0m   \u001b[38;5;28mself\u001b[39m\u001b[38;5;241m.\u001b[39m_lock\u001b[38;5;241m.\u001b[39mrelease()\n",
      "File \u001b[0;32m~/anaconda3/envs/gan/lib/python3.8/site-packages/tensorflow/python/eager/function.py:2453\u001b[0m, in \u001b[0;36mFunction.__call__\u001b[0;34m(self, *args, **kwargs)\u001b[0m\n\u001b[1;32m   2450\u001b[0m \u001b[38;5;28;01mwith\u001b[39;00m \u001b[38;5;28mself\u001b[39m\u001b[38;5;241m.\u001b[39m_lock:\n\u001b[1;32m   2451\u001b[0m   (graph_function,\n\u001b[1;32m   2452\u001b[0m    filtered_flat_args) \u001b[38;5;241m=\u001b[39m \u001b[38;5;28mself\u001b[39m\u001b[38;5;241m.\u001b[39m_maybe_define_function(args, kwargs)\n\u001b[0;32m-> 2453\u001b[0m \u001b[38;5;28;01mreturn\u001b[39;00m \u001b[43mgraph_function\u001b[49m\u001b[38;5;241;43m.\u001b[39;49m\u001b[43m_call_flat\u001b[49m\u001b[43m(\u001b[49m\n\u001b[1;32m   2454\u001b[0m \u001b[43m    \u001b[49m\u001b[43mfiltered_flat_args\u001b[49m\u001b[43m,\u001b[49m\u001b[43m \u001b[49m\u001b[43mcaptured_inputs\u001b[49m\u001b[38;5;241;43m=\u001b[39;49m\u001b[43mgraph_function\u001b[49m\u001b[38;5;241;43m.\u001b[39;49m\u001b[43mcaptured_inputs\u001b[49m\u001b[43m)\u001b[49m\n",
      "File \u001b[0;32m~/anaconda3/envs/gan/lib/python3.8/site-packages/tensorflow/python/eager/function.py:1860\u001b[0m, in \u001b[0;36mConcreteFunction._call_flat\u001b[0;34m(self, args, captured_inputs, cancellation_manager)\u001b[0m\n\u001b[1;32m   1856\u001b[0m possible_gradient_type \u001b[38;5;241m=\u001b[39m gradients_util\u001b[38;5;241m.\u001b[39mPossibleTapeGradientTypes(args)\n\u001b[1;32m   1857\u001b[0m \u001b[38;5;28;01mif\u001b[39;00m (possible_gradient_type \u001b[38;5;241m==\u001b[39m gradients_util\u001b[38;5;241m.\u001b[39mPOSSIBLE_GRADIENT_TYPES_NONE\n\u001b[1;32m   1858\u001b[0m     \u001b[38;5;129;01mand\u001b[39;00m executing_eagerly):\n\u001b[1;32m   1859\u001b[0m   \u001b[38;5;66;03m# No tape is watching; skip to running the function.\u001b[39;00m\n\u001b[0;32m-> 1860\u001b[0m   \u001b[38;5;28;01mreturn\u001b[39;00m \u001b[38;5;28mself\u001b[39m\u001b[38;5;241m.\u001b[39m_build_call_outputs(\u001b[38;5;28;43mself\u001b[39;49m\u001b[38;5;241;43m.\u001b[39;49m\u001b[43m_inference_function\u001b[49m\u001b[38;5;241;43m.\u001b[39;49m\u001b[43mcall\u001b[49m\u001b[43m(\u001b[49m\n\u001b[1;32m   1861\u001b[0m \u001b[43m      \u001b[49m\u001b[43mctx\u001b[49m\u001b[43m,\u001b[49m\u001b[43m \u001b[49m\u001b[43margs\u001b[49m\u001b[43m,\u001b[49m\u001b[43m \u001b[49m\u001b[43mcancellation_manager\u001b[49m\u001b[38;5;241;43m=\u001b[39;49m\u001b[43mcancellation_manager\u001b[49m\u001b[43m)\u001b[49m)\n\u001b[1;32m   1862\u001b[0m forward_backward \u001b[38;5;241m=\u001b[39m \u001b[38;5;28mself\u001b[39m\u001b[38;5;241m.\u001b[39m_select_forward_and_backward_functions(\n\u001b[1;32m   1863\u001b[0m     args,\n\u001b[1;32m   1864\u001b[0m     possible_gradient_type,\n\u001b[1;32m   1865\u001b[0m     executing_eagerly)\n\u001b[1;32m   1866\u001b[0m forward_function, args_with_tangents \u001b[38;5;241m=\u001b[39m forward_backward\u001b[38;5;241m.\u001b[39mforward()\n",
      "File \u001b[0;32m~/anaconda3/envs/gan/lib/python3.8/site-packages/tensorflow/python/eager/function.py:497\u001b[0m, in \u001b[0;36m_EagerDefinedFunction.call\u001b[0;34m(self, ctx, args, cancellation_manager)\u001b[0m\n\u001b[1;32m    495\u001b[0m \u001b[38;5;28;01mwith\u001b[39;00m _InterpolateFunctionError(\u001b[38;5;28mself\u001b[39m):\n\u001b[1;32m    496\u001b[0m   \u001b[38;5;28;01mif\u001b[39;00m cancellation_manager \u001b[38;5;129;01mis\u001b[39;00m \u001b[38;5;28;01mNone\u001b[39;00m:\n\u001b[0;32m--> 497\u001b[0m     outputs \u001b[38;5;241m=\u001b[39m \u001b[43mexecute\u001b[49m\u001b[38;5;241;43m.\u001b[39;49m\u001b[43mexecute\u001b[49m\u001b[43m(\u001b[49m\n\u001b[1;32m    498\u001b[0m \u001b[43m        \u001b[49m\u001b[38;5;28;43mstr\u001b[39;49m\u001b[43m(\u001b[49m\u001b[38;5;28;43mself\u001b[39;49m\u001b[38;5;241;43m.\u001b[39;49m\u001b[43msignature\u001b[49m\u001b[38;5;241;43m.\u001b[39;49m\u001b[43mname\u001b[49m\u001b[43m)\u001b[49m\u001b[43m,\u001b[49m\n\u001b[1;32m    499\u001b[0m \u001b[43m        \u001b[49m\u001b[43mnum_outputs\u001b[49m\u001b[38;5;241;43m=\u001b[39;49m\u001b[38;5;28;43mself\u001b[39;49m\u001b[38;5;241;43m.\u001b[39;49m\u001b[43m_num_outputs\u001b[49m\u001b[43m,\u001b[49m\n\u001b[1;32m    500\u001b[0m \u001b[43m        \u001b[49m\u001b[43minputs\u001b[49m\u001b[38;5;241;43m=\u001b[39;49m\u001b[43margs\u001b[49m\u001b[43m,\u001b[49m\n\u001b[1;32m    501\u001b[0m \u001b[43m        \u001b[49m\u001b[43mattrs\u001b[49m\u001b[38;5;241;43m=\u001b[39;49m\u001b[43mattrs\u001b[49m\u001b[43m,\u001b[49m\n\u001b[1;32m    502\u001b[0m \u001b[43m        \u001b[49m\u001b[43mctx\u001b[49m\u001b[38;5;241;43m=\u001b[39;49m\u001b[43mctx\u001b[49m\u001b[43m)\u001b[49m\n\u001b[1;32m    503\u001b[0m   \u001b[38;5;28;01melse\u001b[39;00m:\n\u001b[1;32m    504\u001b[0m     outputs \u001b[38;5;241m=\u001b[39m execute\u001b[38;5;241m.\u001b[39mexecute_with_cancellation(\n\u001b[1;32m    505\u001b[0m         \u001b[38;5;28mstr\u001b[39m(\u001b[38;5;28mself\u001b[39m\u001b[38;5;241m.\u001b[39msignature\u001b[38;5;241m.\u001b[39mname),\n\u001b[1;32m    506\u001b[0m         num_outputs\u001b[38;5;241m=\u001b[39m\u001b[38;5;28mself\u001b[39m\u001b[38;5;241m.\u001b[39m_num_outputs,\n\u001b[0;32m   (...)\u001b[0m\n\u001b[1;32m    509\u001b[0m         ctx\u001b[38;5;241m=\u001b[39mctx,\n\u001b[1;32m    510\u001b[0m         cancellation_manager\u001b[38;5;241m=\u001b[39mcancellation_manager)\n",
      "File \u001b[0;32m~/anaconda3/envs/gan/lib/python3.8/site-packages/tensorflow/python/eager/execute.py:54\u001b[0m, in \u001b[0;36mquick_execute\u001b[0;34m(op_name, num_outputs, inputs, attrs, ctx, name)\u001b[0m\n\u001b[1;32m     52\u001b[0m \u001b[38;5;28;01mtry\u001b[39;00m:\n\u001b[1;32m     53\u001b[0m   ctx\u001b[38;5;241m.\u001b[39mensure_initialized()\n\u001b[0;32m---> 54\u001b[0m   tensors \u001b[38;5;241m=\u001b[39m \u001b[43mpywrap_tfe\u001b[49m\u001b[38;5;241;43m.\u001b[39;49m\u001b[43mTFE_Py_Execute\u001b[49m\u001b[43m(\u001b[49m\u001b[43mctx\u001b[49m\u001b[38;5;241;43m.\u001b[39;49m\u001b[43m_handle\u001b[49m\u001b[43m,\u001b[49m\u001b[43m \u001b[49m\u001b[43mdevice_name\u001b[49m\u001b[43m,\u001b[49m\u001b[43m \u001b[49m\u001b[43mop_name\u001b[49m\u001b[43m,\u001b[49m\n\u001b[1;32m     55\u001b[0m \u001b[43m                                      \u001b[49m\u001b[43minputs\u001b[49m\u001b[43m,\u001b[49m\u001b[43m \u001b[49m\u001b[43mattrs\u001b[49m\u001b[43m,\u001b[49m\u001b[43m \u001b[49m\u001b[43mnum_outputs\u001b[49m\u001b[43m)\u001b[49m\n\u001b[1;32m     56\u001b[0m \u001b[38;5;28;01mexcept\u001b[39;00m core\u001b[38;5;241m.\u001b[39m_NotOkStatusException \u001b[38;5;28;01mas\u001b[39;00m e:\n\u001b[1;32m     57\u001b[0m   \u001b[38;5;28;01mif\u001b[39;00m name \u001b[38;5;129;01mis\u001b[39;00m \u001b[38;5;129;01mnot\u001b[39;00m \u001b[38;5;28;01mNone\u001b[39;00m:\n",
      "\u001b[0;31mKeyboardInterrupt\u001b[0m: "
     ]
    }
   ],
   "source": [
    "dcgan1.train(1000)"
   ]
  },
  {
   "cell_type": "code",
   "execution_count": null,
   "metadata": {},
   "outputs": [],
   "source": []
  },
  {
   "cell_type": "code",
   "execution_count": null,
   "metadata": {},
   "outputs": [],
   "source": []
  }
 ],
 "metadata": {
  "kernelspec": {
   "display_name": "Python 3 (ipykernel)",
   "language": "python",
   "name": "python3"
  },
  "language_info": {
   "codemirror_mode": {
    "name": "ipython",
    "version": 3
   },
   "file_extension": ".py",
   "mimetype": "text/x-python",
   "name": "python",
   "nbconvert_exporter": "python",
   "pygments_lexer": "ipython3",
   "version": "3.8.13"
  }
 },
 "nbformat": 4,
 "nbformat_minor": 4
}
