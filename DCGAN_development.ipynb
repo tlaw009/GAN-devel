{
 "cells": [
  {
   "cell_type": "markdown",
   "metadata": {},
   "source": [
    "### Dependencies"
   ]
  },
  {
   "cell_type": "code",
   "execution_count": 1,
   "metadata": {
    "scrolled": false
   },
   "outputs": [
    {
     "name": "stdout",
     "output_type": "stream",
     "text": [
      "Requirement already satisfied: matplotlib in /Users/anthonylaw/anaconda3/envs/gan/lib/python3.8/site-packages (3.5.3)\n",
      "Requirement already satisfied: tensorflow in /Users/anthonylaw/anaconda3/envs/gan/lib/python3.8/site-packages (2.9.1)\n",
      "Requirement already satisfied: tensorflow_addons in /Users/anthonylaw/anaconda3/envs/gan/lib/python3.8/site-packages (0.17.1)\n",
      "Requirement already satisfied: tensorflow_datasets in /Users/anthonylaw/anaconda3/envs/gan/lib/python3.8/site-packages (4.6.0)\n",
      "Requirement already satisfied: imageio in /Users/anthonylaw/anaconda3/envs/gan/lib/python3.8/site-packages (2.21.1)\n",
      "Requirement already satisfied: packaging>=20.0 in /Users/anthonylaw/anaconda3/envs/gan/lib/python3.8/site-packages (from matplotlib) (21.3)\n",
      "Requirement already satisfied: python-dateutil>=2.7 in /Users/anthonylaw/anaconda3/envs/gan/lib/python3.8/site-packages (from matplotlib) (2.8.2)\n",
      "Requirement already satisfied: cycler>=0.10 in /Users/anthonylaw/anaconda3/envs/gan/lib/python3.8/site-packages (from matplotlib) (0.11.0)\n",
      "Requirement already satisfied: kiwisolver>=1.0.1 in /Users/anthonylaw/anaconda3/envs/gan/lib/python3.8/site-packages (from matplotlib) (1.4.4)\n",
      "Requirement already satisfied: pillow>=6.2.0 in /Users/anthonylaw/anaconda3/envs/gan/lib/python3.8/site-packages (from matplotlib) (9.2.0)\n",
      "Requirement already satisfied: numpy>=1.17 in /Users/anthonylaw/anaconda3/envs/gan/lib/python3.8/site-packages (from matplotlib) (1.23.2)\n",
      "Requirement already satisfied: pyparsing>=2.2.1 in /Users/anthonylaw/anaconda3/envs/gan/lib/python3.8/site-packages (from matplotlib) (3.0.9)\n",
      "Requirement already satisfied: fonttools>=4.22.0 in /Users/anthonylaw/anaconda3/envs/gan/lib/python3.8/site-packages (from matplotlib) (4.36.0)\n",
      "Requirement already satisfied: h5py>=2.9.0 in /Users/anthonylaw/anaconda3/envs/gan/lib/python3.8/site-packages (from tensorflow) (3.7.0)\n",
      "Requirement already satisfied: setuptools in /Users/anthonylaw/anaconda3/envs/gan/lib/python3.8/site-packages (from tensorflow) (61.2.0)\n",
      "Requirement already satisfied: tensorflow-io-gcs-filesystem>=0.23.1 in /Users/anthonylaw/anaconda3/envs/gan/lib/python3.8/site-packages (from tensorflow) (0.26.0)\n",
      "Requirement already satisfied: flatbuffers<2,>=1.12 in /Users/anthonylaw/anaconda3/envs/gan/lib/python3.8/site-packages (from tensorflow) (1.12)\n",
      "Requirement already satisfied: absl-py>=1.0.0 in /Users/anthonylaw/anaconda3/envs/gan/lib/python3.8/site-packages (from tensorflow) (1.2.0)\n",
      "Requirement already satisfied: keras-preprocessing>=1.1.1 in /Users/anthonylaw/anaconda3/envs/gan/lib/python3.8/site-packages (from tensorflow) (1.1.2)\n",
      "Requirement already satisfied: libclang>=13.0.0 in /Users/anthonylaw/anaconda3/envs/gan/lib/python3.8/site-packages (from tensorflow) (14.0.6)\n",
      "Requirement already satisfied: termcolor>=1.1.0 in /Users/anthonylaw/anaconda3/envs/gan/lib/python3.8/site-packages (from tensorflow) (1.1.0)\n",
      "Requirement already satisfied: grpcio<2.0,>=1.24.3 in /Users/anthonylaw/anaconda3/envs/gan/lib/python3.8/site-packages (from tensorflow) (1.47.0)\n",
      "Requirement already satisfied: tensorboard<2.10,>=2.9 in /Users/anthonylaw/anaconda3/envs/gan/lib/python3.8/site-packages (from tensorflow) (2.9.1)\n",
      "Requirement already satisfied: gast<=0.4.0,>=0.2.1 in /Users/anthonylaw/anaconda3/envs/gan/lib/python3.8/site-packages (from tensorflow) (0.4.0)\n",
      "Requirement already satisfied: typing-extensions>=3.6.6 in /Users/anthonylaw/anaconda3/envs/gan/lib/python3.8/site-packages (from tensorflow) (4.3.0)\n",
      "Requirement already satisfied: google-pasta>=0.1.1 in /Users/anthonylaw/anaconda3/envs/gan/lib/python3.8/site-packages (from tensorflow) (0.2.0)\n",
      "Requirement already satisfied: wrapt>=1.11.0 in /Users/anthonylaw/anaconda3/envs/gan/lib/python3.8/site-packages (from tensorflow) (1.14.1)\n",
      "Requirement already satisfied: tensorflow-estimator<2.10.0,>=2.9.0rc0 in /Users/anthonylaw/anaconda3/envs/gan/lib/python3.8/site-packages (from tensorflow) (2.9.0)\n",
      "Requirement already satisfied: keras<2.10.0,>=2.9.0rc0 in /Users/anthonylaw/anaconda3/envs/gan/lib/python3.8/site-packages (from tensorflow) (2.9.0)\n",
      "Requirement already satisfied: astunparse>=1.6.0 in /Users/anthonylaw/anaconda3/envs/gan/lib/python3.8/site-packages (from tensorflow) (1.6.3)\n",
      "Requirement already satisfied: six>=1.12.0 in /Users/anthonylaw/anaconda3/envs/gan/lib/python3.8/site-packages (from tensorflow) (1.16.0)\n",
      "Requirement already satisfied: protobuf<3.20,>=3.9.2 in /Users/anthonylaw/anaconda3/envs/gan/lib/python3.8/site-packages (from tensorflow) (3.19.4)\n",
      "Requirement already satisfied: opt-einsum>=2.3.2 in /Users/anthonylaw/anaconda3/envs/gan/lib/python3.8/site-packages (from tensorflow) (3.3.0)\n",
      "Requirement already satisfied: typeguard>=2.7 in /Users/anthonylaw/anaconda3/envs/gan/lib/python3.8/site-packages (from tensorflow_addons) (2.13.3)\n",
      "Requirement already satisfied: requests>=2.19.0 in /Users/anthonylaw/anaconda3/envs/gan/lib/python3.8/site-packages (from tensorflow_datasets) (2.28.1)\n",
      "Requirement already satisfied: toml in /Users/anthonylaw/anaconda3/envs/gan/lib/python3.8/site-packages (from tensorflow_datasets) (0.10.2)\n",
      "Requirement already satisfied: etils[epath] in /Users/anthonylaw/anaconda3/envs/gan/lib/python3.8/site-packages (from tensorflow_datasets) (0.7.1)\n",
      "Requirement already satisfied: tensorflow-metadata in /Users/anthonylaw/anaconda3/envs/gan/lib/python3.8/site-packages (from tensorflow_datasets) (1.9.0)\n",
      "Requirement already satisfied: promise in /Users/anthonylaw/anaconda3/envs/gan/lib/python3.8/site-packages (from tensorflow_datasets) (2.3)\n",
      "Requirement already satisfied: importlib-resources in /Users/anthonylaw/anaconda3/envs/gan/lib/python3.8/site-packages (from tensorflow_datasets) (5.9.0)\n",
      "Requirement already satisfied: tqdm in /Users/anthonylaw/anaconda3/envs/gan/lib/python3.8/site-packages (from tensorflow_datasets) (4.64.0)\n",
      "Requirement already satisfied: dill in /Users/anthonylaw/anaconda3/envs/gan/lib/python3.8/site-packages (from tensorflow_datasets) (0.3.5.1)\n",
      "Requirement already satisfied: wheel<1.0,>=0.23.0 in /Users/anthonylaw/anaconda3/envs/gan/lib/python3.8/site-packages (from astunparse>=1.6.0->tensorflow) (0.37.1)\n",
      "Requirement already satisfied: urllib3<1.27,>=1.21.1 in /Users/anthonylaw/anaconda3/envs/gan/lib/python3.8/site-packages (from requests>=2.19.0->tensorflow_datasets) (1.26.11)\n",
      "Requirement already satisfied: idna<4,>=2.5 in /Users/anthonylaw/anaconda3/envs/gan/lib/python3.8/site-packages (from requests>=2.19.0->tensorflow_datasets) (3.3)\n",
      "Requirement already satisfied: charset-normalizer<3,>=2 in /Users/anthonylaw/anaconda3/envs/gan/lib/python3.8/site-packages (from requests>=2.19.0->tensorflow_datasets) (2.1.1)\n",
      "Requirement already satisfied: certifi>=2017.4.17 in /Users/anthonylaw/anaconda3/envs/gan/lib/python3.8/site-packages (from requests>=2.19.0->tensorflow_datasets) (2022.6.15)\n",
      "Requirement already satisfied: tensorboard-data-server<0.7.0,>=0.6.0 in /Users/anthonylaw/anaconda3/envs/gan/lib/python3.8/site-packages (from tensorboard<2.10,>=2.9->tensorflow) (0.6.1)\n",
      "Requirement already satisfied: werkzeug>=1.0.1 in /Users/anthonylaw/anaconda3/envs/gan/lib/python3.8/site-packages (from tensorboard<2.10,>=2.9->tensorflow) (2.2.2)\n",
      "Requirement already satisfied: google-auth-oauthlib<0.5,>=0.4.1 in /Users/anthonylaw/anaconda3/envs/gan/lib/python3.8/site-packages (from tensorboard<2.10,>=2.9->tensorflow) (0.4.6)\n",
      "Requirement already satisfied: google-auth<3,>=1.6.3 in /Users/anthonylaw/anaconda3/envs/gan/lib/python3.8/site-packages (from tensorboard<2.10,>=2.9->tensorflow) (2.11.0)\n",
      "Requirement already satisfied: markdown>=2.6.8 in /Users/anthonylaw/anaconda3/envs/gan/lib/python3.8/site-packages (from tensorboard<2.10,>=2.9->tensorflow) (3.4.1)\n",
      "Requirement already satisfied: tensorboard-plugin-wit>=1.6.0 in /Users/anthonylaw/anaconda3/envs/gan/lib/python3.8/site-packages (from tensorboard<2.10,>=2.9->tensorflow) (1.8.1)\n",
      "Requirement already satisfied: zipp in /Users/anthonylaw/anaconda3/envs/gan/lib/python3.8/site-packages (from etils[epath]->tensorflow_datasets) (3.8.1)\n",
      "Requirement already satisfied: googleapis-common-protos<2,>=1.52.0 in /Users/anthonylaw/anaconda3/envs/gan/lib/python3.8/site-packages (from tensorflow-metadata->tensorflow_datasets) (1.56.4)\n"
     ]
    },
    {
     "name": "stdout",
     "output_type": "stream",
     "text": [
      "Requirement already satisfied: pyasn1-modules>=0.2.1 in /Users/anthonylaw/anaconda3/envs/gan/lib/python3.8/site-packages (from google-auth<3,>=1.6.3->tensorboard<2.10,>=2.9->tensorflow) (0.2.8)\n",
      "Requirement already satisfied: rsa<5,>=3.1.4 in /Users/anthonylaw/anaconda3/envs/gan/lib/python3.8/site-packages (from google-auth<3,>=1.6.3->tensorboard<2.10,>=2.9->tensorflow) (4.9)\n",
      "Requirement already satisfied: cachetools<6.0,>=2.0.0 in /Users/anthonylaw/anaconda3/envs/gan/lib/python3.8/site-packages (from google-auth<3,>=1.6.3->tensorboard<2.10,>=2.9->tensorflow) (5.2.0)\n",
      "Requirement already satisfied: requests-oauthlib>=0.7.0 in /Users/anthonylaw/anaconda3/envs/gan/lib/python3.8/site-packages (from google-auth-oauthlib<0.5,>=0.4.1->tensorboard<2.10,>=2.9->tensorflow) (1.3.1)\n",
      "Requirement already satisfied: importlib-metadata>=4.4 in /Users/anthonylaw/anaconda3/envs/gan/lib/python3.8/site-packages (from markdown>=2.6.8->tensorboard<2.10,>=2.9->tensorflow) (4.12.0)\n",
      "Requirement already satisfied: MarkupSafe>=2.1.1 in /Users/anthonylaw/anaconda3/envs/gan/lib/python3.8/site-packages (from werkzeug>=1.0.1->tensorboard<2.10,>=2.9->tensorflow) (2.1.1)\n",
      "Requirement already satisfied: pyasn1<0.5.0,>=0.4.6 in /Users/anthonylaw/anaconda3/envs/gan/lib/python3.8/site-packages (from pyasn1-modules>=0.2.1->google-auth<3,>=1.6.3->tensorboard<2.10,>=2.9->tensorflow) (0.4.8)\n",
      "Requirement already satisfied: oauthlib>=3.0.0 in /Users/anthonylaw/anaconda3/envs/gan/lib/python3.8/site-packages (from requests-oauthlib>=0.7.0->google-auth-oauthlib<0.5,>=0.4.1->tensorboard<2.10,>=2.9->tensorflow) (3.2.0)\n"
     ]
    }
   ],
   "source": [
    "!pip install matplotlib tensorflow tensorflow_addons tensorflow_datasets imageio"
   ]
  },
  {
   "cell_type": "markdown",
   "metadata": {},
   "source": [
    "### Setup"
   ]
  },
  {
   "cell_type": "code",
   "execution_count": 2,
   "metadata": {},
   "outputs": [],
   "source": [
    "import glob\n",
    "import imageio\n",
    "import matplotlib.pyplot as plt\n",
    "import numpy as np\n",
    "import os\n",
    "import PIL\n",
    "from tensorflow.keras import layers\n",
    "import time\n",
    "from tensorflow.keras import Model\n",
    "import tensorflow as tf\n",
    "\n",
    "from IPython import display"
   ]
  },
  {
   "cell_type": "markdown",
   "metadata": {},
   "source": [
    "### Dataset"
   ]
  },
  {
   "cell_type": "code",
   "execution_count": 4,
   "metadata": {},
   "outputs": [
    {
     "name": "stdout",
     "output_type": "stream",
     "text": [
      "Found 60000 files belonging to 10 classes.\n"
     ]
    },
    {
     "name": "stderr",
     "output_type": "stream",
     "text": [
      "2022-09-01 11:21:53.160388: I tensorflow/core/platform/cpu_feature_guard.cc:193] This TensorFlow binary is optimized with oneAPI Deep Neural Network Library (oneDNN) to use the following CPU instructions in performance-critical operations:  AVX2 FMA\n",
      "To enable them in other operations, rebuild TensorFlow with the appropriate compiler flags.\n"
     ]
    }
   ],
   "source": [
    "train_ds = tf.keras.utils.image_dataset_from_directory(\n",
    "#   \"/home/tony/TO_BE_REMOVED/celeba_data/imgs/\",\n",
    "  \"/Users/anthonylaw/Desktop/Endless/GAN-devel/mnist_ds/mnist_jpg/training\",\n",
    "  seed=123,\n",
    "  image_size=(32, 32),\n",
    "  batch_size=16)"
   ]
  },
  {
   "cell_type": "code",
   "execution_count": 5,
   "metadata": {
    "scrolled": false
   },
   "outputs": [],
   "source": [
    "# for i_b, l_b in train_ds:\n",
    "#     print(i_b.shape)\n",
    "#     print(tf.image.rgb_to_grayscale(i_b).shape)"
   ]
  },
  {
   "cell_type": "markdown",
   "metadata": {},
   "source": [
    "#### Note: "
   ]
  },
  {
   "cell_type": "markdown",
   "metadata": {},
   "source": [
    "Images should be normalized to [-1,1] ***(Done in Arch)***"
   ]
  },
  {
   "cell_type": "markdown",
   "metadata": {},
   "source": [
    "### Generator network"
   ]
  },
  {
   "cell_type": "markdown",
   "metadata": {},
   "source": [
    "#### Note:"
   ]
  },
  {
   "cell_type": "markdown",
   "metadata": {},
   "source": [
    "Modify the network size for deployment"
   ]
  },
  {
   "cell_type": "code",
   "execution_count": 21,
   "metadata": {},
   "outputs": [],
   "source": [
    "class Generator(Model):\n",
    "\n",
    "    def __init__(self, noise_dim, image_shape, num_channel):\n",
    "        super().__init__()\n",
    "        \n",
    "        assert len(image_shape) == 2\n",
    "        assert image_shape[0]%8 == 0\n",
    "        assert image_shape[1]%8 == 0\n",
    "        \n",
    "        self.noise_dim = noise_dim\n",
    "        self.image_shape = image_shape\n",
    "        self.num_channel = num_channel\n",
    "        self.kernel_size = int(min(max(min(image_shape[0]/8.0-3.0, image_shape[1]/8.0-3.0), 3.0), 5.0))\n",
    "\n",
    "        self.lr_d = layers.ReLU()\n",
    "        self.lr_c1 = layers.ReLU()\n",
    "        self.lr_c2 = layers.ReLU()\n",
    "        self.lr_c3 = layers.ReLU()\n",
    "        \n",
    "        self.init_dense = layers.Dense(image_shape[0]/8.0*image_shape[1]/8.0*64,\n",
    "                               use_bias=False, input_shape=(self.noise_dim,))\n",
    "        \n",
    "        self.init_reshape = layers.Reshape((int(image_shape[0]/8.0), int(image_shape[1]/8.0), 64))\n",
    "        \n",
    "        self.conv2dT1 = layers.Conv2DTranspose(64, (self.kernel_size, self.kernel_size),\n",
    "                                               strides=(1, 1), padding='same')\n",
    "        self.conv2dT2 = layers.Conv2DTranspose(32, (self.kernel_size, self.kernel_size),\n",
    "                                               strides=(2, 2), padding='same')\n",
    "        self.conv2dT3 = layers.Conv2DTranspose(16, (self.kernel_size, self.kernel_size),\n",
    "                                               strides=(2, 2), padding='same')\n",
    "        self.conv2dTactv = layers.Conv2DTranspose(self.num_channel, (self.kernel_size, self.kernel_size),\n",
    "                                               strides=(2, 2), padding='same', activation='tanh')\n",
    "\n",
    "    def call(self, noise_vec):\n",
    "\n",
    "        init_vec = tf.squeeze(self.lr_d(self.init_dense(noise_vec)))\n",
    "        \n",
    "#         print(init_vec.shape)\n",
    "        \n",
    "        reshaped = self.init_reshape(init_vec)\n",
    "        \n",
    "#         print(reshaped.shape)\n",
    "        \n",
    "        convt1 = self.lr_c1(self.conv2dT1(reshaped))\n",
    "\n",
    "#         print(convt1.shape)\n",
    "        \n",
    "        convt2 = self.lr_c2(self.conv2dT2(convt1))\n",
    "        \n",
    "#         print(convt2.shape)\n",
    "                         \n",
    "        convt3 = self.lr_c3(self.conv2dT3(convt2))\n",
    "        \n",
    "#         print(convt3.shape)\n",
    "            \n",
    "        out = self.conv2dTactv(convt3)\n",
    "        \n",
    "#         print(out.shape)\n",
    "\n",
    "        return out"
   ]
  },
  {
   "cell_type": "markdown",
   "metadata": {},
   "source": [
    "#### Testing"
   ]
  },
  {
   "cell_type": "code",
   "execution_count": 22,
   "metadata": {},
   "outputs": [],
   "source": [
    "g1 = Generator(10, (32, 32), 3)"
   ]
  },
  {
   "cell_type": "code",
   "execution_count": 23,
   "metadata": {},
   "outputs": [
    {
     "data": {
      "text/plain": [
       "3"
      ]
     },
     "execution_count": 23,
     "metadata": {},
     "output_type": "execute_result"
    }
   ],
   "source": [
    "g1.kernel_size"
   ]
  },
  {
   "cell_type": "code",
   "execution_count": 24,
   "metadata": {},
   "outputs": [
    {
     "name": "stdout",
     "output_type": "stream",
     "text": [
      "(5, 10)\n",
      "(5, 32, 32, 3)\n"
     ]
    }
   ],
   "source": [
    "noise_input = tf.random.normal((5, 10))\n",
    "print(noise_input.shape)\n",
    "pics1 = g1(tf.expand_dims(noise_input, 0))\n",
    "print(pics1.shape)\n",
    "# plt.imshow(pics1[-1, :, :, :], cmap='gray')"
   ]
  },
  {
   "cell_type": "code",
   "execution_count": 25,
   "metadata": {},
   "outputs": [
    {
     "name": "stdout",
     "output_type": "stream",
     "text": [
      "Model: \"generator_3\"\n",
      "_________________________________________________________________\n",
      " Layer (type)                Output Shape              Param #   \n",
      "=================================================================\n",
      " re_lu_12 (ReLU)             multiple                  0         \n",
      "                                                                 \n",
      " re_lu_13 (ReLU)             multiple                  0         \n",
      "                                                                 \n",
      " re_lu_14 (ReLU)             multiple                  0         \n",
      "                                                                 \n",
      " re_lu_15 (ReLU)             multiple                  0         \n",
      "                                                                 \n",
      " dense_5 (Dense)             multiple                  10240     \n",
      "                                                                 \n",
      " reshape_3 (Reshape)         multiple                  0         \n",
      "                                                                 \n",
      " conv2d_transpose_12 (Conv2D  multiple                 36928     \n",
      " Transpose)                                                      \n",
      "                                                                 \n",
      " conv2d_transpose_13 (Conv2D  multiple                 18464     \n",
      " Transpose)                                                      \n",
      "                                                                 \n",
      " conv2d_transpose_14 (Conv2D  multiple                 4624      \n",
      " Transpose)                                                      \n",
      "                                                                 \n",
      " conv2d_transpose_15 (Conv2D  multiple                 435       \n",
      " Transpose)                                                      \n",
      "                                                                 \n",
      "=================================================================\n",
      "Total params: 70,691\n",
      "Trainable params: 70,691\n",
      "Non-trainable params: 0\n",
      "_________________________________________________________________\n"
     ]
    }
   ],
   "source": [
    "g1.summary()"
   ]
  },
  {
   "cell_type": "markdown",
   "metadata": {},
   "source": [
    "### Discriminator"
   ]
  },
  {
   "cell_type": "code",
   "execution_count": 26,
   "metadata": {},
   "outputs": [],
   "source": [
    "class Discriminator(Model):\n",
    "\n",
    "    def __init__(self, image_shape, num_channel):\n",
    "        super().__init__()\n",
    "        \n",
    "        assert len(image_shape) == 2\n",
    "        assert image_shape[0]%8 == 0\n",
    "        assert image_shape[1]%8 == 0\n",
    "        \n",
    "        self.image_shape = image_shape\n",
    "        self.num_channel = num_channel\n",
    "        self.kernel_size = int(min(max(min(image_shape[0]/8.0-3.0, image_shape[1]/8.0-3.0), 3.0), 5.0))\n",
    "\n",
    "        self.lr_c1 = layers.LeakyReLU()\n",
    "        self.lr_c2 = layers.LeakyReLU()\n",
    "        self.lr_c3 = layers.LeakyReLU()\n",
    "        self.flatten = layers.Flatten()\n",
    "        \n",
    "        self.conv2d1 = layers.Conv2D(16, (self.kernel_size, self.kernel_size),\n",
    "                                        strides=(2, 2), padding='same',\n",
    "                                        input_shape=(None, self.image_shape[0],\n",
    "                                        self.image_shape[1], self.num_channel))\n",
    "        self.conv2d2 = layers.Conv2D(32, (self.kernel_size, self.kernel_size),\n",
    "                                               strides=(2, 2), padding='same')\n",
    "        self.conv2d3 = layers.Conv2D(64, (self.kernel_size, self.kernel_size),\n",
    "                                               strides=(2, 2), padding='same')\n",
    "        self.dense_actv = layers.Dense(64,\n",
    "                                      )\n",
    "#                                        activation=\"sigmoid\")\n",
    "        \n",
    "    def call(self, img_input):\n",
    "        \n",
    "        conv1 = self.lr_c1(self.conv2d1(img_input))\n",
    "        \n",
    "#         print(conv1.shape)\n",
    "        \n",
    "        conv2 = self.lr_c2(self.conv2d2(conv1))\n",
    "        \n",
    "#         print(conv2.shape)\n",
    "                         \n",
    "        conv3 = self.lr_c3(self.conv2d3(conv2))\n",
    "        \n",
    "#         print(conv3.shape)\n",
    "        \n",
    "        flat = self.flatten(conv3)\n",
    "        \n",
    "#         print(flat.shape)\n",
    "        \n",
    "        out = tf.squeeze(self.dense_actv(flat))\n",
    "        \n",
    "#         print(out.shape)\n",
    "\n",
    "        return out"
   ]
  },
  {
   "cell_type": "markdown",
   "metadata": {},
   "source": [
    "#### Testing"
   ]
  },
  {
   "cell_type": "code",
   "execution_count": 27,
   "metadata": {},
   "outputs": [
    {
     "data": {
      "text/plain": [
       "3"
      ]
     },
     "execution_count": 27,
     "metadata": {},
     "output_type": "execute_result"
    }
   ],
   "source": [
    "d1 = Discriminator((32,32), 3)\n",
    "g2 = Generator(10, (32,32), 3)\n",
    "d1.kernel_size"
   ]
  },
  {
   "cell_type": "code",
   "execution_count": 28,
   "metadata": {},
   "outputs": [
    {
     "name": "stdout",
     "output_type": "stream",
     "text": [
      "(5, 32, 32, 3)\n"
     ]
    }
   ],
   "source": [
    "noise_input = tf.random.normal((5, 10))\n",
    "pics2 = g1(tf.expand_dims(noise_input, 0))\n",
    "# plt.imshow(pics2[-1, :, :, 0], cmap='gray')\n",
    "print(pics2.shape)"
   ]
  },
  {
   "cell_type": "code",
   "execution_count": 29,
   "metadata": {
    "scrolled": false
   },
   "outputs": [
    {
     "data": {
      "text/plain": [
       "<tf.Tensor: shape=(5, 64), dtype=float32, numpy=\n",
       "array([[ 4.6570913e-04, -3.7977495e-04,  6.4406497e-04, -1.7448349e-04,\n",
       "        -1.2984733e-03,  1.0737083e-03,  1.8655992e-03, -1.4300996e-03,\n",
       "         1.4047219e-03, -6.3897215e-04, -2.2435079e-03,  7.2772673e-07,\n",
       "        -1.7182576e-03,  7.7286165e-04,  5.1403284e-04,  1.7375278e-04,\n",
       "        -2.8508069e-04,  3.9117064e-04, -7.2702736e-04, -3.4242187e-04,\n",
       "         7.6254056e-04, -2.4159767e-03,  6.8850443e-04, -7.2973687e-04,\n",
       "         1.8123839e-03,  5.8362260e-04,  9.9376997e-04,  7.2571693e-04,\n",
       "        -3.8233091e-04, -1.5903246e-03,  2.2297180e-03, -1.7364428e-03,\n",
       "         6.5300090e-05, -1.0395742e-03,  1.4088976e-03, -3.1928491e-04,\n",
       "        -4.9555319e-04,  2.7451006e-04,  1.2493773e-03, -2.7307961e-04,\n",
       "        -7.4445340e-04,  1.6105545e-03,  1.9071408e-03, -1.1294180e-03,\n",
       "         2.8986135e-05, -8.7318505e-04,  6.5147702e-04, -1.8481551e-03,\n",
       "         4.0072046e-05,  1.2583821e-03,  8.4284623e-04,  5.6105398e-04,\n",
       "         1.0716710e-03,  1.1739581e-03,  1.4489105e-03,  1.1460140e-03,\n",
       "         8.6001010e-04,  1.2738755e-03, -2.2106362e-03,  2.2666340e-05,\n",
       "         1.3471639e-05,  1.2735883e-03,  1.6078405e-04, -5.1505014e-04],\n",
       "       [ 5.6077796e-04, -3.9458927e-04,  4.8374152e-04, -1.8109623e-04,\n",
       "        -5.8931188e-04,  8.3616975e-04,  1.0581283e-03, -1.9348779e-04,\n",
       "        -6.3801072e-06,  3.2868807e-04, -6.6970062e-04,  5.3990370e-05,\n",
       "        -3.5330051e-04, -6.3782278e-04,  1.2576694e-04,  3.4660246e-04,\n",
       "         3.7542163e-04, -1.9916166e-05, -5.9403066e-04,  8.8569977e-05,\n",
       "        -4.5221412e-04, -1.1170122e-03, -1.9424097e-04, -4.4366359e-04,\n",
       "         1.2811276e-03,  3.6464608e-04,  2.3397870e-04, -8.4565632e-05,\n",
       "         3.7871802e-04, -1.1082920e-03, -1.7137500e-04, -7.4284460e-04,\n",
       "        -1.1710327e-03, -7.0336048e-04,  8.7206531e-04,  5.8942777e-04,\n",
       "        -6.5920386e-04, -4.0906976e-04, -7.2229617e-05, -8.5079798e-04,\n",
       "         8.8381418e-04, -2.9837254e-05,  8.8659156e-04, -3.5171286e-04,\n",
       "        -1.3895603e-04,  1.6706195e-04,  1.0308190e-04, -1.2841980e-03,\n",
       "        -2.3913942e-04, -3.8361974e-04,  6.1680470e-04,  8.2516018e-04,\n",
       "        -3.1252101e-04, -3.3394093e-04,  1.1491871e-03, -2.1869055e-04,\n",
       "         2.2458896e-04,  2.5121713e-04, -7.2617113e-04,  6.2551117e-04,\n",
       "        -3.9573121e-04,  1.3241762e-03, -1.5080848e-05, -1.3583203e-04],\n",
       "       [-1.3253366e-04, -9.2892640e-04, -4.2511147e-04,  1.0828639e-03,\n",
       "        -1.3082731e-03,  1.0268998e-03,  8.3971134e-04, -4.5915082e-04,\n",
       "        -2.7618362e-04,  6.6013623e-04, -1.6756672e-03,  2.8431218e-04,\n",
       "        -1.0845501e-03, -6.0649775e-04,  4.4764741e-04,  5.6656601e-04,\n",
       "        -4.8505582e-04, -1.1760416e-03, -1.0380571e-03,  3.9756365e-04,\n",
       "         8.2679058e-04, -3.8671670e-03,  5.2581955e-04, -1.0326540e-03,\n",
       "         1.4804902e-03,  1.2954349e-03,  2.0574948e-03,  8.9273020e-04,\n",
       "        -9.3396913e-05, -1.2974553e-03,  5.3953828e-04, -2.1227903e-03,\n",
       "        -3.0669497e-04, -2.0957645e-03,  2.6140348e-03,  1.5225427e-03,\n",
       "        -1.2302841e-03,  4.8450966e-04,  9.8851928e-04, -9.7659207e-04,\n",
       "        -5.7198631e-06,  1.8425044e-03,  8.4273238e-04, -1.9861539e-04,\n",
       "         1.5453482e-03,  1.3007066e-04, -5.9654505e-04, -1.3752817e-03,\n",
       "        -9.7746076e-04,  9.0041687e-04,  7.4976240e-05,  3.3388806e-03,\n",
       "         5.5923796e-05,  1.3959578e-03,  1.5645440e-03,  2.8076576e-04,\n",
       "         9.4721618e-04,  1.1187122e-03, -2.3873681e-03,  3.4307106e-04,\n",
       "         6.4227590e-04,  1.2420635e-03, -2.8479163e-04, -1.0957369e-03],\n",
       "       [-6.3546712e-04, -3.9967921e-04,  5.5315392e-04, -1.0247132e-03,\n",
       "        -1.9608408e-03,  4.5256887e-04,  1.1872689e-03, -1.5764436e-03,\n",
       "         2.8445883e-04, -8.3375099e-04, -1.6466496e-03,  3.6471349e-04,\n",
       "        -3.6831212e-04, -3.1237584e-04,  1.0825135e-03,  2.4687918e-04,\n",
       "         2.9379170e-04, -1.9670022e-04, -9.2851801e-04, -6.7486975e-04,\n",
       "         4.7986011e-04, -1.2572142e-03,  3.6352114e-05, -1.0004466e-03,\n",
       "         3.3650370e-03,  9.6001488e-04,  3.2821603e-04,  6.7200052e-04,\n",
       "         1.2969145e-03, -1.3227740e-03,  7.4614247e-04, -1.1796919e-03,\n",
       "        -6.9953600e-04, -1.4254823e-03,  2.4481737e-03,  1.6665754e-03,\n",
       "        -1.0462456e-03,  1.6151709e-03,  1.7615128e-04, -1.6350312e-03,\n",
       "         8.9776574e-04,  1.2271451e-03,  8.7113975e-04, -7.2239310e-04,\n",
       "        -5.9864641e-04,  2.4008672e-03, -2.4136549e-03, -1.4922110e-03,\n",
       "         6.7766418e-04, -5.6535075e-04,  1.6041459e-03,  1.3093839e-03,\n",
       "        -6.8627816e-04,  1.3829763e-03,  2.3246955e-03,  2.1384466e-03,\n",
       "         2.1483775e-03,  1.4810304e-03, -1.8655505e-03,  5.5696483e-04,\n",
       "        -6.5982103e-04,  1.2023123e-03, -9.4361976e-04, -3.0283519e-04],\n",
       "       [ 1.1511929e-03, -5.6677230e-04, -1.8575203e-04, -5.1446853e-04,\n",
       "        -2.9702293e-04,  1.1158613e-03,  1.5543668e-03, -1.5548141e-03,\n",
       "         6.7386811e-04, -3.8180477e-04, -3.1161597e-03, -8.2828931e-04,\n",
       "         3.9665989e-04, -1.3820780e-03,  1.0020175e-03,  2.7471146e-04,\n",
       "         1.2175718e-03,  3.0779105e-04, -6.2327203e-04, -1.2367005e-03,\n",
       "         1.1356426e-03, -2.1777921e-03,  4.6327367e-04, -6.1727490e-04,\n",
       "         2.4239442e-03,  8.8079600e-04,  5.8356626e-04,  1.1094084e-03,\n",
       "         3.8848910e-04, -1.1251338e-03,  2.1280823e-03, -1.9395202e-03,\n",
       "         4.4592406e-04, -1.9230761e-03,  1.3888821e-03,  1.7421003e-03,\n",
       "        -2.6731179e-04,  5.7712040e-04,  4.7606791e-04, -1.0047317e-03,\n",
       "         1.3741662e-03,  1.3644036e-03,  2.4675983e-03, -2.8426254e-03,\n",
       "        -3.9073545e-04,  1.8151535e-04, -8.0450729e-04, -1.0310812e-03,\n",
       "         7.4145256e-04,  7.4242125e-04, -2.2564275e-04,  1.0975050e-03,\n",
       "        -5.4622913e-05,  1.2682270e-03,  1.2340207e-03,  6.1252672e-04,\n",
       "         8.5550715e-04,  1.4240397e-03, -3.1282729e-03,  1.3710745e-03,\n",
       "        -1.1421861e-03,  2.2959767e-03, -1.1797796e-03, -1.8925832e-03]],\n",
       "      dtype=float32)>"
      ]
     },
     "execution_count": 29,
     "metadata": {},
     "output_type": "execute_result"
    }
   ],
   "source": [
    "deci = d1(pics2)\n",
    "deci"
   ]
  },
  {
   "cell_type": "code",
   "execution_count": 30,
   "metadata": {},
   "outputs": [
    {
     "name": "stdout",
     "output_type": "stream",
     "text": [
      "Model: \"discriminator_2\"\n",
      "_________________________________________________________________\n",
      " Layer (type)                Output Shape              Param #   \n",
      "=================================================================\n",
      " leaky_re_lu_6 (LeakyReLU)   multiple                  0         \n",
      "                                                                 \n",
      " leaky_re_lu_7 (LeakyReLU)   multiple                  0         \n",
      "                                                                 \n",
      " leaky_re_lu_8 (LeakyReLU)   multiple                  0         \n",
      "                                                                 \n",
      " flatten_2 (Flatten)         multiple                  0         \n",
      "                                                                 \n",
      " conv2d_6 (Conv2D)           multiple                  448       \n",
      "                                                                 \n",
      " conv2d_7 (Conv2D)           multiple                  4640      \n",
      "                                                                 \n",
      " conv2d_8 (Conv2D)           multiple                  18496     \n",
      "                                                                 \n",
      " dense_6 (Dense)             multiple                  65600     \n",
      "                                                                 \n",
      "=================================================================\n",
      "Total params: 89,184\n",
      "Trainable params: 89,184\n",
      "Non-trainable params: 0\n",
      "_________________________________________________________________\n"
     ]
    }
   ],
   "source": [
    "d1.summary()"
   ]
  },
  {
   "cell_type": "markdown",
   "metadata": {},
   "source": [
    "### CramerDCGAN"
   ]
  },
  {
   "cell_type": "code",
   "execution_count": 46,
   "metadata": {},
   "outputs": [],
   "source": [
    "EPSILON = 1e-16\n",
    "\n",
    "class DCGAN:\n",
    "    \n",
    "    def __init__(self, dataset_path, image_shape, num_channel, noise_latent_dim, disc_update_multi=5, \n",
    "                 batch_size=128, lr=3e-4, gp_lam = 10.0):\n",
    "        assert len(image_shape) == 2\n",
    "        assert image_shape[0]%8 == 0\n",
    "        assert image_shape[1]%8 == 0\n",
    "        \n",
    "        self.image_shape = image_shape\n",
    "        self.num_channel = num_channel\n",
    "        self.noise_latent_dim = noise_latent_dim\n",
    "        self.batch_size, self.gp_lam = batch_size, gp_lam\n",
    "        self.disc_update_multi = disc_update_multi\n",
    "        self.num_img_prog_monit = 16\n",
    "        \n",
    "        if not dataset_path==None:\n",
    "            self.dataset = tf.keras.utils.image_dataset_from_directory(\n",
    "                                  dataset_path,\n",
    "                                  seed=123,\n",
    "                                  image_size=self.image_shape,\n",
    "                                  batch_size=self.batch_size)\n",
    "        else:\n",
    "            print(\"WARNING: Dataset not loaded, Model in Generator mode\")\n",
    "        # NOTE: Dataset must be processed differently for different source and applications\n",
    "        \n",
    "        self.g = Generator(self.noise_latent_dim, self.image_shape, self.num_channel)\n",
    "        self.d = Discriminator(self.image_shape, self.num_channel)\n",
    "        \n",
    "        self.g_opt = tf.keras.optimizers.Adam(lr)\n",
    "        self.d_opt = tf.keras.optimizers.Adam(lr)\n",
    "        \n",
    "        self.g_seed = tf.random.normal((self.num_img_prog_monit, self.noise_latent_dim))\n",
    "\n",
    "    def cramer_loss(self, d_x_data, d_g_z_1, d_g_z_2, x_it, update_gen=True):\n",
    "        \n",
    "        crit_r = tf.math.add(tf.math.sqrt(tf.reduce_sum(tf.math.add(d_x_data, -d_g_z_2)**2, axis = 1)+EPSILON),\n",
    "                   -tf.math.sqrt(tf.reduce_sum(d_x_data**2, axis = 1)+EPSILON))\n",
    "        crit_g_1 = tf.math.add(tf.math.sqrt(tf.reduce_sum(tf.math.add(d_g_z_1, -d_g_z_2)**2, axis = 1)+EPSILON),\n",
    "                   -tf.math.sqrt(tf.reduce_sum(d_g_z_1**2, axis = 1)+EPSILON))\n",
    "        \n",
    "        L_srg = tf.math.add(crit_r, -crit_g_1)\n",
    "        \n",
    "        with tf.GradientTape() as t_gp:\n",
    "            t_gp.watch(x_it)\n",
    "            d_it = self.d(x_it)\n",
    "            crit_it = tf.math.add(tf.math.sqrt(tf.reduce_sum(tf.math.add(d_it, -d_g_z_2)**2, axis = 1)+EPSILON),\n",
    "                   -tf.math.sqrt(tf.reduce_sum(d_it**2, axis = 1)+EPSILON))\n",
    "            \n",
    "        gp_grad = t_gp.gradient(crit_it, x_it)\n",
    "        l2n_gp = tf.math.sqrt(tf.reduce_sum(gp_grad**2, axis = [1,2,3])+EPSILON)\n",
    "        \n",
    "        # d_loss\n",
    "        L_d = tf.reduce_mean(-L_srg + (self.gp_lam*((l2n_gp-1.0)**2)))\n",
    "\n",
    "        if update_gen:\n",
    "            l2nrg1 = tf.math.sqrt(tf.reduce_sum(tf.math.add(d_x_data, -d_g_z_1)**2, axis = 1)+EPSILON)\n",
    "            l2nrg2 = tf.math.sqrt(tf.reduce_sum(tf.math.add(d_x_data, -d_g_z_2)**2, axis = 1)+EPSILON)\n",
    "            l2ng12 = tf.math.sqrt(tf.reduce_sum(tf.math.add(d_g_z_1, -d_g_z_2)**2, axis = 1)+EPSILON)\n",
    "\n",
    "            # g_loss\n",
    "            L_g = tf.reduce_mean(l2nrg1 + l2nrg2 - l2ng12)\n",
    "        else:\n",
    "            L_g = None\n",
    "\n",
    "        return L_g, L_d\n",
    "        \n",
    "    \n",
    "    @tf.function\n",
    "    def update(self, imgs, update_gen=True):\n",
    "        noise_input1 = tf.random.normal((imgs.shape[0], self.noise_latent_dim))\n",
    "        noise_input2 = tf.random.normal((imgs.shape[0], self.noise_latent_dim))\n",
    "        \n",
    "        with tf.GradientTape() as g_tape, tf.GradientTape() as d_tape:\n",
    "            g_z_1 = self.g(noise_input1)\n",
    "            g_z_2 = self.g(noise_input2)\n",
    "            \n",
    "            d_x_data = self.d(imgs)\n",
    "            d_g_z_1 = self.d(g_z_1)\n",
    "            d_g_z_2 = self.d(g_z_2)\n",
    "            \n",
    "            epsi = tf.random.uniform([imgs.shape[0], 1, 1, 1], 0.0, 1.0)\n",
    "            x_it = tf.math.add(epsi*imgs, (1.0-epsi)*g_z_1)\n",
    "            g_loss, d_loss = self.cramer_loss(d_x_data, d_g_z_1, d_g_z_2, x_it, update_gen)\n",
    "\n",
    "        if update_gen:\n",
    "            grad_g = g_tape.gradient(g_loss, self.g.trainable_variables)\n",
    "            grad_d = d_tape.gradient(d_loss, self.d.trainable_variables)\n",
    "\n",
    "            self.g_opt.apply_gradients(zip(grad_g, self.g.trainable_variables))\n",
    "            self.d_opt.apply_gradients(zip(grad_d, self.d.trainable_variables))\n",
    "        else:\n",
    "            grad_d = d_tape.gradient(d_loss, self.d.trainable_variables)\n",
    "            self.d_opt.apply_gradients(zip(grad_d, self.d.trainable_variables))\n",
    "            \n",
    "        return g_loss, d_loss\n",
    "        \n",
    "    def train(self, epochs=250, train_moni_path=None):\n",
    "        num_training = 0\n",
    "        for epo in range(epochs):\n",
    "            g_losses = []\n",
    "            d_losses = []\n",
    "            for img_b, l_b in self.dataset:\n",
    "                if self.num_channel == 1 and img_b.shape[-1] == 3:\n",
    "                    img_b = tf.image.rgb_to_grayscale(img_b)\n",
    "                norm_img_b = (img_b-127.5)/127.5\n",
    "                if num_training%self.disc_update_multi == 0:\n",
    "                    g_l, d_l = self.update(norm_img_b, True)\n",
    "                    g_losses.append(g_l.numpy())\n",
    "                    d_losses.append(d_l.numpy())\n",
    "                    \n",
    "                else:\n",
    "                    g_l, d_l = self.update(norm_img_b, False)\n",
    "                    d_losses.append(d_l.numpy())\n",
    "                    \n",
    "                num_training = (num_training+1)%self.disc_update_multi\n",
    "                \n",
    "            print(\"Epoch {:04d}\".format(epo), \"Generator Avg. Loss: \", np.mean(g_losses), \n",
    "                  \", Discriminator Avg. Loss: \",  np.mean(d_losses), flush=True)\n",
    "                \n",
    "            if not train_moni_path == None:\n",
    "                self.monitor_progress(epo, train_moni_path)\n",
    "            \n",
    "    def monitor_progress(self, epo, path):\n",
    "        pics = self.g(self.g_seed)\n",
    "        \n",
    "        fig = plt.figure(figsize=(4,4))\n",
    "        for i in range(pics.shape[0]):\n",
    "            plt.subplot(4,4,i+1)\n",
    "            if self.num_channel == 1:\n",
    "                plt.imshow(pics[i,:,:,0], cmap='gray')\n",
    "            else:   \n",
    "                plt.imshow(tf.cast(tf.math.round(pics[i,:,:,:]*127.5+127.5), tf.int32))\n",
    "            plt.axis('off')\n",
    "            \n",
    "        plt.savefig(path+'/image_{:04d}.png'.format(epo))\n",
    "#         plt.savefig('/home/tony/TO_BE_REMOVED/imgs/image_{:04d}.png'.format(epo))\n",
    "        # NEEDS to be changed for machines\n",
    "        \n",
    "        plt.close('all')\n",
    "        \n",
    "    def save_weights(self, g_path, d_path):\n",
    "        self.g.save_weights(g_path)\n",
    "        print(\"Saved generator weights\", flush=True)\n",
    "        self.d.save_weights(d_path)\n",
    "        print(\"Saved discriminator weights\", flush=True)\n",
    "    def load_weights(self, g_path, d_path):\n",
    "        try:\n",
    "            self.g.load_weights(g_path).expect_partial()\n",
    "            print(\"Loaded generator weights\", flush=True)\n",
    "            self.d.load_weights(d_path).expect_partial()\n",
    "            print(\"Loaded discriminator weights\", flush=True)\n",
    "        except ValueError:\n",
    "            print(\"ERROR: Please make sure weights are saved as .ckpt\", flush=True)\n",
    "    \n",
    "    def generate_samples(self, num_sam, path):\n",
    "        sam_seed = tf.random.normal((num_sam, self.noise_latent_dim))\n",
    "        sam_pics = self.g(sam_seed)\n",
    "        for i in range(sam_pics.shape[0]):\n",
    "            if self.num_channel == 1:\n",
    "                plt.imshow(sam_pics[i,:,:,0], cmap='gray')\n",
    "            else:   \n",
    "                plt.imshow(tf.cast(tf.math.round(sam_pics[i,:,:,:]*127.5+127.5), tf.int32))\n",
    "            plt.axis('off')\n",
    "            plt.savefig(path+'/image_{:04d}.png'.format(i))\n",
    "            plt.close('all')\n",
    "            "
   ]
  },
  {
   "cell_type": "markdown",
   "metadata": {},
   "source": [
    "#### Testing"
   ]
  },
  {
   "cell_type": "code",
   "execution_count": 47,
   "metadata": {},
   "outputs": [],
   "source": [
    "ds_path = \"/Users/anthonylaw/Desktop/Endless/GAN-devel/mnist_ds/mnist_jpg/training\""
   ]
  },
  {
   "cell_type": "code",
   "execution_count": 48,
   "metadata": {},
   "outputs": [
    {
     "name": "stdout",
     "output_type": "stream",
     "text": [
      "Found 60000 files belonging to 10 classes.\n"
     ]
    }
   ],
   "source": [
    "dcgan1 = DCGAN(ds_path, (32, 32), 1, 25, disc_update_multi=1)"
   ]
  },
  {
   "cell_type": "code",
   "execution_count": 49,
   "metadata": {
    "scrolled": false
   },
   "outputs": [
    {
     "name": "stdout",
     "output_type": "stream",
     "text": [
      "Epoch 0000 Generator Avg. Loss:  18.71285 , Discriminator Avg. Loss:  -13.069563\n",
      "Saved generator weights\n",
      "Saved discriminator weights\n"
     ]
    }
   ],
   "source": [
    "dcgan1.train(1,'./imgs')\n",
    "dcgan1.save_weights('./weights/g_test.ckpt', './weights/d_test.ckpt')"
   ]
  },
  {
   "cell_type": "code",
   "execution_count": 50,
   "metadata": {},
   "outputs": [
    {
     "name": "stdout",
     "output_type": "stream",
     "text": [
      "Loaded generator weights\n",
      "Loaded discriminator weights\n"
     ]
    }
   ],
   "source": [
    "dcgan1.load_weights('./weights/g_test.ckpt', './weights/d_test.ckpt')"
   ]
  },
  {
   "cell_type": "code",
   "execution_count": 51,
   "metadata": {},
   "outputs": [],
   "source": [
    "dcgan1.generate_samples(10, './samples/0')"
   ]
  },
  {
   "cell_type": "code",
   "execution_count": 52,
   "metadata": {},
   "outputs": [
    {
     "name": "stdout",
     "output_type": "stream",
     "text": [
      "Found 60000 files belonging to 10 classes.\n"
     ]
    }
   ],
   "source": [
    "dcgan2 = DCGAN(ds_path, (32, 32), 1, 25, disc_update_multi=1)"
   ]
  },
  {
   "cell_type": "code",
   "execution_count": 53,
   "metadata": {},
   "outputs": [
    {
     "name": "stdout",
     "output_type": "stream",
     "text": [
      "Loaded generator weights\n",
      "Loaded discriminator weights\n"
     ]
    }
   ],
   "source": [
    "dcgan2.load_weights('./weights/g_test.ckpt', './weights/d_test.ckpt')"
   ]
  },
  {
   "cell_type": "code",
   "execution_count": 54,
   "metadata": {},
   "outputs": [
    {
     "name": "stdout",
     "output_type": "stream",
     "text": [
      "Epoch 0000 Generator Avg. Loss:  17.505833 , Discriminator Avg. Loss:  -10.993472\n"
     ]
    }
   ],
   "source": [
    "dcgan2.train(1, './imgs')"
   ]
  },
  {
   "cell_type": "code",
   "execution_count": 55,
   "metadata": {},
   "outputs": [
    {
     "name": "stdout",
     "output_type": "stream",
     "text": [
      "Saved generator weights\n",
      "Saved discriminator weights\n"
     ]
    }
   ],
   "source": [
    "dcgan2.save_weights('./weights/g_test.ckpt', './weights/d_test.ckpt')"
   ]
  },
  {
   "cell_type": "code",
   "execution_count": 56,
   "metadata": {},
   "outputs": [
    {
     "name": "stdout",
     "output_type": "stream",
     "text": [
      "Loaded generator weights\n",
      "Loaded discriminator weights\n"
     ]
    }
   ],
   "source": [
    "dcgan1.load_weights('./weights/g_test.ckpt', './weights/d_test.ckpt')"
   ]
  },
  {
   "cell_type": "code",
   "execution_count": 58,
   "metadata": {},
   "outputs": [
    {
     "name": "stdout",
     "output_type": "stream",
     "text": [
      "WARNING: Dataset not loaded, Model in Generator mode\n"
     ]
    }
   ],
   "source": [
    "dcgan3 = DCGAN(None, (32, 32), 1, 25, disc_update_multi=1)"
   ]
  },
  {
   "cell_type": "code",
   "execution_count": 60,
   "metadata": {},
   "outputs": [
    {
     "name": "stdout",
     "output_type": "stream",
     "text": [
      "Loaded generator weights\n",
      "Loaded discriminator weights\n"
     ]
    }
   ],
   "source": [
    "dcgan3.load_weights('./weights/g_test.ckpt', './weights/d_test.ckpt')"
   ]
  },
  {
   "cell_type": "code",
   "execution_count": 61,
   "metadata": {},
   "outputs": [],
   "source": [
    "dcgan3.generate_samples(10, './samples/1')"
   ]
  },
  {
   "cell_type": "code",
   "execution_count": null,
   "metadata": {},
   "outputs": [],
   "source": []
  }
 ],
 "metadata": {
  "kernelspec": {
   "display_name": "Python 3 (ipykernel)",
   "language": "python",
   "name": "python3"
  },
  "language_info": {
   "codemirror_mode": {
    "name": "ipython",
    "version": 3
   },
   "file_extension": ".py",
   "mimetype": "text/x-python",
   "name": "python",
   "nbconvert_exporter": "python",
   "pygments_lexer": "ipython3",
   "version": "3.8.13"
  }
 },
 "nbformat": 4,
 "nbformat_minor": 4
}
